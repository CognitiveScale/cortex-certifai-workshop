{
 "cells": [
  {
   "cell_type": "markdown",
   "metadata": {},
   "source": [
    "# Part 3: Running Cortex Certifai Scan on models deployed as service on Certifai Pro\n",
    "\n",
    "# Typical flow for a Data Scientist and ML Engineer during Development when they want to delegate the Scan activity with larger dataset and scan.\n",
    "\n",
    "- Detailed analysis\n",
    "- Setup Baseline"
   ]
  },
  {
   "cell_type": "markdown",
   "metadata": {},
   "source": [
    "## Documentation\n",
    "\n",
    "Visit the Certifai Documentation here https://cognitivescale.github.io/cortex-certifai/docs/about\n",
    "\n",
    "## Prerequisites\n",
    "\n",
    "Note: Please complete **part2_certifai_workshop_scan_registered_models.ipynb** and obtain **Service keys and Endpoints** to continue.\n"
   ]
  },
  {
   "cell_type": "code",
   "execution_count": 1,
   "metadata": {},
   "outputs": [
    {
     "data": {
      "text/plain": [
       "'/Users/skottaram/Documents/runtimes/certifai_toolkit_1.3.3'"
      ]
     },
     "execution_count": 1,
     "metadata": {},
     "output_type": "execute_result"
    }
   ],
   "source": [
    "from pathlib import Path\n",
    "pwd = !pwd\n",
    "my_path = str(Path(pwd[0]).parents[0])\n",
    "certifai_toolkit_path = my_path  + '/certifai_toolkit_1.3.3'\n",
    "certifai_toolkit_path"
   ]
  },
  {
   "cell_type": "markdown",
   "metadata": {},
   "source": [
    "## 1. Test the two Models deployed in ACI (AZURE CONTAINER INSTANCE) \n",
    "The following cells load sample data and test the Service Keys and Endpoints obtained from `part2_certifai_workshop_scan_registered_models.ipynb`"
   ]
  },
  {
   "cell_type": "code",
   "execution_count": 2,
   "metadata": {},
   "outputs": [],
   "source": [
    "service_logistic_uri  = 'replace'\n",
    "service_logistic_key  = 'replace'\n",
    "\n",
    "service_svm_uri       = 'replace'\n",
    "service_svm_key       = 'replace'"
   ]
  },
  {
   "cell_type": "code",
   "execution_count": 3,
   "metadata": {},
   "outputs": [
    {
     "data": {
      "text/plain": [
       "'{\"payload\": {\"instances\": [[\"... < 0 DM\", 6, \"critical account/ other credits existing (not at this bank)\", \"radio/television\", 1169, \"unknown/ no savings account\", \".. >= 7 years\", 4, \"male : single\", \"others - none\", 4, \"real estate\", \"> 25 years\", \"none\", \"own\", 2, \"skilled employee / official\", 1, \"phone - yes, registered under the customers name\", \"foreign - yes\"]]}}'"
      ]
     },
     "execution_count": 3,
     "metadata": {},
     "output_type": "execute_result"
    }
   ],
   "source": [
    "# create json test data sample(from csv)\n",
    "\n",
    "import json\n",
    "sample_input = json.dumps({\n",
    "\"payload\": {\n",
    "    \"instances\": [\n",
    "        [\n",
    "            \"... < 0 DM\",\n",
    "            6,\n",
    "            \"critical account/ other credits existing (not at this bank)\",\n",
    "            \"radio/television\",\n",
    "            1169,\n",
    "            \"unknown/ no savings account\",\n",
    "            \".. >= 7 years\",\n",
    "            4,\n",
    "            \"male : single\",\n",
    "            \"others - none\",\n",
    "            4,\n",
    "            \"real estate\",\n",
    "            \"> 25 years\",\n",
    "            \"none\",\n",
    "            \"own\",\n",
    "            2,\n",
    "            \"skilled employee / official\",\n",
    "            1,\n",
    "            \"phone - yes, registered under the customers name\",\n",
    "            \"foreign - yes\"\n",
    "        ]\n",
    "    ]\n",
    "}\n",
    "})\n",
    "sample_input"
   ]
  },
  {
   "cell_type": "code",
   "execution_count": 4,
   "metadata": {},
   "outputs": [
    {
     "name": "stdout",
     "output_type": "stream",
     "text": [
      "SVM Model Endpoint Inference Test\n",
      "200\n",
      "0:00:00.150167\n",
      "{'payload': {'predictions': [1]}}\n",
      "Logistic Regression Model Endpoint Inference Test\n",
      "200\n",
      "0:00:00.146625\n",
      "{'payload': {'predictions': [1]}}\n"
     ]
    }
   ],
   "source": [
    "import requests\n",
    "import json\n",
    "\n",
    "headers_svm = {\n",
    "    'Content-Type': 'application/json',\n",
    "    'Authorization': f'Bearer {service_svm_key}'          \n",
    "          }\n",
    "headers_logistic = {\n",
    "    'Content-Type': 'application/json',\n",
    "    'Authorization': f'Bearer {service_logistic_key}'          \n",
    "          }\n",
    "\n",
    "response = requests.post(\n",
    "    service_svm_uri, data=sample_input, headers=headers_svm)\n",
    "print('SVM Model Endpoint Inference Test')\n",
    "print(response.status_code)\n",
    "print(response.elapsed)\n",
    "print(response.json())\n",
    "\n",
    "print('Logistic Regression Model Endpoint Inference Test')\n",
    "response = requests.post(\n",
    "    service_logistic_uri, data=sample_input, headers=headers_logistic)\n",
    "print(response.status_code)\n",
    "print(response.elapsed)\n",
    "print(response.json())"
   ]
  },
  {
   "cell_type": "markdown",
   "metadata": {},
   "source": [
    "## 2. Use Cortex Certifai Client CLI to Configure Remote Certifai Pro VM\n",
    "Use the `certifai` CLI tool to configure remote access to the Certifai Pro VM\n",
    "\n",
    "**Note:** Download certifai-kubeconfig.json from your instance of Certifai Pro.\n",
    "Log into your console and look for \"Download kubeconfig\" option in the toolbar.\n",
    "\n",
    "detailed instructions available here:\n",
    "https://cognitivescale.github.io/cortex-certifai/docs/platforms/azure/azure-setup\n",
    "\n",
    "#### CLI commands\n",
    "\n",
    "```\n",
    "# remove flower brackets if not in a jupyter notebook cell\n",
    "certifai remote config --file certifai-kubeconfig.json --alias {remote_alias} \n",
    "```"
   ]
  },
  {
   "cell_type": "code",
   "execution_count": 5,
   "metadata": {},
   "outputs": [
    {
     "name": "stdout",
     "output_type": "stream",
     "text": [
      "\n",
      "Checking for access to Kubernetes cluster with context - certifai-pro\n",
      "Connection to cluster succeeded, found API - v1\n",
      "Updating alias - cpro-az\n",
      "Configuration updated from - certifai-kubeconfig.json\n"
     ]
    }
   ],
   "source": [
    "remote_alias = 'cpro-az'\n",
    "!certifai remote config --file certifai-kubeconfig.json --alias {remote_alias}"
   ]
  },
  {
   "cell_type": "markdown",
   "metadata": {},
   "source": [
    "## 3. Construct Certifai Scan Definitions for Binary Classification models\n",
    "\n",
    "Use the `certifai-scanner` python package to build a scan definition for the SVM and Logistic Regression models (via the Service Endpoints created earlier).\n",
    "\n",
    "Configure scan definition parameters include (mandatory):\n",
    "\n",
    "1. Prediction Task Outcomes and Values\n",
    "2. Model Details (names, endpoints and more)\n",
    "3. Datasets to evaluate the models on\n",
    "\n",
    "Configure optional scan definition parameters that depend on the desired evaluation reports. Evaluation types include:\n",
    "\n",
    "1. Fairness\n",
    "2. Robustness\n",
    "3. Explainability"
   ]
  },
  {
   "cell_type": "code",
   "execution_count": 6,
   "metadata": {},
   "outputs": [
    {
     "name": "stdout",
     "output_type": "stream",
     "text": [
      "Certifai version: 1.3.3\r\n",
      "Scanner build: 1.3.3-159-ga98e943b\r\n"
     ]
    }
   ],
   "source": [
    "# make sure certifai package was installed correctly\n",
    "!certifai --version"
   ]
  },
  {
   "cell_type": "code",
   "execution_count": 7,
   "metadata": {},
   "outputs": [],
   "source": [
    "# necessary imports for creating a scan\n",
    "\n",
    "from certifai.scanner.builder import (CertifaiScanBuilder, CertifaiModel, CertifaiModelMetric,\n",
    "                                      CertifaiDataset, CertifaiGroupingFeature, CertifaiDatasetSource,\n",
    "                                      CertifaiPredictionTask, CertifaiTaskOutcomes, CertifaiOutcomeValue)\n",
    "from certifai.scanner.report_utils import scores, construct_scores_dataframe\n"
   ]
  },
  {
   "cell_type": "markdown",
   "metadata": {},
   "source": [
    "### Define Cortex Certifai Task Type\n",
    "\n",
    "- `CertifaiTaskOutcomes` : Cortex Certifai supports classification as well as regression models. The task type of this tutorial is binary-classification (e.g. predicting whether a loan should be granted or not)\n",
    "- `CertifaiOutcomeValue` : Define the different outcomes possible from the model predictions. These models predict either 1(loan granted) or 2(loan denied)\n",
    "\n",
    "**NOTE**: Please refer to [Certifai Api Docs](https://cognitivescale.github.io/cortex-certifai/certifai-api-ref/certifai.scanner.builder.html) for more details"
   ]
  },
  {
   "cell_type": "code",
   "execution_count": 28,
   "metadata": {},
   "outputs": [
    {
     "data": {
      "text/plain": [
       "<certifai.scanner.builder.CertifaiScanBuilder at 0x7f8420bf7be0>"
      ]
     },
     "execution_count": 28,
     "metadata": {},
     "output_type": "execute_result"
    }
   ],
   "source": [
    "# Create the scan object from scratch using the ScanBuilder class with tasks and outcomes\n",
    "\n",
    "# First define the possible prediction outcomes\n",
    "task = CertifaiPredictionTask(CertifaiTaskOutcomes.classification(\n",
    "    [\n",
    "        CertifaiOutcomeValue(1, name='Loan granted', favorable=True),\n",
    "        CertifaiOutcomeValue(2, name='Loan denied')\n",
    "    ]),\n",
    "    prediction_description='Determine whether a loan should be granted')\n",
    "\n",
    "#  create a certifai scan object and add the certifai task created above\n",
    "scan = CertifaiScanBuilder.create('certifai_pro_demo',\n",
    "                                  prediction_task=task)\n",
    "\n",
    "scan"
   ]
  },
  {
   "cell_type": "markdown",
   "metadata": {},
   "source": [
    "### Add Logistic and SVM Models to the Scan definition\n",
    "\n",
    "Additional parameters that maybe provided to the `CertifaiModel` class can be gleaned from the [API Reference for CertifaiModel](https://cognitivescale.github.io/cortex-certifai/certifai-api-ref-1.2.14/certifai.scanner.builder.html#certifai.scanner.builder.CertifaiModel)\n",
    "\n",
    "or `?CertifaiModel`"
   ]
  },
  {
   "cell_type": "code",
   "execution_count": 29,
   "metadata": {},
   "outputs": [],
   "source": [
    "# Create a Certifai Model Object using the web service (from earlier) by passing the deployed web service url\n",
    "first_model = CertifaiModel('SVM',\n",
    "                            predict_endpoint=service_svm_uri)\n",
    "scan.add_model(first_model)\n",
    "\n",
    "second_model = CertifaiModel('logistic',\n",
    "                            predict_endpoint=service_logistic_uri)\n",
    "scan.add_model(second_model)\n",
    "\n",
    "# Add corresponding model headers for service authentication and content-type\n",
    "\n",
    "# add the default headers applicable to all models\n",
    "scan.add_model_header(header_name='Content-Type',header_value='application/json')\n",
    "\n",
    "# add defined headers corresponding to auth keys for respective model services\n",
    "scan.add_model_header(header_name='Authorization', header_value=f'Bearer {service_svm_key}', model_id='SVM')\n",
    "scan.add_model_header(header_name='Authorization', header_value=f'Bearer {service_logistic_key}', model_id='logistic')\n",
    "\n"
   ]
  },
  {
   "cell_type": "markdown",
   "metadata": {},
   "source": [
    "## 4. Uploading Required Datasets into the Azure Storage Account Container\n",
    "\n",
    "Use the `azure-storage-blob` python package to upload the evaluation dataset for the Certifai scan to the Azure storage account blob container configured in Step 1 of the Certifai Pro VM setup process"
   ]
  },
  {
   "cell_type": "markdown",
   "metadata": {},
   "source": [
    "### Upload the Dataset to Azure Blob Storage\n",
    "\n",
    "Get the connection string for the storage account that holds the container called {az_container_name} in the cell below. You can obtain the connection string by following the [Azure guide here](https://docs.microsoft.com/en-us/azure/storage/common/storage-configure-connection-string).\n",
    "\n",
    "Ensure that the storage account and container used here match the values you used at the beginning of this notebook to setup your Certifai Pro instance."
   ]
  },
  {
   "cell_type": "markdown",
   "metadata": {},
   "source": [
    "You can get storage blob credentials by visiting Access keys -> Connection String from your Storage Account's page on the Azure Portal."
   ]
  },
  {
   "cell_type": "code",
   "execution_count": null,
   "metadata": {},
   "outputs": [],
   "source": [
    "# upload our eval dataset to the blob storage container\n",
    "az_container_name = 'replace' # this container should already exist. You can create one from the Azure Portal\n",
    "\n",
    "import os, uuid\n",
    "from azure.storage.blob import BlobServiceClient, BlobClient, ContainerClient\n",
    "\n",
    "# set credentials for azure storage account\n",
    "az_credentials = 'connectionString'\n",
    "\n",
    "\n",
    "client = BlobServiceClient.from_connection_string(az_credentials)\n",
    "german_credit_eval_data_file = \"data/german_credit_eval.csv\"\n",
    "az_german_credit_blob_name = 'az-pro-example/german_credit_eval.csv'\n",
    "\n",
    "# upload our evaluation dataset to an Azure Blob Storage Account Container.\n",
    "blob_client = client.get_blob_client(container=az_container_name, blob=az_german_credit_blob_name)\n",
    "with open(german_credit_eval_data_file, 'rb') as f:\n",
    "    blob_client.upload_blob(f)"
   ]
  },
  {
   "cell_type": "markdown",
   "metadata": {},
   "source": [
    "### Add the Evaluation Dataset to Scan Definition\n",
    "\n",
    "Add the evaluation dataset to be used by Cortex Certifai to evaluate the model against the scan definition"
   ]
  },
  {
   "cell_type": "code",
   "execution_count": 31,
   "metadata": {},
   "outputs": [],
   "source": [
    "# create an evaluation object and pass the evaluation dataset(csv) here \n",
    "eval_dataset = CertifaiDataset('evaluation',\n",
    "                               CertifaiDatasetSource.csv(url=f'abfs://{az_container_name}/{az_german_credit_blob_name}'))\n",
    "scan.add_dataset(eval_dataset)"
   ]
  },
  {
   "cell_type": "markdown",
   "metadata": {},
   "source": [
    "### Configure Model Fairness Evaluation\n",
    "\n",
    "- Add `fairness` as an evaluation type to the scan object\n",
    "- Create an `evaluation_dataset_id` to refer to the added evaluation datset"
   ]
  },
  {
   "cell_type": "code",
   "execution_count": 32,
   "metadata": {},
   "outputs": [],
   "source": [
    "# Setup an evaluation for fairness on the above dataset using the model\n",
    "# We'll look at disparity between groups defined by marital status and age\n",
    "scan.add_fairness_grouping_feature(CertifaiGroupingFeature('age'))\n",
    "scan.add_fairness_grouping_feature(CertifaiGroupingFeature('status'))\n",
    "scan.add_evaluation_type('fairness')\n",
    "scan.evaluation_dataset_id = 'evaluation'"
   ]
  },
  {
   "cell_type": "code",
   "execution_count": 33,
   "metadata": {},
   "outputs": [],
   "source": [
    "# Because the dataset contains a ground truth outcome column which the model does not\n",
    "# expect to receive as input we need to state that in the dataset schema (since it cannot\n",
    "# be inferred from the CSV)\n",
    "scan.dataset_schema.outcome_feature_name = 'outcome'"
   ]
  },
  {
   "cell_type": "markdown",
   "metadata": {},
   "source": [
    "### Add Authorization Parameters to the Models\n",
    "Use the following code block to update the scan definition that you constructed in the steps above with authorization headers needed to invoke your Azure hosted model endpoints"
   ]
  },
  {
   "cell_type": "code",
   "execution_count": 34,
   "metadata": {},
   "outputs": [],
   "source": [
    "local_scan_definition_file = 'data/german_credit_scan_definition.yaml'\n",
    "model_headers_template = f\"\"\"\n",
    "model_headers:\n",
    "  default:\n",
    "  - name: Content-Type\n",
    "    value: application/json\n",
    "  - name: accept\n",
    "    value: application/json\n",
    "  defined:\n",
    "  - model_id: SVM\n",
    "    name: Authorization\n",
    "    value: Bearer {service_svm_key}\n",
    "  - model_id: logistic\n",
    "    name: Authorization\n",
    "    value: Bearer {service_logistic_key}\n",
    "\"\"\"\n",
    "\n",
    "with open(local_scan_definition_file, 'w') as f:\n",
    "    scan.save(f)\n",
    "# we also need to add the model headers section separately\n",
    "with open(local_scan_definition_file, 'a') as f:\n",
    "    f.write(model_headers_template)"
   ]
  },
  {
   "cell_type": "markdown",
   "metadata": {},
   "source": [
    "## 5. Run a Remote Scan on Certifai Pro"
   ]
  },
  {
   "cell_type": "code",
   "execution_count": 35,
   "metadata": {},
   "outputs": [
    {
     "name": "stdout",
     "output_type": "stream",
     "text": [
      "Created certifai scan ID 11d4c78c9a1a\r\n"
     ]
    }
   ],
   "source": [
    "reports_folder = f'abfs://{az_container_name}'\n",
    "# run a remote scan\n",
    "!certifai remote scan --alias cpro-az --definition-file data/german_credit_scan_definition.yaml --output {reports_folder}"
   ]
  },
  {
   "cell_type": "markdown",
   "metadata": {},
   "source": [
    "### Get Logs of the Remote Scan"
   ]
  },
  {
   "cell_type": "code",
   "execution_count": 43,
   "metadata": {},
   "outputs": [
    {
     "name": "stdout",
     "output_type": "stream",
     "text": [
      "2020-08-05 00:17:13,892 - root - INFO - Reading default config (fallback) from: /opt/app-root/lib/python3.6/site-packages/certifai/common/utils/default_certifai_config.ini\r\n",
      "2020-08-05 00:17:13,892 - root - INFO - Read config marker: config['default']['marker'] = 0.1\r\n",
      "2020-08-05 00:17:14,694 - root - INFO - Validating license...\r\n",
      "2020-08-05 00:17:14,694 - root - INFO - License is valid - expires: n/a\r\n",
      "2020-08-05 00:17:14,710 - root - INFO - Generated unique scan id: 7178b79af767\r\n",
      "2020-08-05 00:17:14,710 - root - INFO - Validating input data...\r\n",
      "2020-08-05 00:17:14,711 - root - INFO - Creating dataset with id: evaluation\r\n",
      "2020-08-05 00:17:14,712 - azure.storage.common.storageclient - INFO - Client-Request-ID=03a80cba-d6b1-11ea-99a8-dea3e4cc26ae Outgoing request: Method=GET, Path=/certifai01302, Query={'restype': 'container', 'comp': 'list', 'prefix': 'az-pro-example', 'delimiter': '/', 'marker': None, 'maxresults': None, 'include': None, 'timeout': None}, Headers={'x-ms-version': '2019-02-02', 'User-Agent': 'Azure-Storage/2.1.0-2.1.0 (Python CPython 3.6.8; Linux 5.3.0-1028-azure)', 'x-ms-client-request-id': '03a80cba-d6b1-11ea-99a8-dea3e4cc26ae', 'x-ms-date': 'Wed, 05 Aug 2020 00:17:14 GMT', 'Authorization': 'REDACTED'}.\r\n",
      "2020-08-05 00:17:14,768 - azure.storage.common.storageclient - INFO - Client-Request-ID=03a80cba-d6b1-11ea-99a8-dea3e4cc26ae Receiving Response: Server-Timestamp=Wed, 05 Aug 2020 00:17:14 GMT, Server-Request-ID=588f7424-801e-0091-64bd-6a4ffe000000, HTTP Status Code=200, Message=OK, Headers={'transfer-encoding': 'chunked', 'content-type': 'application/xml', 'server': 'Windows-Azure-Blob/1.0 Microsoft-HTTPAPI/2.0', 'x-ms-request-id': '588f7424-801e-0091-64bd-6a4ffe000000', 'x-ms-client-request-id': '03a80cba-d6b1-11ea-99a8-dea3e4cc26ae', 'x-ms-version': '2019-02-02', 'date': 'Wed, 05 Aug 2020 00:17:14 GMT'}.\r\n",
      "2020-08-05 00:17:14,768 - azure.storage.common.storageclient - INFO - Client-Request-ID=03b0a0fa-d6b1-11ea-99a8-dea3e4cc26ae Outgoing request: Method=GET, Path=/certifai01302, Query={'restype': 'container', 'comp': 'list', 'prefix': 'az-pro-example/', 'delimiter': '/', 'marker': None, 'maxresults': None, 'include': None, 'timeout': None}, Headers={'x-ms-version': '2019-02-02', 'User-Agent': 'Azure-Storage/2.1.0-2.1.0 (Python CPython 3.6.8; Linux 5.3.0-1028-azure)', 'x-ms-client-request-id': '03b0a0fa-d6b1-11ea-99a8-dea3e4cc26ae', 'x-ms-date': 'Wed, 05 Aug 2020 00:17:14 GMT', 'Authorization': 'REDACTED'}.\r\n",
      "2020-08-05 00:17:14,778 - azure.storage.common.storageclient - INFO - Client-Request-ID=03b0a0fa-d6b1-11ea-99a8-dea3e4cc26ae Receiving Response: Server-Timestamp=Wed, 05 Aug 2020 00:17:14 GMT, Server-Request-ID=588f742d-801e-0091-6bbd-6a4ffe000000, HTTP Status Code=200, Message=OK, Headers={'transfer-encoding': 'chunked', 'content-type': 'application/xml', 'server': 'Windows-Azure-Blob/1.0 Microsoft-HTTPAPI/2.0', 'x-ms-request-id': '588f742d-801e-0091-6bbd-6a4ffe000000', 'x-ms-client-request-id': '03b0a0fa-d6b1-11ea-99a8-dea3e4cc26ae', 'x-ms-version': '2019-02-02', 'date': 'Wed, 05 Aug 2020 00:17:14 GMT'}.\r\n",
      "2020-08-05 00:17:14,780 - azure.storage.common.storageclient - INFO - Client-Request-ID=03b25fc6-d6b1-11ea-99a8-dea3e4cc26ae Outgoing request: Method=GET, Path=/certifai01302/az-pro-example/german_credit_eval.csv, Query={'snapshot': None, 'timeout': None}, Headers={'x-ms-lease-id': None, 'If-Modified-Since': None, 'If-Unmodified-Since': None, 'If-Match': None, 'If-None-Match': None, 'x-ms-range': 'bytes=0-291434', 'x-ms-version': '2019-02-02', 'User-Agent': 'Azure-Storage/2.1.0-2.1.0 (Python CPython 3.6.8; Linux 5.3.0-1028-azure)', 'x-ms-client-request-id': '03b25fc6-d6b1-11ea-99a8-dea3e4cc26ae', 'x-ms-date': 'Wed, 05 Aug 2020 00:17:14 GMT', 'Authorization': 'REDACTED'}.\r\n",
      "2020-08-05 00:17:14,823 - azure.storage.common.storageclient - INFO - Client-Request-ID=03b25fc6-d6b1-11ea-99a8-dea3e4cc26ae Receiving Response: Server-Timestamp=Wed, 05 Aug 2020 00:17:14 GMT, Server-Request-ID=588f742e-801e-0091-6cbd-6a4ffe000000, HTTP Status Code=206, Message=Partial Content, Headers={'content-length': '291434', 'content-type': 'application/octet-stream', 'content-range': 'bytes 0-291433/291434', 'last-modified': 'Tue, 04 Aug 2020 23:48:47 GMT', 'accept-ranges': 'bytes', 'etag': '\"0x8D838D0EE3EFC50\"', 'server': 'Windows-Azure-Blob/1.0 Microsoft-HTTPAPI/2.0', 'x-ms-request-id': '588f742e-801e-0091-6cbd-6a4ffe000000', 'x-ms-client-request-id': '03b25fc6-d6b1-11ea-99a8-dea3e4cc26ae', 'x-ms-version': '2019-02-02', 'x-ms-creation-time': 'Tue, 04 Aug 2020 23:48:47 GMT', 'x-ms-blob-content-md5': '9Zxif4ZfTJLWz+dmpHCZMA==', 'x-ms-lease-status': 'unlocked', 'x-ms-lease-state': 'available', 'x-ms-blob-type': 'BlockBlob', 'x-ms-server-encrypted': 'true', 'date': 'Wed, 05 Aug 2020 00:17:14 GMT'}.\r\n",
      "2020-08-05 00:17:14,850 - root - INFO - Inferring dataset features and applying user overrides\r\n",
      "2020-08-05 00:17:14,851 - root - INFO - Integer-valued feature 'duration' inferred to be numeric (sample cardinality 33)\r\n",
      "2020-08-05 00:17:14,853 - root - INFO - Integer-valued feature 'amount' inferred to be numeric (sample cardinality 921)\r\n",
      "2020-08-05 00:17:14,854 - root - INFO - Integer-valued feature 'installment' inferred to be categorical (sample cardinality 4)\r\n",
      "2020-08-05 00:17:14,855 - root - INFO - Integer-valued feature 'residence' inferred to be categorical (sample cardinality 4)\r\n",
      "2020-08-05 00:17:14,857 - root - INFO - Integer-valued feature 'cards' inferred to be categorical (sample cardinality 4)\r\n",
      "2020-08-05 00:17:14,858 - root - INFO - Integer-valued feature 'liable' inferred to be categorical (sample cardinality 2)\r\n",
      "2020-08-05 00:17:14,859 - root - INFO - Integer-valued feature 'outcome' inferred to be categorical (sample cardinality 2)\r\n",
      "2020-08-05 00:17:14,861 - root - INFO - Couldn't find column by label as index: `outcome`, in df.columns: `Index(['checkingstatus', 'duration', 'history', 'purpose', 'amount', 'savings',\r\n",
      "       'employ', 'installment', 'status', 'others', 'residence', 'property',\r\n",
      "       'age', 'otherplans', 'housing', 'cards', 'job', 'liable', 'telephone',\r\n",
      "       'foreign'],\r\n",
      "      dtype='object')`.\r\n",
      "2020-08-05 00:17:14,861 - root - INFO - Inferring dataset features and applying user overrides\r\n",
      "2020-08-05 00:17:14,862 - root - INFO - Integer-valued feature 'duration' inferred to be numeric (sample cardinality 33)\r\n",
      "2020-08-05 00:17:14,864 - root - INFO - Integer-valued feature 'amount' inferred to be numeric (sample cardinality 921)\r\n",
      "2020-08-05 00:17:14,865 - root - INFO - Integer-valued feature 'installment' inferred to be categorical (sample cardinality 4)\r\n",
      "2020-08-05 00:17:14,866 - root - INFO - Integer-valued feature 'residence' inferred to be categorical (sample cardinality 4)\r\n",
      "2020-08-05 00:17:14,868 - root - INFO - Integer-valued feature 'cards' inferred to be categorical (sample cardinality 4)\r\n",
      "2020-08-05 00:17:14,869 - root - INFO - Integer-valued feature 'liable' inferred to be categorical (sample cardinality 2)\r\n",
      "2020-08-05 00:17:14,878 - root - INFO - Input validation complete\r\n",
      "2020-08-05 00:17:14,878 - root - INFO - Starting scan with model_use_case_id: 'certifai_pro_demo' and scan_id: '11d4c78c9a1a'\r\n",
      "Starting scan with model_use_case_id: 'certifai_pro_demo' and scan_id: '11d4c78c9a1a'\r\n",
      "[--------------------] 2020-08-05 00:17:14.879016 - 0 of 2 reports (0.0% complete) - Running fairness evaluation for model: SVM\r\n",
      "2020-08-05 00:17:14,878 - root - INFO - Starting scan with model_use_case_id: 'certifai_pro_demo' and scan_id: '11d4c78c9a1a'\r\n",
      "2020-08-05 00:17:14,879 - root - INFO - Running fairness evaluation for model: SVM\r\n",
      "2020-08-05 00:17:14,899 - root - INFO - Validating license...\r\n",
      "2020-08-05 00:17:14,900 - root - INFO - License is valid - expires: n/a\r\n",
      "2020-08-05 00:17:14,901 - root - INFO - Running counterfactual analysis for multiclass classification with class structure ClassStructure.PARTITIONED (analysis = Fairness)\r\n",
      "2020-08-05 00:17:14,902 - root - INFO - Hyper-params for experiment: {'tournsize': 3, 'population': 4000, 'indpb': 0.05, 'CXPB': 0.5, 'MUTPB': 0.2, 'generation': 60, 'evolution': 100, 'N_CYCLES': 1, 'early_stopping_delta': 0.0001, 'early_stopping_epochs': 3, 'percent_class_seeding': 5, 'sampling_Z': 1.96, 'sampling_boundary': 0.1, 'sampling_min_n': 100, '2pt_orig_weight': 0.025, 'shrinkage_weight': 0.5, 'annealing_weight': 0.45, 'annealing_rate': 1.25, 'elitism': 0.04, 'dimensional_normalization': True, 'num_counterfactuals': 1, 'shap_init_with_eval': True, 'shap_num_samples': 500}\r\n",
      "2020-08-05 00:17:14,916 - root - WARNING - Insufficient examples of some fairness classes to guarantee convergence (smallest class size is for 'male : divorced/separated' with 50 samples)\r\n",
      "2020-08-05 00:17:14,923 - root - INFO - Running analysis variant 'prediction more beneficial'\r\n",
      "2020-08-05 00:17:17,524 - root - INFO - Running with explanation reduction ON\r\n",
      "2020-08-05 00:17:17,524 - root - INFO - Total dataset size is 999\r\n",
      "2020-08-05 00:18:42,239 - root - INFO - Batch run time per generation for instances 0 to 113: 0.32513\r\n",
      "2020-08-05 00:18:42,239 - root - INFO - Current max sampling error 0.3908890849110692 (max for early stop 0.05102040816326531)\r\n",
      "2020-08-05 00:18:42,240 - root - INFO - Current min non-exhausted protected class samples 25 (min for early stop 100)\r\n",
      "2020-08-05 00:19:38,715 - root - INFO - Batch run time per generation for instances 114 to 245: 0.19863\r\n",
      "2020-08-05 00:19:38,715 - root - WARNING - Examples of protected class (8, 'male : divorced/separated') exhausted before convergence after 50 samples\r\n",
      "2020-08-05 00:19:38,715 - root - INFO - Current max sampling error 0.2942698996442282 (max for early stop 0.05102040816326531)\r\n",
      "2020-08-05 00:19:38,716 - root - INFO - Current min non-exhausted protected class samples 58 (min for early stop 100)\r\n",
      "2020-08-05 00:20:31,323 - root - INFO - Batch run time per generation for instances 246 to 405: 0.17568\r\n",
      "2020-08-05 00:20:31,323 - root - WARNING - Examples of protected class (8, 'male : married/widowed') exhausted before convergence after 92 samples\r\n",
      "2020-08-05 00:20:31,324 - root - INFO - Current max sampling error 0.18953881067173065 (max for early stop 0.05102040816326531)\r\n",
      "2020-08-05 00:20:31,324 - root - INFO - Current min non-exhausted protected class samples 124 (min for early stop 100)\r\n",
      "2020-08-05 00:21:22,465 - root - INFO - Batch run time per generation for instances 406 to 497: 0.18117\r\n",
      "2020-08-05 00:21:22,466 - root - INFO - Current max sampling error 0.15204367434973068 (max for early stop 0.05102040816326531)\r\n",
      "2020-08-05 00:21:22,466 - root - INFO - Current min non-exhausted protected class samples 155 (min for early stop 100)\r\n",
      "2020-08-05 00:22:09,248 - root - INFO - Batch run time per generation for instances 498 to 648: 0.17484\r\n",
      "2020-08-05 00:22:09,248 - root - WARNING - Examples of protected class (12, '<= 25 years') exhausted before convergence after 190 samples\r\n",
      "2020-08-05 00:22:09,249 - root - INFO - Current max sampling error 0.1393366783741911 (max for early stop 0.05102040816326531)\r\n",
      "2020-08-05 00:22:09,249 - root - INFO - Current min non-exhausted protected class samples 251 (min for early stop 100)\r\n",
      "2020-08-05 00:22:59,239 - root - INFO - Batch run time per generation for instances 649 to 778: 0.17890\r\n",
      "2020-08-05 00:22:59,240 - root - INFO - Current max sampling error 0.1230257598298125 (max for early stop 0.05102040816326531)\r\n",
      "2020-08-05 00:22:59,240 - root - INFO - Current min non-exhausted protected class samples 307 (min for early stop 100)\r\n",
      "2020-08-05 00:23:48,096 - root - INFO - Batch run time per generation for instances 779 to 964: 0.17597\r\n",
      "2020-08-05 00:23:48,097 - root - WARNING - Examples of protected class (8, 'female : divorced/separated/married') exhausted before convergence after 310 samples\r\n",
      "2020-08-05 00:23:48,097 - root - INFO - Current max sampling error 0.10181724177588718 (max for early stop 0.05102040816326531)\r\n",
      "2020-08-05 00:23:48,097 - root - INFO - Current min non-exhausted protected class samples 513 (min for early stop 100)\r\n",
      "2020-08-05 00:23:58,007 - root - INFO - Batch run time per generation for instances 965 to 998: 0.17637\r\n",
      "2020-08-05 00:23:58,008 - root - WARNING - Examples of protected class (12, '> 25 years') exhausted before convergence after 809 samples\r\n",
      "2020-08-05 00:23:58,008 - root - WARNING - Examples of protected class (8, 'male : single') exhausted before convergence after 547 samples\r\n",
      "2020-08-05 00:23:58,008 - root - INFO - Early stopping after running 999 instances\r\n",
      "2020-08-05 00:23:58,018 - root - INFO - Estimating sample variance (2001 bags)\r\n",
      "2020-08-05 00:24:11,132 - root - INFO - Group Burden is [{'feature': 'age', 'groups': [{'label': '<= 25 years', 'value': 0.06228420402680084, 'value_confidence_95_lower': 0.050384465132657666, 'value_confidence_95_upper': 0.07466243225544666, 'values': [0.06228420402680084], 'values_confidence_95_lower': [0.050384465132657666], 'values_confidence_95_upper': [0.07466243225544666], 'values_names': ['burden']}, {'label': '> 25 years', 'value': 0.036279680108591714, 'value_confidence_95_lower': 0.03143935139722025, 'value_confidence_95_upper': 0.04131508806335898, 'values': [0.036279680108591714], 'values_confidence_95_lower': [0.03143935139722025], 'values_confidence_95_upper': [0.04131508806335898], 'values_names': ['burden']}]}, {'feature': 'status', 'groups': [{'label': 'female : divorced/separated/married', 'value': 0.05878541990125304, 'value_confidence_95_lower': 0.05018313419852969, 'value_confidence_95_upper': 0.06940894463673507, 'values': [0.05878541990125304], 'values_confidence_95_lower': [0.05018313419852969], 'values_confidence_95_upper': [0.06940894463673507], 'values_names': ['burden']}, {'label': 'male : divorced/separated', 'value': 0.053416562189142584, 'value_confidence_95_lower': 0.030193236714975848, 'value_confidence_95_upper': 0.08001689170600727, 'values': [0.053416562189142584], 'values_confidence_95_lower': [0.030193236714975848], 'values_confidence_95_upper': [0.08001689170600727], 'values_names': ['burden']}, {'label': 'male : married/widowed', 'value': 0.020149274261881966, 'value_confidence_95_lower': 0.011775713160371858, 'value_confidence_95_upper': 0.02964426469144986, 'values': [0.020149274261881966], 'values_confidence_95_lower': [0.011775713160371858], 'values_confidence_95_upper': [0.02964426469144986], 'values_names': ['burden']}, {'label': 'male : single', 'value': 0.03334493167544971, 'value_confidence_95_lower': 0.02778689955605806, 'value_confidence_95_upper': 0.039943081262576834, 'values': [0.03334493167544971], 'values_confidence_95_lower': [0.02778689955605806], 'values_confidence_95_upper': [0.039943081262576834], 'values_names': ['burden']}]}]\r\n",
      "2020-08-05 00:24:11,133 - root - INFO - Feature fairnesses are [{'feature': 'age', 'value': 73.7478395926712, 'value_confidence_95_lower': 64.25667520167669, 'value_confidence_95_upper': 85.18565478704394}, {'feature': 'status', 'value': 71.04706374405532, 'value_confidence_95_lower': 61.599699946791, 'value_confidence_95_upper': 79.79303800000146}]\r\n",
      "2020-08-05 00:24:11,133 - root - INFO - Model used: SVM\r\n",
      "2020-08-05 00:24:11,133 - root - INFO - CERScore is 1.0664349146611205\r\n",
      "2020-08-05 00:24:11,133 - root - INFO - NCERScore is 0.07976317774765405\r\n",
      "2020-08-05 00:24:11,133 - root - INFO - Normalization constant is 13.370015397769002\r\n",
      "2020-08-05 00:24:11,133 - root - INFO - Total run time in seconds: 403.10931301116943\r\n",
      "2020-08-05 00:24:11,133 - root - INFO - Total Samples: 2234\r\n",
      "2020-08-05 00:24:11,133 - root - INFO - Average feature reduction applied to counterfactuals: 0.0\r\n",
      "2020-08-05 00:24:11,199 - root - INFO - Creating ATX report for model: SVM\r\n",
      "2020-08-05 00:24:11,201 - root - INFO - Running fairness evaluation for model: logistic\r\n",
      "[##########----------] 2020-08-05 00:24:11.201144 - 1 of 2 reports (50.0% complete) - Running fairness evaluation for model: logistic\r\n",
      "2020-08-05 00:24:11,218 - root - INFO - Validating license...\r\n",
      "2020-08-05 00:24:11,219 - root - INFO - License is valid - expires: n/a\r\n",
      "2020-08-05 00:24:11,219 - root - INFO - Running counterfactual analysis for multiclass classification with class structure ClassStructure.PARTITIONED (analysis = Fairness)\r\n",
      "2020-08-05 00:24:11,219 - root - INFO - Hyper-params for experiment: {'tournsize': 3, 'population': 4000, 'indpb': 0.05, 'CXPB': 0.5, 'MUTPB': 0.2, 'generation': 60, 'evolution': 100, 'N_CYCLES': 1, 'early_stopping_delta': 0.0001, 'early_stopping_epochs': 3, 'percent_class_seeding': 5, 'sampling_Z': 1.96, 'sampling_boundary': 0.1, 'sampling_min_n': 100, '2pt_orig_weight': 0.025, 'shrinkage_weight': 0.5, 'annealing_weight': 0.45, 'annealing_rate': 1.25, 'elitism': 0.04, 'dimensional_normalization': True, 'num_counterfactuals': 1, 'shap_init_with_eval': True, 'shap_num_samples': 500}\r\n",
      "2020-08-05 00:24:11,234 - root - WARNING - Insufficient examples of some fairness classes to guarantee convergence (smallest class size is for 'male : divorced/separated' with 50 samples)\r\n",
      "2020-08-05 00:24:11,239 - root - INFO - Running analysis variant 'prediction more beneficial'\r\n",
      "2020-08-05 00:24:13,812 - root - INFO - Running with explanation reduction ON\r\n",
      "2020-08-05 00:24:13,812 - root - INFO - Total dataset size is 999\r\n",
      "2020-08-05 00:25:03,587 - root - INFO - Batch run time per generation for instances 0 to 110: 0.18263\r\n",
      "2020-08-05 00:25:03,587 - root - INFO - Current max sampling error 0.4024630289210843 (max for early stop 0.05102040816326531)\r\n",
      "2020-08-05 00:25:03,588 - root - INFO - Current min non-exhausted protected class samples 24 (min for early stop 100)\r\n",
      "2020-08-05 00:25:42,286 - root - INFO - Batch run time per generation for instances 111 to 204: 0.15329\r\n",
      "2020-08-05 00:25:42,286 - root - INFO - Current max sampling error 0.2647441243680838 (max for early stop 0.05102040816326531)\r\n",
      "2020-08-05 00:25:42,287 - root - INFO - Current min non-exhausted protected class samples 46 (min for early stop 100)\r\n",
      "2020-08-05 00:26:24,544 - root - INFO - Batch run time per generation for instances 205 to 360: 0.15398\r\n",
      "2020-08-05 00:26:24,544 - root - WARNING - Examples of protected class (8, 'male : divorced/separated') exhausted before convergence after 50 samples\r\n",
      "2020-08-05 00:26:24,544 - root - INFO - Current max sampling error 0.2363302036766358 (max for early stop 0.05102040816326531)\r\n",
      "2020-08-05 00:26:24,544 - root - INFO - Current min non-exhausted protected class samples 90 (min for early stop 100)\r\n",
      "2020-08-05 00:27:06,589 - root - INFO - Batch run time per generation for instances 361 to 477: 0.14931\r\n",
      "2020-08-05 00:27:06,589 - root - WARNING - Examples of protected class (8, 'male : married/widowed') exhausted before convergence after 92 samples\r\n",
      "2020-08-05 00:27:06,589 - root - INFO - Current max sampling error 0.17811111116158604 (max for early stop 0.05102040816326531)\r\n",
      "2020-08-05 00:27:06,589 - root - INFO - Current min non-exhausted protected class samples 149 (min for early stop 100)\r\n",
      "2020-08-05 00:27:52,391 - root - INFO - Batch run time per generation for instances 478 to 612: 0.15138\r\n",
      "2020-08-05 00:27:52,391 - root - WARNING - Examples of protected class (12, '<= 25 years') exhausted before convergence after 190 samples\r\n",
      "2020-08-05 00:27:52,391 - root - INFO - Current max sampling error 0.15015986572465007 (max for early stop 0.05102040816326531)\r\n",
      "2020-08-05 00:27:52,392 - root - INFO - Current min non-exhausted protected class samples 234 (min for early stop 100)\r\n",
      "2020-08-05 00:28:36,088 - root - INFO - Batch run time per generation for instances 613 to 762: 0.15682\r\n",
      "2020-08-05 00:28:36,088 - root - INFO - Current max sampling error 0.1347670248582772 (max for early stop 0.05102040816326531)\r\n",
      "2020-08-05 00:28:36,088 - root - INFO - Current min non-exhausted protected class samples 300 (min for early stop 100)\r\n",
      "2020-08-05 00:29:17,287 - root - INFO - Batch run time per generation for instances 763 to 928: 0.15454\r\n",
      "2020-08-05 00:29:17,288 - root - WARNING - Examples of protected class (8, 'female : divorced/separated/married') exhausted before convergence after 310 samples\r\n",
      "2020-08-05 00:29:17,288 - root - INFO - Current max sampling error 0.10974232701725359 (max for early stop 0.05102040816326531)\r\n",
      "2020-08-05 00:29:17,288 - root - INFO - Current min non-exhausted protected class samples 477 (min for early stop 100)\r\n",
      "2020-08-05 00:29:29,486 - root - INFO - Batch run time per generation for instances 929 to 998: 0.15520\r\n",
      "2020-08-05 00:29:29,486 - root - WARNING - Examples of protected class (12, '> 25 years') exhausted before convergence after 809 samples\r\n",
      "2020-08-05 00:29:29,486 - root - WARNING - Examples of protected class (8, 'male : single') exhausted before convergence after 547 samples\r\n",
      "2020-08-05 00:29:29,486 - root - INFO - Early stopping after running 999 instances\r\n",
      "2020-08-05 00:29:29,549 - root - INFO - Estimating sample variance (2001 bags)\r\n",
      "2020-08-05 00:29:42,399 - root - INFO - Group Burden is [{'feature': 'age', 'groups': [{'label': '<= 25 years', 'value': 0.06909602085000718, 'value_confidence_95_lower': 0.05706260705267434, 'value_confidence_95_upper': 0.0953689289270956, 'values': [0.06909602085000718], 'values_confidence_95_lower': [0.05706260705267434], 'values_confidence_95_upper': [0.0953689289270956], 'values_names': ['burden']}, {'label': '> 25 years', 'value': 0.0362070626367026, 'value_confidence_95_lower': 0.03164516544211605, 'value_confidence_95_upper': 0.048451181132767626, 'values': [0.0362070626367026], 'values_confidence_95_lower': [0.03164516544211605], 'values_confidence_95_upper': [0.048451181132767626], 'values_names': ['burden']}]}, {'feature': 'status', 'groups': [{'label': 'female : divorced/separated/married', 'value': 0.06345030545754116, 'value_confidence_95_lower': 0.05369381191371301, 'value_confidence_95_upper': 0.08493634400041282, 'values': [0.06345030545754116], 'values_confidence_95_lower': [0.05369381191371301], 'values_confidence_95_upper': [0.08493634400041282], 'values_names': ['burden']}, {'label': 'male : divorced/separated', 'value': 0.06475549438960601, 'value_confidence_95_lower': 0.042006648754940326, 'value_confidence_95_upper': 0.09631365276663995, 'values': [0.06475549438960601], 'values_confidence_95_lower': [0.042006648754940326], 'values_confidence_95_upper': [0.09631365276663995], 'values_names': ['burden']}, {'label': 'male : married/widowed', 'value': 0.027560294014043165, 'value_confidence_95_lower': 0.01704933733692276, 'value_confidence_95_upper': 0.04211957393564118, 'values': [0.027560294014043165], 'values_confidence_95_lower': [0.01704933733692276], 'values_confidence_95_upper': [0.04211957393564118], 'values_names': ['burden']}, {'label': 'male : single', 'value': 0.03148858142223259, 'value_confidence_95_lower': 0.026348269970137853, 'value_confidence_95_upper': 0.04276469941035285, 'values': [0.03148858142223259], 'values_confidence_95_lower': [0.026348269970137853], 'values_confidence_95_upper': [0.04276469941035285], 'values_names': ['burden']}]}]\r\n",
      "2020-08-05 00:29:42,399 - root - INFO - Feature fairnesses are [{'feature': 'age', 'value': 68.69738939065773, 'value_confidence_95_lower': 59.575041456634004, 'value_confidence_95_upper': 78.85502652592906}, {'feature': 'status', 'value': 72.25423259937497, 'value_confidence_95_lower': 62.67570097160049, 'value_confidence_95_upper': 80.58556365771462}]\r\n",
      "2020-08-05 00:29:42,400 - root - INFO - Model used: logistic\r\n",
      "2020-08-05 00:29:42,400 - root - INFO - CERScore is 1.0704357999224405\r\n",
      "2020-08-05 00:29:42,400 - root - INFO - NCERScore is 0.08008242628994712\r\n",
      "2020-08-05 00:29:42,400 - root - INFO - Normalization constant is 13.366675430721985\r\n",
      "2020-08-05 00:29:42,400 - root - INFO - Total run time in seconds: 318.32310009002686\r\n",
      "2020-08-05 00:29:42,400 - root - INFO - Total Samples: 2236\r\n",
      "2020-08-05 00:29:42,400 - root - INFO - Average feature reduction applied to counterfactuals: 0.0\r\n",
      "2020-08-05 00:29:42,454 - root - INFO - Creating ATX report for model: logistic\r\n",
      "[####################] 2020-08-05 00:29:42.455911 - 2 of 2 reports (100.0% complete) - Completed all evaluations\r\n",
      "2020-08-05 00:29:42,456 - root - INFO - Completed all evaluations\r\n",
      "2020-08-05 00:29:42,457 - root - INFO - Writing reports to /certifai01302/certifai_pro_demo\r\n",
      "2020-08-05 00:29:42,461 - azure.storage.common.storageclient - INFO - Client-Request-ID=c15989b8-d6b2-11ea-99a8-dea3e4cc26ae Outgoing request: Method=PUT, Path=/certifai01302/certifai_pro_demo/certifai-scan-20200805T002942-11d4c78c9a1a-fairness-SVM.json, Query={'timeout': None}, Headers={'x-ms-blob-type': 'BlockBlob', 'x-ms-lease-id': None, 'If-Modified-Since': None, 'If-Unmodified-Since': None, 'If-Match': None, 'If-None-Match': None, 'x-ms-access-tier': None, 'Content-Length': '21704', 'x-ms-version': '2019-02-02', 'User-Agent': 'Azure-Storage/2.1.0-2.1.0 (Python CPython 3.6.8; Linux 5.3.0-1028-azure)', 'x-ms-client-request-id': 'c15989b8-d6b2-11ea-99a8-dea3e4cc26ae', 'x-ms-date': 'Wed, 05 Aug 2020 00:29:42 GMT', 'Authorization': 'REDACTED'}.\r\n",
      "2020-08-05 00:29:42,543 - azure.storage.common.storageclient - INFO - Client-Request-ID=c15989b8-d6b2-11ea-99a8-dea3e4cc26ae Receiving Response: Server-Timestamp=Wed, 05 Aug 2020 00:29:41 GMT, Server-Request-ID=69dbab37-f01e-0050-30bf-6ae81c000000, HTTP Status Code=201, Message=Created, Headers={'content-length': '0', 'content-md5': 'u42V4jFK3K/0ALULzKR1ag==', 'last-modified': 'Wed, 05 Aug 2020 00:29:42 GMT', 'etag': '\"0x8D838D6A5960455\"', 'server': 'Windows-Azure-Blob/1.0 Microsoft-HTTPAPI/2.0', 'x-ms-request-id': '69dbab37-f01e-0050-30bf-6ae81c000000', 'x-ms-client-request-id': 'c15989b8-d6b2-11ea-99a8-dea3e4cc26ae', 'x-ms-version': '2019-02-02', 'x-ms-content-crc64': 'm6YofzZ09SI=', 'x-ms-request-server-encrypted': 'true', 'date': 'Wed, 05 Aug 2020 00:29:41 GMT'}.\r\n",
      "2020-08-05 00:29:42,549 - azure.storage.common.storageclient - INFO - Client-Request-ID=c166e216-d6b2-11ea-99a8-dea3e4cc26ae Outgoing request: Method=PUT, Path=/certifai01302/certifai_pro_demo/certifai-scan-20200805T002942-11d4c78c9a1a-fairness-logistic.json, Query={'timeout': None}, Headers={'x-ms-blob-type': 'BlockBlob', 'x-ms-lease-id': None, 'If-Modified-Since': None, 'If-Unmodified-Since': None, 'If-Match': None, 'If-None-Match': None, 'x-ms-access-tier': None, 'Content-Length': '21704', 'x-ms-version': '2019-02-02', 'User-Agent': 'Azure-Storage/2.1.0-2.1.0 (Python CPython 3.6.8; Linux 5.3.0-1028-azure)', 'x-ms-client-request-id': 'c166e216-d6b2-11ea-99a8-dea3e4cc26ae', 'x-ms-date': 'Wed, 05 Aug 2020 00:29:42 GMT', 'Authorization': 'REDACTED'}.\r\n",
      "2020-08-05 00:29:42,565 - azure.storage.common.storageclient - INFO - Client-Request-ID=c166e216-d6b2-11ea-99a8-dea3e4cc26ae Receiving Response: Server-Timestamp=Wed, 05 Aug 2020 00:29:41 GMT, Server-Request-ID=69dbab4b-f01e-0050-43bf-6ae81c000000, HTTP Status Code=201, Message=Created, Headers={'content-length': '0', 'content-md5': 'oV1kC8pmBNbi5zdntyGvXQ==', 'last-modified': 'Wed, 05 Aug 2020 00:29:42 GMT', 'etag': '\"0x8D838D6A59C9537\"', 'server': 'Windows-Azure-Blob/1.0 Microsoft-HTTPAPI/2.0', 'x-ms-request-id': '69dbab4b-f01e-0050-43bf-6ae81c000000', 'x-ms-client-request-id': 'c166e216-d6b2-11ea-99a8-dea3e4cc26ae', 'x-ms-version': '2019-02-02', 'x-ms-content-crc64': '4zZZyxO9YvM=', 'x-ms-request-server-encrypted': 'true', 'date': 'Wed, 05 Aug 2020 00:29:41 GMT'}.\r\n",
      "2020-08-05 00:29:42,566 - azure.storage.common.storageclient - INFO - Client-Request-ID=c1699aba-d6b2-11ea-99a8-dea3e4cc26ae Outgoing request: Method=PUT, Path=/certifai01302/certifai_pro_demo/certifai-scan-20200805T002942-11d4c78c9a1a-atx-SVM.json, Query={'timeout': None}, Headers={'x-ms-blob-type': 'BlockBlob', 'x-ms-lease-id': None, 'If-Modified-Since': None, 'If-Unmodified-Since': None, 'If-Match': None, 'If-None-Match': None, 'x-ms-access-tier': None, 'Content-Length': '895', 'x-ms-version': '2019-02-02', 'User-Agent': 'Azure-Storage/2.1.0-2.1.0 (Python CPython 3.6.8; Linux 5.3.0-1028-azure)', 'x-ms-client-request-id': 'c1699aba-d6b2-11ea-99a8-dea3e4cc26ae', 'x-ms-date': 'Wed, 05 Aug 2020 00:29:42 GMT', 'Authorization': 'REDACTED'}.\r\n",
      "2020-08-05 00:29:42,587 - azure.storage.common.storageclient - INFO - Client-Request-ID=c1699aba-d6b2-11ea-99a8-dea3e4cc26ae Receiving Response: Server-Timestamp=Wed, 05 Aug 2020 00:29:41 GMT, Server-Request-ID=69dbab53-f01e-0050-4bbf-6ae81c000000, HTTP Status Code=201, Message=Created, Headers={'content-length': '0', 'content-md5': '8etFGzC+vSgm0/+d8QlXQQ==', 'last-modified': 'Wed, 05 Aug 2020 00:29:42 GMT', 'etag': '\"0x8D838D6A59F06AC\"', 'server': 'Windows-Azure-Blob/1.0 Microsoft-HTTPAPI/2.0', 'x-ms-request-id': '69dbab53-f01e-0050-4bbf-6ae81c000000', 'x-ms-client-request-id': 'c1699aba-d6b2-11ea-99a8-dea3e4cc26ae', 'x-ms-version': '2019-02-02', 'x-ms-content-crc64': 'OM6CSD77gUY=', 'x-ms-request-server-encrypted': 'true', 'date': 'Wed, 05 Aug 2020 00:29:41 GMT'}.\r\n",
      "2020-08-05 00:29:42,588 - azure.storage.common.storageclient - INFO - Client-Request-ID=c16cda90-d6b2-11ea-99a8-dea3e4cc26ae Outgoing request: Method=PUT, Path=/certifai01302/certifai_pro_demo/certifai-scan-20200805T002942-11d4c78c9a1a-atx-logistic.json, Query={'timeout': None}, Headers={'x-ms-blob-type': 'BlockBlob', 'x-ms-lease-id': None, 'If-Modified-Since': None, 'If-Unmodified-Since': None, 'If-Match': None, 'If-None-Match': None, 'x-ms-access-tier': None, 'Content-Length': '905', 'x-ms-version': '2019-02-02', 'User-Agent': 'Azure-Storage/2.1.0-2.1.0 (Python CPython 3.6.8; Linux 5.3.0-1028-azure)', 'x-ms-client-request-id': 'c16cda90-d6b2-11ea-99a8-dea3e4cc26ae', 'x-ms-date': 'Wed, 05 Aug 2020 00:29:42 GMT', 'Authorization': 'REDACTED'}.\r\n",
      "2020-08-05 00:29:42,602 - azure.storage.common.storageclient - INFO - Client-Request-ID=c16cda90-d6b2-11ea-99a8-dea3e4cc26ae Receiving Response: Server-Timestamp=Wed, 05 Aug 2020 00:29:41 GMT, Server-Request-ID=69dbab5a-f01e-0050-52bf-6ae81c000000, HTTP Status Code=201, Message=Created, Headers={'content-length': '0', 'content-md5': '9Exw7cbacOveBbc1aXM39Q==', 'last-modified': 'Wed, 05 Aug 2020 00:29:42 GMT', 'etag': '\"0x8D838D6A5A2629E\"', 'server': 'Windows-Azure-Blob/1.0 Microsoft-HTTPAPI/2.0', 'x-ms-request-id': '69dbab5a-f01e-0050-52bf-6ae81c000000', 'x-ms-client-request-id': 'c16cda90-d6b2-11ea-99a8-dea3e4cc26ae', 'x-ms-version': '2019-02-02', 'x-ms-content-crc64': 'R9oPRvt86/w=', 'x-ms-request-server-encrypted': 'true', 'date': 'Wed, 05 Aug 2020 00:29:41 GMT'}.\r\n",
      "2020-08-05 00:29:42,603 - root - INFO - Writing 'usecase.yaml' for 'certifai_pro_demo'\r\n",
      "2020-08-05 00:29:42,604 - azure.storage.common.storageclient - INFO - Client-Request-ID=c16f4a1e-d6b2-11ea-99a8-dea3e4cc26ae Outgoing request: Method=PUT, Path=/certifai01302/certifai_pro_demo/usecase.yaml, Query={'timeout': None}, Headers={'x-ms-blob-type': 'BlockBlob', 'x-ms-lease-id': None, 'If-Modified-Since': None, 'If-Unmodified-Since': None, 'If-Match': None, 'If-None-Match': None, 'x-ms-access-tier': None, 'Content-Length': '141', 'x-ms-version': '2019-02-02', 'User-Agent': 'Azure-Storage/2.1.0-2.1.0 (Python CPython 3.6.8; Linux 5.3.0-1028-azure)', 'x-ms-client-request-id': 'c16f4a1e-d6b2-11ea-99a8-dea3e4cc26ae', 'x-ms-date': 'Wed, 05 Aug 2020 00:29:42 GMT', 'Authorization': 'REDACTED'}.\r\n",
      "2020-08-05 00:29:42,619 - azure.storage.common.storageclient - INFO - Client-Request-ID=c16f4a1e-d6b2-11ea-99a8-dea3e4cc26ae Receiving Response: Server-Timestamp=Wed, 05 Aug 2020 00:29:41 GMT, Server-Request-ID=69dbab5d-f01e-0050-55bf-6ae81c000000, HTTP Status Code=201, Message=Created, Headers={'content-length': '0', 'content-md5': '1hapmiMWbOanZOO2vZ/31w==', 'last-modified': 'Wed, 05 Aug 2020 00:29:42 GMT', 'etag': '\"0x8D838D6A5A4D414\"', 'server': 'Windows-Azure-Blob/1.0 Microsoft-HTTPAPI/2.0', 'x-ms-request-id': '69dbab5d-f01e-0050-55bf-6ae81c000000', 'x-ms-client-request-id': 'c16f4a1e-d6b2-11ea-99a8-dea3e4cc26ae', 'x-ms-version': '2019-02-02', 'x-ms-content-crc64': 'h/NANomH0bY=', 'x-ms-request-server-encrypted': 'true', 'date': 'Wed, 05 Aug 2020 00:29:41 GMT'}.\r\n",
      "Scan Completed\r\n",
      "\r\n",
      "====== Report Summary ======\r\n",
      "Total number of evaluations performed: 4\r\n",
      "Number of successful reports: 4\r\n",
      "Number of failed reports: 0\r\n",
      "Reports written to: abfs:/certifai01302/certifai_pro_demo\r\n",
      "Reports base folder: abfs:/certifai01302\r\n",
      "\r\n"
     ]
    }
   ],
   "source": [
    "!certifai remote logs -a cpro-az $(certifai remote list -a cpro-az | head -2 | tail -1 | cut -d' ' -f1)"
   ]
  },
  {
   "cell_type": "markdown",
   "metadata": {},
   "source": [
    "### List the Scan Jobs on the Certifai Pro Remote Instance\n",
    "Use the CLI command to list scan jobs for the configured `remote_alias`\n",
    "```\n",
    "certifai remote list -a <remote_alias>\n",
    "```"
   ]
  },
  {
   "cell_type": "code",
   "execution_count": 42,
   "metadata": {},
   "outputs": [
    {
     "name": "stdout",
     "output_type": "stream",
     "text": [
      "Scan ID        Total Reports   Completed Reports   Failed Reports   Active Reports   Progress   State      Scan Duration   \r\n",
      "11d4c78c9a1a   4               4                   0                0                100        Complete   12m32s          \r\n",
      "7c4651b38a27   4               4                   0                0                100        Complete   12m34s          \r\n",
      "c11c2873fe77   4               4                   0                0                100        Complete   11m51s          \r\n"
     ]
    }
   ],
   "source": [
    "# Check the status of the triggered remote scan job\n",
    "!certifai remote list -a cpro-az"
   ]
  },
  {
   "cell_type": "markdown",
   "metadata": {},
   "source": [
    "## View Reports from the Remote Scan\n",
    "\n",
    "Once the remote scan's `COMPLETIONS` field says `1/1`, you can configure the Certifai Console to view the reports.\n",
    "\n",
    "Go to the Certifai Console URL for the Certifai Pro VM instance you created earlier in this tutorial. \n",
    "\n",
    "1. Click the `User Icon` on the top right and select `Storage Settings` from the dropdown.\n",
    "2. Update the `Scan Directory` field to the `reports_folder` variable configured in the previous cell. Omit `abfs://` while pasting this variable's value in the `Scan Directory` field. \n",
    "3. Save your settings and wait while the page reloads and loads reports from the remote scan. The scan will be available under the name `model_auth_demo`."
   ]
  },
  {
   "cell_type": "markdown",
   "metadata": {},
   "source": [
    "\n",
    "## Resource Cleanup\n"
   ]
  },
  {
   "cell_type": "markdown",
   "metadata": {},
   "source": [
    "Delete the Certifai Pro VM instance created when you are done using it.\n",
    "\n",
    "Azure ML pre-requisites Cleanup\n",
    " - Created and registered `logistic_model_azure` and `svm_model_azure` models to your Azure workspace -> Delete these. The exact names will be available from the output of the `azure_ml_service_keys.py` script. (From when you ran it earlier)\n",
    " - Created `german-credit-logistic-service` and `german-credit-svm-service` ACI (Azure Container Instance) webservices -> Delete these. The exact names will be available from the output of the `azure_ml_service_keys` script. (From when you ran it earlier)\n",
    "\n",
    "- Once Cortex Certifai evaluation is complete, make sure to clear all Azure resources in order to avoid costs associated with running VMs and their associated resources on Azure\n",
    "- Follow the [Azure Ml resource cleanup docs][https://docs.microsoft.com/en-us/azure/machine-learning/tutorial-1st-experiment-sdk-train#clean-up-resources]"
   ]
  }
 ],
 "metadata": {
  "kernelspec": {
   "display_name": "Python (Certifai Azure Model Env 1.3.3)",
   "language": "python",
   "name": "certifai-azure-modle-env-1.3.3"
  },
  "language_info": {
   "codemirror_mode": {
    "name": "ipython",
    "version": 3
   },
   "file_extension": ".py",
   "mimetype": "text/x-python",
   "name": "python",
   "nbconvert_exporter": "python",
   "pygments_lexer": "ipython3",
   "version": "3.6.2"
  }
 },
 "nbformat": 4,
 "nbformat_minor": 4
}
