{
 "cells": [
  {
   "cell_type": "markdown",
   "metadata": {},
   "source": [
    "# Part 3: Running Cortex Certifai Scan on models deployed as service using Certifai Pro\n",
    "\n",
    "# Typical flow for a Data Scientist and ML Engineer during Development\n",
    "- Detailed analysis\n",
    "- Setup Baseline"
   ]
  },
  {
   "cell_type": "markdown",
   "metadata": {},
   "source": [
    "## Documentation\n",
    "\n",
    "Visit the Certifai Documentation here https://cognitivescale.github.io/cortex-certifai/docs/about\n",
    "\n",
    "## Prerequisites\n",
    "\n",
    "Note: Please complete **part2_certifai_workshop_scan_registered_models.ipynb** and obtain **Service keys and Endpoints** to continue.\n"
   ]
  },
  {
   "cell_type": "code",
   "execution_count": 2,
   "metadata": {},
   "outputs": [
    {
     "data": {
      "text/plain": [
       "'/mnt/batch/tasks/shared/LS_root/mounts/clusters/sko-compute-1-3-2i/code/users/skottaram/msft-workshop/certifai_toolkit_1.3.3'"
      ]
     },
     "execution_count": 2,
     "metadata": {},
     "output_type": "execute_result"
    }
   ],
   "source": [
    "from pathlib import Path\n",
    "pwd = !pwd\n",
    "my_path = str(Path(pwd[0]).parents[0])\n",
    "certifai_toolkit_path = my_path  + '/certifai_toolkit_1.3.3'\n",
    "certifai_toolkit_path"
   ]
  },
  {
   "cell_type": "markdown",
   "metadata": {},
   "source": [
    "## 1. Test the Obtained Azure ML Service URIs and Keys for Inference\n",
    "The following cells load sample data and test the Service Keys and Endpoints obtained from `part2_certifai_workshop_scan_registered_models.ipynb`"
   ]
  },
  {
   "cell_type": "code",
   "execution_count": 2,
   "metadata": {},
   "outputs": [],
   "source": [
    "service_logistic_uri  = 'REDACTED'\n",
    "service_logistic_key  = 'REDACTED'\n",
    "\n",
    "service_svm_uri       = 'REDACTED'\n",
    "service_svm_key       = 'REDACTED'"
   ]
  },
  {
   "cell_type": "code",
   "execution_count": 3,
   "metadata": {},
   "outputs": [
    {
     "data": {
      "text/plain": [
       "'{\"payload\": {\"instances\": [[\"... < 0 DM\", 6, \"critical account/ other credits existing (not at this bank)\", \"radio/television\", 1169, \"unknown/ no savings account\", \".. >= 7 years\", 4, \"male : single\", \"others - none\", 4, \"real estate\", \"> 25 years\", \"none\", \"own\", 2, \"skilled employee / official\", 1, \"phone - yes, registered under the customers name\", \"foreign - yes\"]]}}'"
      ]
     },
     "execution_count": 3,
     "metadata": {},
     "output_type": "execute_result"
    }
   ],
   "source": [
    "# create json test data sample(from csv)\n",
    "\n",
    "import json\n",
    "sample_input = json.dumps({\n",
    "\"payload\": {\n",
    "    \"instances\": [\n",
    "        [\n",
    "            \"... < 0 DM\",\n",
    "            6,\n",
    "            \"critical account/ other credits existing (not at this bank)\",\n",
    "            \"radio/television\",\n",
    "            1169,\n",
    "            \"unknown/ no savings account\",\n",
    "            \".. >= 7 years\",\n",
    "            4,\n",
    "            \"male : single\",\n",
    "            \"others - none\",\n",
    "            4,\n",
    "            \"real estate\",\n",
    "            \"> 25 years\",\n",
    "            \"none\",\n",
    "            \"own\",\n",
    "            2,\n",
    "            \"skilled employee / official\",\n",
    "            1,\n",
    "            \"phone - yes, registered under the customers name\",\n",
    "            \"foreign - yes\"\n",
    "        ]\n",
    "    ]\n",
    "}\n",
    "})\n",
    "sample_input"
   ]
  },
  {
   "cell_type": "code",
   "execution_count": 4,
   "metadata": {},
   "outputs": [
    {
     "name": "stdout",
     "output_type": "stream",
     "text": [
      "SVM Model Endpoint Inference Test\n",
      "200\n",
      "0:00:00.500979\n",
      "{'payload': {'predictions': [1]}}\n",
      "Logistic Regression Model Endpoint Inference Test\n",
      "200\n",
      "0:00:00.544394\n",
      "{'payload': {'predictions': [1]}}\n"
     ]
    }
   ],
   "source": [
    "import requests\n",
    "import json\n",
    "\n",
    "headers_svm = {\n",
    "    'Content-Type': 'application/json',\n",
    "    'Authorization': f'Bearer {service_svm_key}'          \n",
    "          }\n",
    "headers_logistic = {\n",
    "    'Content-Type': 'application/json',\n",
    "    'Authorization': f'Bearer {service_logistic_key}'          \n",
    "          }\n",
    "\n",
    "response = requests.post(\n",
    "    service_svm_uri, data=sample_input, headers=headers_svm)\n",
    "print('SVM Model Endpoint Inference Test')\n",
    "print(response.status_code)\n",
    "print(response.elapsed)\n",
    "print(response.json())\n",
    "\n",
    "print('Logistic Regression Model Endpoint Inference Test')\n",
    "response = requests.post(\n",
    "    service_logistic_uri, data=sample_input, headers=headers_logistic)\n",
    "print(response.status_code)\n",
    "print(response.elapsed)\n",
    "print(response.json())"
   ]
  },
  {
   "cell_type": "markdown",
   "metadata": {},
   "source": [
    "## 2. Use Cortex Certifai Client CLI to Configure Remote Certifai Pro VM\n",
    "Use the `certifai` CLI tool to configure remote access to the Certifai Pro VM\n",
    "\n",
    "#### CLI commands\n",
    "\n",
    "```\n",
    "# remove flower brackets if not in a jupyter notebook cell\n",
    "certifai remote config --file certifai-kubeconfig.json --alias {remote_alias} \n",
    "```"
   ]
  },
  {
   "cell_type": "code",
   "execution_count": 7,
   "metadata": {},
   "outputs": [
    {
     "name": "stdout",
     "output_type": "stream",
     "text": [
      "\n",
      "Checking for access to Kubernetes cluster with context - certifai-pro\n",
      "Connection to cluster succeeded, found API - v1\n",
      "Scanner image found - cortex-certifai-scanner:local\n",
      "Updating alias - cpro-az\n",
      "\n",
      "Configuration updated from - certifai-kubeconfig.json\n"
     ]
    }
   ],
   "source": [
    "remote_alias = 'cpro-az'\n",
    "!certifai remote config --file certifai-kubeconfig.json --alias {remote_alias}"
   ]
  },
  {
   "cell_type": "markdown",
   "metadata": {},
   "source": [
    "## 3. Construct Certifai Scan Definitions for Binary Classification models\n",
    "\n",
    "Use the `certifai-scanner` python package to build a scan definition for the SVM and Logistic Regression models (via the Service Endpoints created earlier).\n",
    "\n",
    "Configure scan definition parameters include (mandatory):\n",
    "\n",
    "1. Prediction Task Outcomes and Values\n",
    "2. Model Details (names, endpoints and more)\n",
    "3. Datasets to evaluate the models on\n",
    "\n",
    "Configure optional scan definition parameters that depend on the desired evaluation reports. Evaluation types include:\n",
    "\n",
    "1. Fairness\n",
    "2. Robustness\n",
    "3. Explainability"
   ]
  },
  {
   "cell_type": "code",
   "execution_count": 8,
   "metadata": {},
   "outputs": [
    {
     "name": "stdout",
     "output_type": "stream",
     "text": [
      "Certifai version: 1.2.14\n",
      "Scanner build: 1.2.14-115-g96dc7f43\n"
     ]
    }
   ],
   "source": [
    "# make sure certifai package was installed correctly\n",
    "!certifai --version"
   ]
  },
  {
   "cell_type": "code",
   "execution_count": 9,
   "metadata": {},
   "outputs": [],
   "source": [
    "# necessary imports for creating a scan\n",
    "\n",
    "from certifai.scanner.builder import (CertifaiScanBuilder, CertifaiModel, CertifaiModelMetric,\n",
    "                                      CertifaiDataset, CertifaiGroupingFeature, CertifaiDatasetSource,\n",
    "                                      CertifaiPredictionTask, CertifaiTaskOutcomes, CertifaiOutcomeValue)\n",
    "from certifai.scanner.report_utils import scores, construct_scores_dataframe\n"
   ]
  },
  {
   "cell_type": "markdown",
   "metadata": {},
   "source": [
    "### Define Cortex Certifai Task Type\n",
    "\n",
    "- `CertifaiTaskOutcomes` : Cortex Certifai supports classification as well as regression models. The task type of this tutorial is binary-classification (e.g. predicting whether a loan should be granted or not)\n",
    "- `CertifaiOutcomeValue` : Define the different outcomes possible from the model predictions. These models predict either 1(loan granted) or 2(loan denied)\n",
    "\n",
    "**NOTE**: Please refer to [Certifai Api Docs](https://cognitivescale.github.io/cortex-certifai/certifai-api-ref/certifai.scanner.builder.html) for more details"
   ]
  },
  {
   "cell_type": "code",
   "execution_count": 11,
   "metadata": {},
   "outputs": [
    {
     "data": {
      "text/plain": [
       "<certifai.scanner.builder.CertifaiScanBuilder at 0x1a1e041a58>"
      ]
     },
     "execution_count": 11,
     "metadata": {},
     "output_type": "execute_result"
    }
   ],
   "source": [
    "# Create the scan object from scratch using the ScanBuilder class with tasks and outcomes\n",
    "\n",
    "# First define the possible prediction outcomes\n",
    "task = CertifaiPredictionTask(CertifaiTaskOutcomes.classification(\n",
    "    [\n",
    "        CertifaiOutcomeValue(1, name='Loan granted', favorable=True),\n",
    "        CertifaiOutcomeValue(2, name='Loan denied')\n",
    "    ]),\n",
    "    prediction_description='Determine whether a loan should be granted')\n",
    "\n",
    "#  create a certifai scan object and add the certifai task created above\n",
    "scan = CertifaiScanBuilder.create('model_auth_demo',\n",
    "                                  prediction_task=task)\n",
    "\n",
    "scan"
   ]
  },
  {
   "cell_type": "markdown",
   "metadata": {},
   "source": [
    "### Add Logistic and SVM Models to the Scan definition\n",
    "\n",
    "Additional parameters that maybe provided to the `CertifaiModel` class can be gleaned from the [API Reference for CertifaiModel](https://cognitivescale.github.io/cortex-certifai/certifai-api-ref-1.2.14/certifai.scanner.builder.html#certifai.scanner.builder.CertifaiModel)\n",
    "\n",
    "or `?CertifaiModel`"
   ]
  },
  {
   "cell_type": "code",
   "execution_count": 12,
   "metadata": {},
   "outputs": [],
   "source": [
    "# Create a Certifai Model Object using the web service (from earlier) by passing the deployed web service url\n",
    "first_model = CertifaiModel('SVM',\n",
    "                            predict_endpoint=service_svm_uri)\n",
    "scan.add_model(first_model)\n",
    "\n",
    "second_model = CertifaiModel('logistic',\n",
    "                            predict_endpoint=service_logistic_uri)\n",
    "scan.add_model(second_model)\n",
    "\n",
    "# Add corresponding model headers for service authentication and content-type\n",
    "\n",
    "# add the default headers applicable to all models\n",
    "scan.add_model_header(header_name='Content-Type',header_value='application/json')\n",
    "\n",
    "# add defined headers corresponding to auth keys for respective model services\n",
    "scan.add_model_header(header_name='Authorization', header_value=f'Bearer {service_svm_key}', model_id='SVM')\n",
    "scan.add_model_header(header_name='Authorization', header_value=f'Bearer {service_logistic_key}', model_id='logistic')\n",
    "\n"
   ]
  },
  {
   "cell_type": "markdown",
   "metadata": {},
   "source": [
    "## 4. Uploading Required Datasets into the Azure Storage Account Container\n",
    "\n",
    "Use the `azure-storage-blob` python package to upload the evaluation dataset for the Certifai scan to the Azure storage account blob container configured in Step 1 of the Certifai Pro VM setup process"
   ]
  },
  {
   "cell_type": "markdown",
   "metadata": {},
   "source": [
    "### Upload the Dataset to Azure Blob Storage\n",
    "\n",
    "Get the connection string for the storage account that holds the container called {az_container_name} in the cell below. You can obtain the connection string by following the [Azure guide here](https://docs.microsoft.com/en-us/azure/storage/common/storage-configure-connection-string).\n",
    "\n",
    "Ensure that the storage account and container used here match the values you used at the beginning of this notebook to setup your Certifai Pro instance."
   ]
  },
  {
   "cell_type": "code",
   "execution_count": 13,
   "metadata": {},
   "outputs": [
    {
     "name": "stdout",
     "output_type": "stream",
     "text": [
      "Collecting azure-storage-blob\n",
      "  Using cached azure_storage_blob-12.3.1-py2.py3-none-any.whl (279 kB)\n",
      "Requirement already satisfied: msrest>=0.6.10 in /Users/pkandarpa/miniconda3/envs/certifai-azure-model-env/lib/python3.6/site-packages (from azure-storage-blob) (0.6.16)\n",
      "Requirement already satisfied: cryptography>=2.1.4 in /Users/pkandarpa/miniconda3/envs/certifai-azure-model-env/lib/python3.6/site-packages (from azure-storage-blob) (2.9.2)\n",
      "Requirement already satisfied: azure-core<2.0.0,>=1.4.0 in /Users/pkandarpa/miniconda3/envs/certifai-azure-model-env/lib/python3.6/site-packages (from azure-storage-blob) (1.6.0)\n",
      "Requirement already satisfied: isodate>=0.6.0 in /Users/pkandarpa/miniconda3/envs/certifai-azure-model-env/lib/python3.6/site-packages (from msrest>=0.6.10->azure-storage-blob) (0.6.0)\n",
      "Requirement already satisfied: certifi>=2017.4.17 in /Users/pkandarpa/miniconda3/envs/certifai-azure-model-env/lib/python3.6/site-packages (from msrest>=0.6.10->azure-storage-blob) (2020.4.5.1)\n",
      "Requirement already satisfied: requests~=2.16 in /Users/pkandarpa/miniconda3/envs/certifai-azure-model-env/lib/python3.6/site-packages (from msrest>=0.6.10->azure-storage-blob) (2.23.0)\n",
      "Requirement already satisfied: requests-oauthlib>=0.5.0 in /Users/pkandarpa/miniconda3/envs/certifai-azure-model-env/lib/python3.6/site-packages (from msrest>=0.6.10->azure-storage-blob) (1.3.0)\n",
      "Requirement already satisfied: cffi!=1.11.3,>=1.8 in /Users/pkandarpa/miniconda3/envs/certifai-azure-model-env/lib/python3.6/site-packages (from cryptography>=2.1.4->azure-storage-blob) (1.14.0)\n",
      "Requirement already satisfied: six>=1.4.1 in /Users/pkandarpa/miniconda3/envs/certifai-azure-model-env/lib/python3.6/site-packages (from cryptography>=2.1.4->azure-storage-blob) (1.15.0)\n",
      "Requirement already satisfied: urllib3!=1.25.0,!=1.25.1,<1.26,>=1.21.1 in /Users/pkandarpa/miniconda3/envs/certifai-azure-model-env/lib/python3.6/site-packages (from requests~=2.16->msrest>=0.6.10->azure-storage-blob) (1.25.9)\n",
      "Requirement already satisfied: chardet<4,>=3.0.2 in /Users/pkandarpa/miniconda3/envs/certifai-azure-model-env/lib/python3.6/site-packages (from requests~=2.16->msrest>=0.6.10->azure-storage-blob) (3.0.4)\n",
      "Requirement already satisfied: idna<3,>=2.5 in /Users/pkandarpa/miniconda3/envs/certifai-azure-model-env/lib/python3.6/site-packages (from requests~=2.16->msrest>=0.6.10->azure-storage-blob) (2.9)\n",
      "Requirement already satisfied: oauthlib>=3.0.0 in /Users/pkandarpa/miniconda3/envs/certifai-azure-model-env/lib/python3.6/site-packages (from requests-oauthlib>=0.5.0->msrest>=0.6.10->azure-storage-blob) (3.1.0)\n",
      "Requirement already satisfied: pycparser in /Users/pkandarpa/miniconda3/envs/certifai-azure-model-env/lib/python3.6/site-packages (from cffi!=1.11.3,>=1.8->cryptography>=2.1.4->azure-storage-blob) (2.20)\n",
      "Installing collected packages: azure-storage-blob\n",
      "Successfully installed azure-storage-blob-12.3.1\n"
     ]
    }
   ],
   "source": [
    "!pip install azure-storage-blob"
   ]
  },
  {
   "cell_type": "markdown",
   "metadata": {},
   "source": [
    "You can get storage blob credentials by visiting Access keys -> Connection String from your Storage Account's page on the Azure Portal."
   ]
  },
  {
   "cell_type": "code",
   "execution_count": 25,
   "metadata": {},
   "outputs": [],
   "source": [
    "# upload our eval dataset to the blob storage container\n",
    "az_container_name = 'pkandarpa' # this container should already exist. You can create one from the Azure Portal\n",
    "\n",
    "import os, uuid\n",
    "from azure.storage.blob import BlobServiceClient, BlobClient, ContainerClient\n",
    "\n",
    "# set credentials for azure storage account\n",
    "az_credentials = 'REDACTED'\n",
    "\n",
    "\n",
    "client = BlobServiceClient.from_connection_string(az_credentials)\n",
    "german_credit_eval_data_file = \"data/german_credit_eval.csv\"\n",
    "az_german_credit_blob_name = 'az-pro-example/german_credit_eval.csv'\n",
    "\n",
    "# upload our evaluation dataset to an Azure Blob Storage Account Container.\n",
    "blob_client = client.get_blob_client(container=az_container_name, blob=az_german_credit_blob_name)\n",
    "with open(german_credit_eval_data_file, 'rb') as f:\n",
    "    blob_client.upload_blob(f)"
   ]
  },
  {
   "cell_type": "markdown",
   "metadata": {},
   "source": [
    "### Add the Evaluation Dataset to Scan Definition\n",
    "\n",
    "Add the evaluation dataset to be used by Cortex Certifai to evaluate the model against the scan definition"
   ]
  },
  {
   "cell_type": "code",
   "execution_count": 15,
   "metadata": {},
   "outputs": [],
   "source": [
    "# create an evaluation object and pass the evaluation dataset(csv) here \n",
    "eval_dataset = CertifaiDataset('evaluation',\n",
    "                               CertifaiDatasetSource.csv(url=f'abfs://{az_container_name}/{az_german_credit_blob_name}'))\n",
    "scan.add_dataset(eval_dataset)"
   ]
  },
  {
   "cell_type": "markdown",
   "metadata": {},
   "source": [
    "### Configure Model Fairness Evaluation\n",
    "\n",
    "- Add `fairness` as an evaluation type to the scan object\n",
    "- Create an `evaluation_dataset_id` to refer to the added evaluation datset"
   ]
  },
  {
   "cell_type": "code",
   "execution_count": 16,
   "metadata": {},
   "outputs": [],
   "source": [
    "# Setup an evaluation for fairness on the above dataset using the model\n",
    "# We'll look at disparity between groups defined by marital status and age\n",
    "scan.add_fairness_grouping_feature(CertifaiGroupingFeature('age'))\n",
    "scan.add_fairness_grouping_feature(CertifaiGroupingFeature('status'))\n",
    "scan.add_evaluation_type('fairness')\n",
    "scan.evaluation_dataset_id = 'evaluation'"
   ]
  },
  {
   "cell_type": "code",
   "execution_count": 17,
   "metadata": {},
   "outputs": [],
   "source": [
    "# Because the dataset contains a ground truth outcome column which the model does not\n",
    "# expect to receive as input we need to state that in the dataset schema (since it cannot\n",
    "# be inferred from the CSV)\n",
    "scan.dataset_schema.outcome_feature_name = 'outcome'"
   ]
  },
  {
   "cell_type": "markdown",
   "metadata": {},
   "source": [
    "### Add Authorization Parameters to the Models\n",
    "Use the following code block to update the scan definition that you constructed in the steps above with authorization headers needed to invoke your Azure hosted model endpoints"
   ]
  },
  {
   "cell_type": "code",
   "execution_count": 18,
   "metadata": {},
   "outputs": [],
   "source": [
    "local_scan_definition_file = 'data/german_credit_scan_definition.yaml'\n",
    "model_headers_template = f\"\"\"\n",
    "model_headers:\n",
    "  default:\n",
    "  - name: Content-Type\n",
    "    value: application/json\n",
    "  - name: accept\n",
    "    value: application/json\n",
    "  defined:\n",
    "  - model_id: SVM\n",
    "    name: Authorization\n",
    "    value: Bearer {service_svm_key}\n",
    "  - model_id: logistic\n",
    "    name: Authorization\n",
    "    value: Bearer {service_logistic_key}\n",
    "\"\"\"\n",
    "\n",
    "with open(local_scan_definition_file, 'w') as f:\n",
    "    scan.save(f)\n",
    "# we also need to add the model headers section separately\n",
    "with open(local_scan_definition_file, 'a') as f:\n",
    "    f.write(model_headers_template)"
   ]
  },
  {
   "cell_type": "markdown",
   "metadata": {},
   "source": [
    "## 5. Run a Remote Scan on Certifai Pro"
   ]
  },
  {
   "cell_type": "code",
   "execution_count": 19,
   "metadata": {},
   "outputs": [
    {
     "name": "stdout",
     "output_type": "stream",
     "text": [
      "\n",
      "Created job - certifai-scanner-09c105e4\n"
     ]
    }
   ],
   "source": [
    "reports_folder = f'abfs://{az_container_name}/az-pro-example/reports'\n",
    "# run a remote scan\n",
    "!certifai remote scan --alias cpro-az --definition-file data/german_credit_scan_definition.yaml --output {reports_folder}"
   ]
  },
  {
   "cell_type": "markdown",
   "metadata": {},
   "source": [
    "### Get Logs of the Remote Scan"
   ]
  },
  {
   "cell_type": "code",
   "execution_count": 22,
   "metadata": {},
   "outputs": [
    {
     "name": "stdout",
     "output_type": "stream",
     "text": [
      "\n",
      "Printing logs for: certifai-scanner-09c105e4-ss62r\n",
      "\n",
      "2020-06-11 14:47:27,752 - root - INFO - Validating license...\n",
      "2020-06-11 14:47:27,752 - root - INFO - License is valid - expires: n/a\n",
      "2020-06-11 14:47:27,765 - root - INFO - Generated unique scan id: bd155e196454\n",
      "2020-06-11 14:47:27,766 - root - INFO - Validating input data...\n",
      "2020-06-11 14:47:27,766 - root - INFO - Creating dataset with id: evaluation\n",
      "2020-06-11 14:47:27,795 - azure.storage.common.storageclient - INFO - Client-Request-ID=785c01ea-abf2-11ea-a199-46c5297ec334 Outgoing request: Method=GET, Path=/pkandarpa, Query={'restype': 'container', 'comp': 'list', 'prefix': 'az-pro-example', 'delimiter': '/', 'marker': None, 'maxresults': None, 'include': None, 'timeout': None}, Headers={'x-ms-version': '2019-02-02', 'User-Agent': 'Azure-Storage/2.1.0-2.1.0 (Python CPython 3.6.8; Linux 5.3.0-1020-azure)', 'x-ms-client-request-id': '785c01ea-abf2-11ea-a199-46c5297ec334', 'x-ms-date': 'Thu, 11 Jun 2020 14:47:27 GMT', 'Authorization': 'REDACTED'}.\n",
      "2020-06-11 14:47:28,416 - azure.storage.common.storageclient - INFO - Client-Request-ID=785c01ea-abf2-11ea-a199-46c5297ec334 Receiving Response: Server-Timestamp=Thu, 11 Jun 2020 14:47:27 GMT, Server-Request-ID=04db0bbe-c01e-000e-67ff-3f76b5000000, HTTP Status Code=200, Message=OK, Headers={'transfer-encoding': 'chunked', 'content-type': 'application/xml', 'server': 'Windows-Azure-Blob/1.0 Microsoft-HTTPAPI/2.0', 'x-ms-request-id': '04db0bbe-c01e-000e-67ff-3f76b5000000', 'x-ms-client-request-id': '785c01ea-abf2-11ea-a199-46c5297ec334', 'x-ms-version': '2019-02-02', 'date': 'Thu, 11 Jun 2020 14:47:27 GMT'}.\n",
      "2020-06-11 14:47:28,417 - azure.storage.common.storageclient - INFO - Client-Request-ID=78bae9bc-abf2-11ea-a199-46c5297ec334 Outgoing request: Method=GET, Path=/pkandarpa, Query={'restype': 'container', 'comp': 'list', 'prefix': 'az-pro-example/', 'delimiter': '/', 'marker': None, 'maxresults': None, 'include': None, 'timeout': None}, Headers={'x-ms-version': '2019-02-02', 'User-Agent': 'Azure-Storage/2.1.0-2.1.0 (Python CPython 3.6.8; Linux 5.3.0-1020-azure)', 'x-ms-client-request-id': '78bae9bc-abf2-11ea-a199-46c5297ec334', 'x-ms-date': 'Thu, 11 Jun 2020 14:47:28 GMT', 'Authorization': 'REDACTED'}.\n",
      "2020-06-11 14:47:28,423 - azure.storage.common.storageclient - INFO - Client-Request-ID=78bae9bc-abf2-11ea-a199-46c5297ec334 Receiving Response: Server-Timestamp=Thu, 11 Jun 2020 14:47:27 GMT, Server-Request-ID=04db0bcb-c01e-000e-71ff-3f76b5000000, HTTP Status Code=200, Message=OK, Headers={'transfer-encoding': 'chunked', 'content-type': 'application/xml', 'server': 'Windows-Azure-Blob/1.0 Microsoft-HTTPAPI/2.0', 'x-ms-request-id': '04db0bcb-c01e-000e-71ff-3f76b5000000', 'x-ms-client-request-id': '78bae9bc-abf2-11ea-a199-46c5297ec334', 'x-ms-version': '2019-02-02', 'date': 'Thu, 11 Jun 2020 14:47:27 GMT'}.\n",
      "2020-06-11 14:47:28,470 - azure.storage.common.storageclient - INFO - Client-Request-ID=78c2f65c-abf2-11ea-a199-46c5297ec334 Outgoing request: Method=GET, Path=/pkandarpa/az-pro-example/german_credit_eval.csv, Query={'snapshot': None, 'timeout': None}, Headers={'x-ms-lease-id': None, 'If-Modified-Since': None, 'If-Unmodified-Since': None, 'If-Match': None, 'If-None-Match': None, 'x-ms-range': 'bytes=0-291434', 'x-ms-version': '2019-02-02', 'User-Agent': 'Azure-Storage/2.1.0-2.1.0 (Python CPython 3.6.8; Linux 5.3.0-1020-azure)', 'x-ms-client-request-id': '78c2f65c-abf2-11ea-a199-46c5297ec334', 'x-ms-date': 'Thu, 11 Jun 2020 14:47:28 GMT', 'Authorization': 'REDACTED'}.\n",
      "2020-06-11 14:47:28,486 - azure.storage.common.storageclient - INFO - Client-Request-ID=78c2f65c-abf2-11ea-a199-46c5297ec334 Receiving Response: Server-Timestamp=Thu, 11 Jun 2020 14:47:27 GMT, Server-Request-ID=04db0bf1-c01e-000e-14ff-3f76b5000000, HTTP Status Code=206, Message=Partial Content, Headers={'content-length': '291434', 'content-type': 'application/octet-stream', 'content-range': 'bytes 0-291433/291434', 'last-modified': 'Thu, 11 Jun 2020 14:45:06 GMT', 'accept-ranges': 'bytes', 'etag': '\"0x8D80E16083379EE\"', 'server': 'Windows-Azure-Blob/1.0 Microsoft-HTTPAPI/2.0', 'x-ms-request-id': '04db0bf1-c01e-000e-14ff-3f76b5000000', 'x-ms-client-request-id': '78c2f65c-abf2-11ea-a199-46c5297ec334', 'x-ms-version': '2019-02-02', 'x-ms-creation-time': 'Thu, 11 Jun 2020 14:45:06 GMT', 'x-ms-blob-content-md5': '9Zxif4ZfTJLWz+dmpHCZMA==', 'x-ms-lease-status': 'unlocked', 'x-ms-lease-state': 'available', 'x-ms-blob-type': 'BlockBlob', 'x-ms-server-encrypted': 'true', 'date': 'Thu, 11 Jun 2020 14:47:27 GMT'}.\n",
      "2020-06-11 14:47:28,695 - root - INFO - Inferring dataset features and applying user overrides\n",
      "2020-06-11 14:47:28,708 - root - INFO - Reading default config (fallback) from: /opt/app-root/lib/python3.6/site-packages/certifai/common/utils/default_certifai_config.ini\n",
      "2020-06-11 14:47:28,709 - root - INFO - Read config marker: config['default']['marker'] = 0.1\n",
      "2020-06-11 14:47:28,726 - root - INFO - Integer-valued feature 'duration' inferred to be numeric (sample cardinality 33)\n",
      "2020-06-11 14:47:28,728 - root - INFO - Integer-valued feature 'amount' inferred to be numeric (sample cardinality 921)\n",
      "2020-06-11 14:47:28,729 - root - INFO - Integer-valued feature 'installment' inferred to be categorical (sample cardinality 4)\n",
      "2020-06-11 14:47:28,730 - root - INFO - Integer-valued feature 'residence' inferred to be categorical (sample cardinality 4)\n",
      "2020-06-11 14:47:28,732 - root - INFO - Integer-valued feature 'cards' inferred to be categorical (sample cardinality 4)\n",
      "2020-06-11 14:47:28,732 - root - INFO - Integer-valued feature 'liable' inferred to be categorical (sample cardinality 2)\n",
      "2020-06-11 14:47:28,733 - root - INFO - Integer-valued feature 'outcome' inferred to be categorical (sample cardinality 2)\n",
      "2020-06-11 14:47:28,761 - root - INFO - Couldn't find column by label as index: `outcome`, in df.columns: `Index(['checkingstatus', 'duration', 'history', 'purpose', 'amount', 'savings',\n",
      "       'employ', 'installment', 'status', 'others', 'residence', 'property',\n",
      "       'age', 'otherplans', 'housing', 'cards', 'job', 'liable', 'telephone',\n",
      "       'foreign'],\n",
      "      dtype='object')`.\n",
      "2020-06-11 14:47:28,761 - root - INFO - Inferring dataset features and applying user overrides\n",
      "2020-06-11 14:47:28,763 - root - INFO - Integer-valued feature 'duration' inferred to be numeric (sample cardinality 33)\n",
      "2020-06-11 14:47:28,766 - root - INFO - Integer-valued feature 'amount' inferred to be numeric (sample cardinality 921)\n",
      "2020-06-11 14:47:28,768 - root - INFO - Integer-valued feature 'installment' inferred to be categorical (sample cardinality 4)\n",
      "2020-06-11 14:47:28,769 - root - INFO - Integer-valued feature 'residence' inferred to be categorical (sample cardinality 4)\n",
      "2020-06-11 14:47:28,771 - root - INFO - Integer-valued feature 'cards' inferred to be categorical (sample cardinality 4)\n",
      "2020-06-11 14:47:28,772 - root - INFO - Integer-valued feature 'liable' inferred to be categorical (sample cardinality 2)\n",
      "2020-06-11 14:47:28,780 - root - INFO - Input validation complete\n",
      "2020-06-11 14:47:28,780 - root - INFO - Starting scan with model_use_case_id: 'model_auth_demo' and scan_id: 'bd155e196454'\n",
      "Starting scan with model_use_case_id: 'model_auth_demo' and scan_id: 'bd155e196454'\n",
      "2020-06-11 14:47:28,781 - root - INFO - Starting scan with model_use_case_id: 'model_auth_demo' and scan_id: 'bd155e196454'\n",
      "[--------------------] 2020-06-11 14:47:28.781247 - 0 of 2 reports (0.0% complete) - Running fairness evaluation for model: SVM\n",
      "2020-06-11 14:47:28,781 - root - INFO - Running fairness evaluation for model: SVM\n",
      "2020-06-11 14:47:28,840 - root - INFO - Validating license...\n",
      "2020-06-11 14:47:28,840 - root - INFO - License is valid - expires: n/a\n",
      "2020-06-11 14:47:28,841 - root - INFO - Running counterfactual analysis for multiclass classification with class structure ClassStructure.PARTITIONED (analysis = Fairness)\n",
      "2020-06-11 14:47:28,841 - root - INFO - Hyper-params for experiment: {'tournsize': 3, 'population': 4000, 'indpb': 0.05, 'CXPB': 0.5, 'MUTPB': 0.2, 'generation': 60, 'evolution': 100, 'N_CYCLES': 1, 'early_stopping_delta': 0.0001, 'early_stopping_epochs': 3, 'percent_class_seeding': 5, 'sampling_Z': 1.96, 'sampling_boundary': 0.1, 'sampling_min_n': 100, '2pt_orig_weight': 0.025, 'shrinkage_weight': 0.5, 'annealing_weight': 0.45, 'annealing_rate': 1.25, 'elitism': 0.04, 'dimensional_normalization': True, 'num_counterfactuals': 1, 'shap_init_with_eval': True, 'shap_num_samples': 500}\n",
      "2020-06-11 14:47:28,889 - root - WARNING - Insufficient examples of some fairness classes to guarantee convergence (smallest class size is for 'male : divorced/separated' with 50 samples)\n",
      "2020-06-11 14:47:28,912 - root - INFO - Running analysis variant 'prediction more beneficial'\n",
      "2020-06-11 14:47:32,267 - root - INFO - Running with explanation reduction ON\n",
      "2020-06-11 14:47:32,268 - root - INFO - Total dataset size is 1000\n",
      "\n"
     ]
    }
   ],
   "source": [
    "!certifai remote logs -a cpro-az -n $(certifai remote list -a cpro-az | head -2 | tail -1 | cut -d' ' -f1)"
   ]
  },
  {
   "cell_type": "markdown",
   "metadata": {},
   "source": [
    "### List the Scan Jobs on the Certifai Pro Remote Instance\n",
    "Use the CLI command to list scan jobs for the configured `remote_alias`\n",
    "```\n",
    "certifai remote list -a <remote_alias>\n",
    "```"
   ]
  },
  {
   "cell_type": "code",
   "execution_count": 23,
   "metadata": {},
   "outputs": [
    {
     "name": "stdout",
     "output_type": "stream",
     "text": [
      "NAME                        COMPLETIONS   DURATION      AGE           \n",
      "certifai-scanner-09c105e4   0/1           1m            1m            \n"
     ]
    }
   ],
   "source": [
    "# Check the status of the triggered remote scan job\n",
    "!certifai remote list -a cpro-az"
   ]
  },
  {
   "cell_type": "markdown",
   "metadata": {},
   "source": [
    "## View Reports from the Remote Scan\n",
    "\n",
    "Once the remote scan's `COMPLETIONS` field says `1/1`, you can configure the Certifai Console to view the reports.\n",
    "\n",
    "Go to the Certifai Console URL for the Certifai Pro VM instance you created earlier in this tutorial. \n",
    "\n",
    "1. Click the `User Icon` on the top right and select `Storage Settings` from the dropdown.\n",
    "2. Update the `Scan Directory` field to the `reports_folder` variable configured in the previous cell. Omit `abfs://` while pasting this variable's value in the `Scan Directory` field. \n",
    "3. Save your settings and wait while the page reloads and loads reports from the remote scan. The scan will be available under the name `model_auth_demo`."
   ]
  },
  {
   "cell_type": "markdown",
   "metadata": {},
   "source": [
    "\n",
    "## Resource Cleanup\n"
   ]
  },
  {
   "cell_type": "markdown",
   "metadata": {},
   "source": [
    "Delete the Certifai Pro VM instance created when you are done using it.\n",
    "\n",
    "Azure ML pre-requisites Cleanup\n",
    " - Created and registered `logistic_model_azure` and `svm_model_azure` models to your Azure workspace -> Delete these. The exact names will be available from the output of the `azure_ml_service_keys.py` script. (From when you ran it earlier)\n",
    " - Created `german-credit-logistic-service` and `german-credit-svm-service` ACI (Azure Container Instance) webservices -> Delete these. The exact names will be available from the output of the `azure_ml_service_keys` script. (From when you ran it earlier)\n",
    "\n",
    "- Once Cortex Certifai evaluation is complete, make sure to clear all Azure resources in order to avoid costs associated with running VMs and their associated resources on Azure\n",
    "- Follow the [Azure Ml resource cleanup docs][https://docs.microsoft.com/en-us/azure/machine-learning/tutorial-1st-experiment-sdk-train#clean-up-resources]"
   ]
  }
 ],
 "metadata": {
  "kernelspec": {
   "display_name": "Python (Certifai Azure Model Env 1.3.3)",
   "language": "python",
   "name": "certifai-azure-modle-env-1.3.3"
  },
  "language_info": {
   "codemirror_mode": {
    "name": "ipython",
    "version": 3
   },
   "file_extension": ".py",
   "mimetype": "text/x-python",
   "name": "python",
   "nbconvert_exporter": "python",
   "pygments_lexer": "ipython3",
   "version": "3.6.2"
  }
 },
 "nbformat": 4,
 "nbformat_minor": 4
}
