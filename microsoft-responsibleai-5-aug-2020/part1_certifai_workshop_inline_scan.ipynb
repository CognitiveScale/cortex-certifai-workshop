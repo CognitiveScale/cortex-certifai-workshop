{
 "cells": [
  {
   "cell_type": "markdown",
   "metadata": {},
   "source": [
    "# Part 1: Running Cortex Certifai Scan on models in-line\n",
    "\n",
    "# Typical flow for a Data Scientist during Development"
   ]
  },
  {
   "cell_type": "markdown",
   "metadata": {},
   "source": [
    "## What we will Learn\n",
    "\n",
    "1. Install Certifai Toolkit\n",
    "\n",
    "2. Configure Certifai Scan\n",
    "\n",
    "3. Run Certifai Scan against a sklearn models to classify [german credit loan risk](https://archive.ics.uci.edu/ml/datasets/Statlog+%28German+Credit+Data%29) (predict whether loan will be granted or not)\n",
    "\n",
    "4. View Results for Fairness, Robustness, Explanations and Explanability"
   ]
  },
  {
   "cell_type": "markdown",
   "metadata": {},
   "source": [
    "## Documentation\n",
    "\n",
    "Visit the Certifai Documentation here https://cognitivescale.github.io/cortex-certifai/docs/about"
   ]
  },
  {
   "cell_type": "markdown",
   "metadata": {},
   "source": [
    "## Prerequisites\n",
    "\n",
    "Goto https://ml.azure.com and login, select the Azure Directory, Subscription and Workspace to begin the workshop.\n",
    "\n",
    "You will be using [Conda](https://docs.conda.io/projects/conda/en/latest/user-guide/install/) to create virtual environment using the `certifai_azure_model_env.yml` file provided with the notebook\n",
    "\n",
    "- Certifai Toolkit is extracted and made available one folder above where this notebook is located, give the toolkit home directory the following name `certifai_toolkit_1.3.2`\n",
    "- Azure ML Compute instance is available\n",
    "- Open JupyterLab\n",
    "- From Launchpad, Open terminal and cd into folder where this notebook is located to execute the below commands\n",
    "- `conda env create -f certifai_azure_model_env.yml` : will create conda env with the necessary python packages for working through the notebook.\n",
    "- `conda activate certifai-azure-model-env` this will activate the new environment that was created.\n",
    "- `python -m ipykernel install --user --name certifai-azure-modle-env --display-name \"Python (Certifai Azure Model Env)\"` : this will install and display the new environment in JupyterLab.\n",
    "- JupyterLab menu `Kernel -> Change Kernal` select `Python (Certifai Azure Model Env)`.\n"
   ]
  },
  {
   "cell_type": "markdown",
   "metadata": {},
   "source": [
    "### Set Cortex Certifai Toolkit path\n",
    "- update the `certifai_toolkit_path` to point your downloaded toolkit\n",
    "- this will be used later to install cortex certifai python packages"
   ]
  },
  {
   "cell_type": "code",
   "execution_count": 1,
   "metadata": {},
   "outputs": [],
   "source": [
    "from pathlib import Path"
   ]
  },
  {
   "cell_type": "code",
   "execution_count": 2,
   "metadata": {},
   "outputs": [],
   "source": [
    "pwd = !pwd"
   ]
  },
  {
   "cell_type": "code",
   "execution_count": 3,
   "metadata": {},
   "outputs": [],
   "source": [
    "my_path = str(Path(pwd[0]).parents[0])"
   ]
  },
  {
   "cell_type": "code",
   "execution_count": 4,
   "metadata": {},
   "outputs": [
    {
     "data": {
      "text/plain": [
       "'/mnt/batch/tasks/shared/LS_root/mounts/clusters/sko-compute-1-3-2i/code/users/skottaram/msft-workshop/certifai_toolkit_1.3.2'"
      ]
     },
     "execution_count": 4,
     "metadata": {},
     "output_type": "execute_result"
    }
   ],
   "source": [
    "certifai_toolkit_path = my_path  + '/certifai_toolkit_1.3.2'\n",
    "certifai_toolkit_path"
   ]
  },
  {
   "cell_type": "markdown",
   "metadata": {},
   "source": [
    "## Creating a [german credit](https://archive.ics.uci.edu/ml/datasets/Statlog+%28German+Credit+Data%29) prediction model using sklearn"
   ]
  },
  {
   "cell_type": "code",
   "execution_count": 5,
   "metadata": {},
   "outputs": [],
   "source": [
    "# required imports for model building and persistance \n",
    "\n",
    "import pandas as pd\n",
    "import numpy as np\n",
    "from sklearn.linear_model import LogisticRegression\n",
    "from sklearn import svm\n",
    "from sklearn.model_selection import GridSearchCV\n",
    "from sklearn.model_selection import train_test_split\n",
    "import random\n",
    "from sklearn.externals import joblib"
   ]
  },
  {
   "cell_type": "markdown",
   "metadata": {},
   "source": [
    "### Test to confirm correct version of scikit-learn and numpy are installed"
   ]
  },
  {
   "cell_type": "code",
   "execution_count": 6,
   "metadata": {},
   "outputs": [],
   "source": [
    "import sklearn as sklearn_version_test\n",
    "assert sklearn_version_test.__version__ == '0.20.3', 'scikit-learn version mismatch, `pip install scikit-learn==0.20.3` to install right sklearn version for this notebook'\n",
    "assert np.__version__                   == '1.16.2', 'numpy version mismatch, `pip install numpy==1.16.2` to install right numpy version for this notebook'"
   ]
  },
  {
   "cell_type": "code",
   "execution_count": 7,
   "metadata": {},
   "outputs": [],
   "source": [
    "# special import - \n",
    "# for multiprocessing to work in a Notebook,  pickled classes must be in a separate package or notebook\n",
    "# hence, the model encoder class has to be somewhere other than the current notebook\n",
    "\n",
    "import os\n",
    "import sys\n",
    "sys.path.insert(0, os.path.abspath(os.path.join('.')))\n",
    "from scripts.cat_encoder import CatEncoder"
   ]
  },
  {
   "cell_type": "markdown",
   "metadata": {},
   "source": [
    "###  load data in dataframe"
   ]
  },
  {
   "cell_type": "code",
   "execution_count": 8,
   "metadata": {},
   "outputs": [],
   "source": [
    "# load the dataset into memory\n",
    "df = pd.read_csv('data/german_credit_eval.csv')"
   ]
  },
  {
   "cell_type": "code",
   "execution_count": 9,
   "metadata": {},
   "outputs": [],
   "source": [
    "df_sample = df.sample(100)"
   ]
  },
  {
   "cell_type": "markdown",
   "metadata": {},
   "source": [
    "### define features "
   ]
  },
  {
   "cell_type": "code",
   "execution_count": 10,
   "metadata": {},
   "outputs": [],
   "source": [
    "cat_columns = [\n",
    "    'checkingstatus',\n",
    "    'history',\n",
    "    'purpose',\n",
    "    'savings',\n",
    "    'employ',\n",
    "    'status',\n",
    "    'others',\n",
    "    'property',\n",
    "    'age',\n",
    "    'otherplans',\n",
    "    'housing',\n",
    "    'job',\n",
    "    'telephone',\n",
    "    'foreign'\n",
    "    ]\n",
    "\n",
    "label_column = 'outcome'"
   ]
  },
  {
   "cell_type": "markdown",
   "metadata": {},
   "source": [
    "### separate features and target variable"
   ]
  },
  {
   "cell_type": "code",
   "execution_count": 11,
   "metadata": {},
   "outputs": [],
   "source": [
    "y = df[label_column]\n",
    "X = df.drop(label_column, axis=1)"
   ]
  },
  {
   "cell_type": "markdown",
   "metadata": {},
   "source": [
    "### split dataset into the training and test set"
   ]
  },
  {
   "cell_type": "code",
   "execution_count": 12,
   "metadata": {},
   "outputs": [],
   "source": [
    "X_train, X_test, y_train, y_test = train_test_split(X, y, test_size=0.20, random_state=42)"
   ]
  },
  {
   "cell_type": "markdown",
   "metadata": {},
   "source": [
    "### encode and scale features"
   ]
  },
  {
   "cell_type": "code",
   "execution_count": 13,
   "metadata": {},
   "outputs": [
    {
     "name": "stderr",
     "output_type": "stream",
     "text": [
      "/anaconda/envs/certifai-azure-model-env-2/lib/python3.6/site-packages/sklearn/preprocessing/data.py:645: DataConversionWarning: Data with input dtype int64 were all converted to float64 by StandardScaler.\n",
      "  return self.partial_fit(X, y)\n"
     ]
    }
   ],
   "source": [
    "encoder = CatEncoder(cat_columns, X)"
   ]
  },
  {
   "cell_type": "markdown",
   "metadata": {},
   "source": [
    "### build and train model using sklearn"
   ]
  },
  {
   "cell_type": "code",
   "execution_count": 14,
   "metadata": {},
   "outputs": [
    {
     "name": "stdout",
     "output_type": "stream",
     "text": [
      "Model 'german_credit_svm' accuracy is 0.77\n",
      "Model 'german_credit_logit' accuracy is 0.77\n"
     ]
    }
   ],
   "source": [
    "import warnings\n",
    "warnings.filterwarnings('ignore')\n",
    "def build_model(data, name, model_family, test=None):\n",
    "    if test is None:\n",
    "        test = data\n",
    "        \n",
    "    if model_family == 'SVM':\n",
    "        parameters = {'kernel':('linear', 'rbf', 'poly'), 'C':[0.1, .5, 1, 2, 4, 10], 'gamma':['auto']}\n",
    "        m = svm.SVC()\n",
    "    elif model_family == 'logistic':\n",
    "        parameters = {'C': (0.5, 1.0, 2.0), 'solver': ['lbfgs'], 'max_iter': [1000]}\n",
    "        m = LogisticRegression()\n",
    "    model = GridSearchCV(m, parameters, cv=3)\n",
    "    model.fit(data[0], data[1])\n",
    "\n",
    "    # Assess on the test data\n",
    "    accuracy = model.score(test[0], test[1].values)\n",
    "    print(f\"Model '{name}' accuracy is {accuracy}\")\n",
    "    return model\n",
    "\n",
    "svm_model_name      = 'german_credit_svm'\n",
    "logistic_model_name = 'german_credit_logit'\n",
    "\n",
    "svm_model = build_model((encoder(X_train.values), y_train),\n",
    "                        svm_model_name,\n",
    "                        'SVM',\n",
    "                        test=(encoder(X_test.values), y_test))\n",
    "\n",
    "logistic_model = build_model((encoder(X_train.values), y_train),\n",
    "                        logistic_model_name,\n",
    "                        'logistic',\n",
    "                        test=(encoder(X_test.values), y_test))"
   ]
  },
  {
   "cell_type": "markdown",
   "metadata": {},
   "source": [
    "## Running Cortex Certifai Scan\n",
    "\n",
    "1. Install the cortex certifai packages required to initiate model scan\n",
    "\n",
    "2. Configure scan details and execute\n"
   ]
  },
  {
   "cell_type": "markdown",
   "metadata": {},
   "source": [
    "## Installing Cortex Certifai python packages\n",
    "\n",
    "initiating a Cortex Certifai scan requires following python packages to be installed in the current local environment\n",
    "\n",
    "`required-packages`\n",
    "\n",
    "- cortex-certifai-scanner\n",
    "- cortex-certifai-engine\n",
    "- cortex-certifai-common\n",
    "\n",
    "`optional-packages`\n",
    "\n",
    "- cortex-certifai-client\n",
    "- cortex-certifai-console\n",
    "\n",
    "Download [certifai toolkit](https://www.cognitivescale.com/download-certifai) and follow instructions in the `Readme.md` to install the python-packages in the current environment"
   ]
  },
  {
   "cell_type": "markdown",
   "metadata": {},
   "source": [
    "### Install required certifai packages (optional packages are left for user to install)\n"
   ]
  },
  {
   "cell_type": "code",
   "execution_count": 15,
   "metadata": {},
   "outputs": [
    {
     "name": "stdout",
     "output_type": "stream",
     "text": [
      "Processing /mnt/batch/tasks/shared/LS_root/mounts/clusters/sko-compute-1-3-2i/code/users/skottaram/msft-workshop/certifai_toolkit_1.3.2/packages/all/cortex-certifai-client-1.3.2-4-g8648134d.zip\n",
      "Requirement already satisfied: questionary==1.4.0 in /anaconda/envs/azureml_py36/lib/python3.6/site-packages (from cortex-certifai-client==1.3.2) (1.4.0)\n",
      "Requirement already satisfied: kubernetes<=11.0,>=9.0 in /anaconda/envs/azureml_py36/lib/python3.6/site-packages (from cortex-certifai-client==1.3.2) (11.0.0)\n",
      "Requirement already satisfied: prompt-toolkit~=2.0 in /anaconda/envs/azureml_py36/lib/python3.6/site-packages (from questionary==1.4.0->cortex-certifai-client==1.3.2) (2.0.10)\n",
      "Requirement already satisfied: six>=1.9.0 in /anaconda/envs/azureml_py36/lib/python3.6/site-packages (from kubernetes<=11.0,>=9.0->cortex-certifai-client==1.3.2) (1.12.0)\n",
      "Requirement already satisfied: google-auth>=1.0.1 in /anaconda/envs/azureml_py36/lib/python3.6/site-packages (from kubernetes<=11.0,>=9.0->cortex-certifai-client==1.3.2) (1.18.0)\n",
      "Requirement already satisfied: setuptools>=21.0.0 in /anaconda/envs/azureml_py36/lib/python3.6/site-packages (from kubernetes<=11.0,>=9.0->cortex-certifai-client==1.3.2) (47.3.1.post20200622)\n",
      "Requirement already satisfied: urllib3>=1.24.2 in /anaconda/envs/azureml_py36/lib/python3.6/site-packages (from kubernetes<=11.0,>=9.0->cortex-certifai-client==1.3.2) (1.25.9)\n",
      "Requirement already satisfied: certifi>=14.05.14 in /anaconda/envs/azureml_py36/lib/python3.6/site-packages (from kubernetes<=11.0,>=9.0->cortex-certifai-client==1.3.2) (2020.6.20)\n",
      "Requirement already satisfied: python-dateutil>=2.5.3 in /anaconda/envs/azureml_py36/lib/python3.6/site-packages (from kubernetes<=11.0,>=9.0->cortex-certifai-client==1.3.2) (2.8.1)\n",
      "Requirement already satisfied: requests-oauthlib in /anaconda/envs/azureml_py36/lib/python3.6/site-packages (from kubernetes<=11.0,>=9.0->cortex-certifai-client==1.3.2) (1.3.0)\n",
      "Requirement already satisfied: pyyaml>=3.12 in /anaconda/envs/azureml_py36/lib/python3.6/site-packages (from kubernetes<=11.0,>=9.0->cortex-certifai-client==1.3.2) (5.1.2)\n",
      "Requirement already satisfied: requests in /anaconda/envs/azureml_py36/lib/python3.6/site-packages (from kubernetes<=11.0,>=9.0->cortex-certifai-client==1.3.2) (2.24.0)\n",
      "Requirement already satisfied: websocket-client!=0.40.0,!=0.41.*,!=0.42.*,>=0.32.0 in /anaconda/envs/azureml_py36/lib/python3.6/site-packages (from kubernetes<=11.0,>=9.0->cortex-certifai-client==1.3.2) (0.57.0)\n",
      "Requirement already satisfied: wcwidth in /anaconda/envs/azureml_py36/lib/python3.6/site-packages (from prompt-toolkit~=2.0->questionary==1.4.0->cortex-certifai-client==1.3.2) (0.2.5)\n",
      "Requirement already satisfied: cachetools<5.0,>=2.0.0 in /anaconda/envs/azureml_py36/lib/python3.6/site-packages (from google-auth>=1.0.1->kubernetes<=11.0,>=9.0->cortex-certifai-client==1.3.2) (4.1.1)\n",
      "Requirement already satisfied: rsa<5,>=3.1.4; python_version >= \"3\" in /anaconda/envs/azureml_py36/lib/python3.6/site-packages (from google-auth>=1.0.1->kubernetes<=11.0,>=9.0->cortex-certifai-client==1.3.2) (4.6)\n",
      "Requirement already satisfied: pyasn1-modules>=0.2.1 in /anaconda/envs/azureml_py36/lib/python3.6/site-packages (from google-auth>=1.0.1->kubernetes<=11.0,>=9.0->cortex-certifai-client==1.3.2) (0.2.8)\n",
      "Requirement already satisfied: oauthlib>=3.0.0 in /anaconda/envs/azureml_py36/lib/python3.6/site-packages (from requests-oauthlib->kubernetes<=11.0,>=9.0->cortex-certifai-client==1.3.2) (3.1.0)\n",
      "Requirement already satisfied: chardet<4,>=3.0.2 in /anaconda/envs/azureml_py36/lib/python3.6/site-packages (from requests->kubernetes<=11.0,>=9.0->cortex-certifai-client==1.3.2) (3.0.4)\n",
      "Requirement already satisfied: idna<3,>=2.5 in /anaconda/envs/azureml_py36/lib/python3.6/site-packages (from requests->kubernetes<=11.0,>=9.0->cortex-certifai-client==1.3.2) (2.10)\n",
      "Requirement already satisfied: pyasn1>=0.1.3 in /anaconda/envs/azureml_py36/lib/python3.6/site-packages (from rsa<5,>=3.1.4; python_version >= \"3\"->google-auth>=1.0.1->kubernetes<=11.0,>=9.0->cortex-certifai-client==1.3.2) (0.4.8)\n",
      "Building wheels for collected packages: cortex-certifai-client\n",
      "  Building wheel for cortex-certifai-client (setup.py) ... \u001b[?25ldone\n",
      "\u001b[?25h  Created wheel for cortex-certifai-client: filename=cortex_certifai_client-1.3.2-py3-none-any.whl size=30553 sha256=58208dd15ddbf85286dfb4dbf61642fcb9d15951f2f343592100836a61a99cc3\n",
      "  Stored in directory: /home/azureuser/.cache/pip/wheels/34/e6/75/c7b0c663a96173b0d91776ff7aa1caba6a4e5783986a6db8c7\n",
      "Successfully built cortex-certifai-client\n",
      "Installing collected packages: cortex-certifai-client\n",
      "  Attempting uninstall: cortex-certifai-client\n",
      "    Found existing installation: cortex-certifai-client 1.3.2\n",
      "    Uninstalling cortex-certifai-client-1.3.2:\n",
      "      Successfully uninstalled cortex-certifai-client-1.3.2\n",
      "Successfully installed cortex-certifai-client-1.3.2\n",
      "Processing /mnt/batch/tasks/shared/LS_root/mounts/clusters/sko-compute-1-3-2i/code/users/skottaram/msft-workshop/certifai_toolkit_1.3.2/packages/all/cortex-certifai-common-1.3.2-4-g8648134d.zip\n",
      "Requirement already satisfied: requests<3.0,>=2.12.4 in /anaconda/envs/azureml_py36/lib/python3.6/site-packages (from cortex-certifai-common==1.3.2) (2.24.0)\n",
      "Requirement already satisfied: urllib3<2.0,>=1.24.3 in /anaconda/envs/azureml_py36/lib/python3.6/site-packages (from cortex-certifai-common==1.3.2) (1.25.9)\n",
      "Requirement already satisfied: numpy<1.19,>=1.16.2 in /anaconda/envs/azureml_py36/lib/python3.6/site-packages (from cortex-certifai-common==1.3.2) (1.16.2)\n",
      "Requirement already satisfied: pandas<=1.0.3,>=0.23.4 in /anaconda/envs/azureml_py36/lib/python3.6/site-packages (from cortex-certifai-common==1.3.2) (0.23.4)\n",
      "Requirement already satisfied: scipy<2.0,>=1.1.0 in /anaconda/envs/azureml_py36/lib/python3.6/site-packages (from cortex-certifai-common==1.3.2) (1.4.1)\n",
      "Requirement already satisfied: python-dateutil<3.0,>=2.6.1 in /anaconda/envs/azureml_py36/lib/python3.6/site-packages (from cortex-certifai-common==1.3.2) (2.8.1)\n",
      "Requirement already satisfied: toolz<1.0,>=0.10.0 in /anaconda/envs/azureml_py36/lib/python3.6/site-packages (from cortex-certifai-common==1.3.2) (0.10.0)\n",
      "Requirement already satisfied: typing_extensions<4.0,>=3.6.6 in /anaconda/envs/azureml_py36/lib/python3.6/site-packages (from cortex-certifai-common==1.3.2) (3.7.4.2)\n",
      "Requirement already satisfied: certifi>=2017.4.17 in /anaconda/envs/azureml_py36/lib/python3.6/site-packages (from requests<3.0,>=2.12.4->cortex-certifai-common==1.3.2) (2020.6.20)\n",
      "Requirement already satisfied: chardet<4,>=3.0.2 in /anaconda/envs/azureml_py36/lib/python3.6/site-packages (from requests<3.0,>=2.12.4->cortex-certifai-common==1.3.2) (3.0.4)\n",
      "Requirement already satisfied: idna<3,>=2.5 in /anaconda/envs/azureml_py36/lib/python3.6/site-packages (from requests<3.0,>=2.12.4->cortex-certifai-common==1.3.2) (2.10)\n",
      "Requirement already satisfied: pytz>=2011k in /anaconda/envs/azureml_py36/lib/python3.6/site-packages (from pandas<=1.0.3,>=0.23.4->cortex-certifai-common==1.3.2) (2019.3)\n",
      "Requirement already satisfied: six>=1.5 in /anaconda/envs/azureml_py36/lib/python3.6/site-packages (from python-dateutil<3.0,>=2.6.1->cortex-certifai-common==1.3.2) (1.12.0)\n",
      "Building wheels for collected packages: cortex-certifai-common\n",
      "  Building wheel for cortex-certifai-common (setup.py) ... \u001b[?25ldone\n",
      "\u001b[?25h  Created wheel for cortex-certifai-common: filename=cortex_certifai_common-1.3.2-py3-none-any.whl size=73982 sha256=eecd827effa68f991b2ce85702cf8c0539814729d34389aaf148d9410293be83\n",
      "  Stored in directory: /home/azureuser/.cache/pip/wheels/de/db/6f/b79a8b513409877efab5a79de6d2da6ef5b674bb555f3b9aa3\n",
      "Successfully built cortex-certifai-common\n",
      "Installing collected packages: cortex-certifai-common\n",
      "  Attempting uninstall: cortex-certifai-common\n",
      "    Found existing installation: cortex-certifai-common 1.3.2\n",
      "    Uninstalling cortex-certifai-common-1.3.2:\n",
      "      Successfully uninstalled cortex-certifai-common-1.3.2\n",
      "Successfully installed cortex-certifai-common-1.3.2\n",
      "Processing /mnt/batch/tasks/shared/LS_root/mounts/clusters/sko-compute-1-3-2i/code/users/skottaram/msft-workshop/certifai_toolkit_1.3.2/packages/all/cortex-certifai-connectors-1.3.2-4-g8648134d.zip\n",
      "Requirement already satisfied: boto3<2.0.0,>=1.0.0 in /anaconda/envs/azureml_py36/lib/python3.6/site-packages (from cortex-certifai-connectors==1.3.2) (1.14.18)\n",
      "Requirement already satisfied: pydantic>=1.5.1 in /anaconda/envs/azureml_py36/lib/python3.6/site-packages (from cortex-certifai-connectors==1.3.2) (1.6.1)\n",
      "Requirement already satisfied: numpy<1.19,>=1.16.2 in /anaconda/envs/azureml_py36/lib/python3.6/site-packages (from cortex-certifai-connectors==1.3.2) (1.16.2)\n",
      "Requirement already satisfied: s3transfer<0.4.0,>=0.3.0 in /anaconda/envs/azureml_py36/lib/python3.6/site-packages (from boto3<2.0.0,>=1.0.0->cortex-certifai-connectors==1.3.2) (0.3.3)\n",
      "Requirement already satisfied: jmespath<1.0.0,>=0.7.1 in /anaconda/envs/azureml_py36/lib/python3.6/site-packages (from boto3<2.0.0,>=1.0.0->cortex-certifai-connectors==1.3.2) (0.10.0)\n",
      "Requirement already satisfied: botocore<1.18.0,>=1.17.18 in /anaconda/envs/azureml_py36/lib/python3.6/site-packages (from boto3<2.0.0,>=1.0.0->cortex-certifai-connectors==1.3.2) (1.17.18)\n",
      "Requirement already satisfied: dataclasses>=0.6; python_version < \"3.7\" in /anaconda/envs/azureml_py36/lib/python3.6/site-packages (from pydantic>=1.5.1->cortex-certifai-connectors==1.3.2) (0.7)\n",
      "Requirement already satisfied: urllib3<1.26,>=1.20; python_version != \"3.4\" in /anaconda/envs/azureml_py36/lib/python3.6/site-packages (from botocore<1.18.0,>=1.17.18->boto3<2.0.0,>=1.0.0->cortex-certifai-connectors==1.3.2) (1.25.9)\n",
      "Requirement already satisfied: docutils<0.16,>=0.10 in /anaconda/envs/azureml_py36/lib/python3.6/site-packages (from botocore<1.18.0,>=1.17.18->boto3<2.0.0,>=1.0.0->cortex-certifai-connectors==1.3.2) (0.15.2)\n",
      "Requirement already satisfied: python-dateutil<3.0.0,>=2.1 in /anaconda/envs/azureml_py36/lib/python3.6/site-packages (from botocore<1.18.0,>=1.17.18->boto3<2.0.0,>=1.0.0->cortex-certifai-connectors==1.3.2) (2.8.1)\n",
      "Requirement already satisfied: six>=1.5 in /anaconda/envs/azureml_py36/lib/python3.6/site-packages (from python-dateutil<3.0.0,>=2.1->botocore<1.18.0,>=1.17.18->boto3<2.0.0,>=1.0.0->cortex-certifai-connectors==1.3.2) (1.12.0)\n",
      "Building wheels for collected packages: cortex-certifai-connectors\n",
      "  Building wheel for cortex-certifai-connectors (setup.py) ... \u001b[?25ldone\n",
      "\u001b[?25h  Created wheel for cortex-certifai-connectors: filename=cortex_certifai_connectors-1.3.2-py3-none-any.whl size=14692 sha256=fb79ef0f01a87a89c4344252507d6a842994cc661e06c81e09910da81e0b26af\n",
      "  Stored in directory: /home/azureuser/.cache/pip/wheels/d1/7c/c2/0a1be296e4289c417ec0e456830a027161533e8968c8355a88\n",
      "Successfully built cortex-certifai-connectors\n",
      "Installing collected packages: cortex-certifai-connectors\n",
      "  Attempting uninstall: cortex-certifai-connectors\n",
      "    Found existing installation: cortex-certifai-connectors 1.3.2\n",
      "    Uninstalling cortex-certifai-connectors-1.3.2:\n",
      "      Successfully uninstalled cortex-certifai-connectors-1.3.2\n",
      "Successfully installed cortex-certifai-connectors-1.3.2\n",
      "Processing /mnt/batch/tasks/shared/LS_root/mounts/clusters/sko-compute-1-3-2i/code/users/skottaram/msft-workshop/certifai_toolkit_1.3.2/packages/all/cortex-certifai-model-sdk-1.3.2-4-g8648134d.zip\n",
      "Requirement already satisfied: flask in /anaconda/envs/azureml_py36/lib/python3.6/site-packages (from cortex-certifai-model-sdk==1.3.2) (1.0.3)\n",
      "Requirement already satisfied: numpy in /anaconda/envs/azureml_py36/lib/python3.6/site-packages (from cortex-certifai-model-sdk==1.3.2) (1.16.2)\n",
      "Requirement already satisfied: werkzeug>=0.15 in /anaconda/envs/azureml_py36/lib/python3.6/site-packages (from cortex-certifai-model-sdk==1.3.2) (0.16.1)\n",
      "Requirement already satisfied: scikit-learn>=0.20.3 in /anaconda/envs/azureml_py36/lib/python3.6/site-packages (from cortex-certifai-model-sdk==1.3.2) (0.20.3)\n",
      "Requirement already satisfied: Jinja2>=2.10 in /anaconda/envs/azureml_py36/lib/python3.6/site-packages (from flask->cortex-certifai-model-sdk==1.3.2) (2.11.2)\n",
      "Requirement already satisfied: itsdangerous>=0.24 in /anaconda/envs/azureml_py36/lib/python3.6/site-packages (from flask->cortex-certifai-model-sdk==1.3.2) (1.1.0)\n",
      "Requirement already satisfied: click>=5.1 in /anaconda/envs/azureml_py36/lib/python3.6/site-packages (from flask->cortex-certifai-model-sdk==1.3.2) (7.1.2)\n",
      "Requirement already satisfied: scipy>=0.13.3 in /anaconda/envs/azureml_py36/lib/python3.6/site-packages (from scikit-learn>=0.20.3->cortex-certifai-model-sdk==1.3.2) (1.4.1)\n",
      "Requirement already satisfied: MarkupSafe>=0.23 in /anaconda/envs/azureml_py36/lib/python3.6/site-packages (from Jinja2>=2.10->flask->cortex-certifai-model-sdk==1.3.2) (1.1.1)\n",
      "Building wheels for collected packages: cortex-certifai-model-sdk\n",
      "  Building wheel for cortex-certifai-model-sdk (setup.py) ... \u001b[?25ldone\n",
      "\u001b[?25h  Created wheel for cortex-certifai-model-sdk: filename=cortex_certifai_model_sdk-1.3.2-py3-none-any.whl size=6398 sha256=930f8173ff84331cae4d411d91def3162c5e312aaed06da77c826feda3f4bf9c\n",
      "  Stored in directory: /home/azureuser/.cache/pip/wheels/c3/47/62/a7d942ef05089f4385553858b9ebd8c6cc7724a26d2b299b0b\n",
      "Successfully built cortex-certifai-model-sdk\n",
      "Installing collected packages: cortex-certifai-model-sdk\n",
      "  Attempting uninstall: cortex-certifai-model-sdk\n",
      "    Found existing installation: cortex-certifai-model-sdk 1.3.2\n",
      "    Uninstalling cortex-certifai-model-sdk-1.3.2:\n",
      "      Successfully uninstalled cortex-certifai-model-sdk-1.3.2\n",
      "Successfully installed cortex-certifai-model-sdk-1.3.2\n",
      "Processing /mnt/batch/tasks/shared/LS_root/mounts/clusters/sko-compute-1-3-2i/code/users/skottaram/msft-workshop/certifai_toolkit_1.3.2/packages/all/cortex-certifai-scanner-1.3.2-4-g8648134d.zip\n",
      "Requirement already satisfied: numpy<1.19,>=1.16.2 in /anaconda/envs/azureml_py36/lib/python3.6/site-packages (from cortex-certifai-scanner==1.3.2) (1.16.2)\n",
      "Requirement already satisfied: pandas<=1.0.3,>=0.23.4 in /anaconda/envs/azureml_py36/lib/python3.6/site-packages (from cortex-certifai-scanner==1.3.2) (0.23.4)\n",
      "Requirement already satisfied: marshmallow<4.0,>=3.0.0 in /anaconda/envs/azureml_py36/lib/python3.6/site-packages (from cortex-certifai-scanner==1.3.2) (3.7.1)\n",
      "Requirement already satisfied: pyyaml<6.0,>=3.13 in /anaconda/envs/azureml_py36/lib/python3.6/site-packages (from cortex-certifai-scanner==1.3.2) (5.1.2)\n",
      "Requirement already satisfied: python-dateutil<3.0,>=2.6.1 in /anaconda/envs/azureml_py36/lib/python3.6/site-packages (from cortex-certifai-scanner==1.3.2) (2.8.1)\n",
      "Requirement already satisfied: Jinja2<3.0,>=2.10.3 in /anaconda/envs/azureml_py36/lib/python3.6/site-packages (from cortex-certifai-scanner==1.3.2) (2.11.2)\n",
      "Requirement already satisfied: dataclasses<1.0,>=0.6 in /anaconda/envs/azureml_py36/lib/python3.6/site-packages (from cortex-certifai-scanner==1.3.2) (0.7)\n",
      "Requirement already satisfied: pytz>=2011k in /anaconda/envs/azureml_py36/lib/python3.6/site-packages (from pandas<=1.0.3,>=0.23.4->cortex-certifai-scanner==1.3.2) (2019.3)\n",
      "Requirement already satisfied: six>=1.5 in /anaconda/envs/azureml_py36/lib/python3.6/site-packages (from python-dateutil<3.0,>=2.6.1->cortex-certifai-scanner==1.3.2) (1.12.0)\n",
      "Requirement already satisfied: MarkupSafe>=0.23 in /anaconda/envs/azureml_py36/lib/python3.6/site-packages (from Jinja2<3.0,>=2.10.3->cortex-certifai-scanner==1.3.2) (1.1.1)\n",
      "Building wheels for collected packages: cortex-certifai-scanner\n",
      "  Building wheel for cortex-certifai-scanner (setup.py) ... \u001b[?25ldone\n",
      "\u001b[?25h  Created wheel for cortex-certifai-scanner: filename=cortex_certifai_scanner-1.3.2-py3-none-any.whl size=75430 sha256=b8393b05a5e8f7db712fa74ea7d4ca79491da2d38187bbb2b986a0a32b72f9de\n",
      "  Stored in directory: /home/azureuser/.cache/pip/wheels/6e/ae/4d/a8e8989d64f557e3dfd23aa5edbe709970f7dc8c8037a93854\n",
      "Successfully built cortex-certifai-scanner\n",
      "Installing collected packages: cortex-certifai-scanner\n",
      "  Attempting uninstall: cortex-certifai-scanner\n",
      "    Found existing installation: cortex-certifai-scanner 1.3.2\n",
      "    Uninstalling cortex-certifai-scanner-1.3.2:\n",
      "      Successfully uninstalled cortex-certifai-scanner-1.3.2\n",
      "Successfully installed cortex-certifai-scanner-1.3.2\n",
      "Processing /mnt/batch/tasks/shared/LS_root/mounts/clusters/sko-compute-1-3-2i/code/users/skottaram/msft-workshop/certifai_toolkit_1.3.2/packages/python3.6/cortex-certifai-engine-1.3.2-4-g8648134d-py3.6.10.zip\n",
      "Requirement already satisfied: numpy<1.19,>=1.16.2 in /anaconda/envs/azureml_py36/lib/python3.6/site-packages (from cortex-certifai-engine==1.3.2) (1.16.2)\n",
      "Requirement already satisfied: pandas<=1.0.3,>=0.23.4 in /anaconda/envs/azureml_py36/lib/python3.6/site-packages (from cortex-certifai-engine==1.3.2) (0.23.4)\n",
      "Requirement already satisfied: scikit-learn<0.23,>=0.20.3 in /anaconda/envs/azureml_py36/lib/python3.6/site-packages (from cortex-certifai-engine==1.3.2) (0.20.3)\n",
      "Requirement already satisfied: scipy<2.0,>=1.1.0 in /anaconda/envs/azureml_py36/lib/python3.6/site-packages (from cortex-certifai-engine==1.3.2) (1.4.1)\n",
      "Requirement already satisfied: toolz<1.0,>=0.10.0 in /anaconda/envs/azureml_py36/lib/python3.6/site-packages (from cortex-certifai-engine==1.3.2) (0.10.0)\n",
      "Requirement already satisfied: rsa<5.0,>=4.0 in /anaconda/envs/azureml_py36/lib/python3.6/site-packages (from cortex-certifai-engine==1.3.2) (4.6)\n",
      "Requirement already satisfied: cuid<0.4,>=0.3 in /anaconda/envs/azureml_py36/lib/python3.6/site-packages (from cortex-certifai-engine==1.3.2) (0.3)\n",
      "Requirement already satisfied: pyyaml<6.0,>=3.13 in /anaconda/envs/azureml_py36/lib/python3.6/site-packages (from cortex-certifai-engine==1.3.2) (5.1.2)\n",
      "Requirement already satisfied: pytz>=2011k in /anaconda/envs/azureml_py36/lib/python3.6/site-packages (from pandas<=1.0.3,>=0.23.4->cortex-certifai-engine==1.3.2) (2019.3)\n",
      "Requirement already satisfied: python-dateutil>=2.5.0 in /anaconda/envs/azureml_py36/lib/python3.6/site-packages (from pandas<=1.0.3,>=0.23.4->cortex-certifai-engine==1.3.2) (2.8.1)\n",
      "Requirement already satisfied: pyasn1>=0.1.3 in /anaconda/envs/azureml_py36/lib/python3.6/site-packages (from rsa<5.0,>=4.0->cortex-certifai-engine==1.3.2) (0.4.8)\n",
      "Requirement already satisfied: six>=1.5 in /anaconda/envs/azureml_py36/lib/python3.6/site-packages (from python-dateutil>=2.5.0->pandas<=1.0.3,>=0.23.4->cortex-certifai-engine==1.3.2) (1.12.0)\n",
      "Building wheels for collected packages: cortex-certifai-engine\n",
      "  Building wheel for cortex-certifai-engine (setup.py) ... \u001b[?25ldone\n",
      "\u001b[?25h  Created wheel for cortex-certifai-engine: filename=cortex_certifai_engine-1.3.2-py3-none-any.whl size=2251166 sha256=82530971f47cd04019c03361d6a9da1f140ec48533469433b07f7b225c55b54b\n",
      "  Stored in directory: /home/azureuser/.cache/pip/wheels/2d/f3/04/1b70e61aab87892c25c611e30362acd0a6271a4bb46f562fee\n",
      "Successfully built cortex-certifai-engine\n",
      "Installing collected packages: cortex-certifai-engine\n",
      "  Attempting uninstall: cortex-certifai-engine\n",
      "    Found existing installation: cortex-certifai-engine 1.3.2\n",
      "    Uninstalling cortex-certifai-engine-1.3.2:\n",
      "      Successfully uninstalled cortex-certifai-engine-1.3.2\n",
      "Successfully installed cortex-certifai-engine-1.3.2\n"
     ]
    }
   ],
   "source": [
    "!find $certifai_toolkit_path/packages/all       -type f ! -name \"*console-*\" | xargs -I % sh -c 'pip install % ' ;\n",
    "!find $certifai_toolkit_path/packages/python3.6 -type f   -name \"*engine-*\"                      | xargs -I % sh -c 'pip install % ' ;\n"
   ]
  },
  {
   "cell_type": "code",
   "execution_count": 16,
   "metadata": {},
   "outputs": [
    {
     "data": {
      "text/plain": [
       "'1.3.2'"
      ]
     },
     "execution_count": 16,
     "metadata": {},
     "output_type": "execute_result"
    }
   ],
   "source": [
    "# make sure certifai package was installed correctly\n",
    "from certifai.scanner.version import get_version\n",
    "get_version()"
   ]
  },
  {
   "cell_type": "code",
   "execution_count": 17,
   "metadata": {},
   "outputs": [],
   "source": [
    "import pandas as pd"
   ]
  },
  {
   "cell_type": "markdown",
   "metadata": {},
   "source": [
    "### Using Cortex Certifai python-package to launch a scan"
   ]
  },
  {
   "cell_type": "markdown",
   "metadata": {},
   "source": [
    "\\### define cortex certifai task type\n",
    "\n",
    "- `CertifaiTaskOutcomes` : cortex certifai supports classification as well as regression models. here we have an example of binary-classification (e.g. predict whether loan should be granted or not)\n",
    "- `CertifaiOutcomeValue` : define the different outcomes possible from the model predictions. here we have a model that predicts either 1(loan granted) or 2(loan denied)\n",
    "\n",
    "**Note**: Please refer to [Certifai Api Docs](https://cognitivescale.github.io/cortex-certifai/certifai-api-ref/certifai.scanner.builder.html) for more details"
   ]
  },
  {
   "cell_type": "code",
   "execution_count": 18,
   "metadata": {},
   "outputs": [],
   "source": [
    "df = pd.read_csv(\"data/german_credit_eval.csv\")\n",
    "df_sample = df.sample(100)"
   ]
  },
  {
   "cell_type": "code",
   "execution_count": 19,
   "metadata": {},
   "outputs": [],
   "source": [
    "from certifai.scanner.builder import (CertifaiScanBuilder, CertifaiPredictorWrapper, CertifaiModel, CertifaiModelMetric,\n",
    "                                      CertifaiDataset, CertifaiGroupingFeature, CertifaiDatasetSource,\n",
    "                                      CertifaiPredictionTask, CertifaiTaskOutcomes, CertifaiOutcomeValue, CertifaiPredictorWrapper)\n",
    "from certifai.scanner.report_utils import scores, construct_scores_dataframe"
   ]
  },
  {
   "cell_type": "code",
   "execution_count": 20,
   "metadata": {},
   "outputs": [],
   "source": [
    "svm_model_proxy = CertifaiPredictorWrapper(svm_model, encoder=encoder)\n",
    "logistic_model_proxy = CertifaiPredictorWrapper(logistic_model, encoder=encoder)"
   ]
  },
  {
   "cell_type": "code",
   "execution_count": 21,
   "metadata": {},
   "outputs": [],
   "source": [
    "# Create the scan object from scratch using the ScanBuilder class with tasks and outcomes\n",
    "\n",
    "# First define the possible prediction outcomes\n",
    "task = CertifaiPredictionTask(CertifaiTaskOutcomes.classification(\n",
    "    [\n",
    "        CertifaiOutcomeValue(1, name='Loan granted', favorable=True),\n",
    "        CertifaiOutcomeValue(2, name='Loan denied')\n",
    "    ]),\n",
    "    prediction_description='Determine whether a loan should be granted')"
   ]
  },
  {
   "cell_type": "code",
   "execution_count": 22,
   "metadata": {},
   "outputs": [],
   "source": [
    "# Fairness Scan Setup"
   ]
  },
  {
   "cell_type": "code",
   "execution_count": 23,
   "metadata": {},
   "outputs": [],
   "source": [
    "#  create a certifai scan object and add the certifai task created above\n",
    "fairness_scan = CertifaiScanBuilder.create('model_auth_demo_fairness',\n",
    "                                  prediction_task=task)"
   ]
  },
  {
   "cell_type": "code",
   "execution_count": 24,
   "metadata": {},
   "outputs": [],
   "source": [
    "# Create a Certifai Model Object using the web service (from earlier) by passing the deployed web service url\n",
    "first_model = CertifaiModel('SVM',\n",
    "                            local_predictor=svm_model_proxy)\n",
    "fairness_scan.add_model(first_model)\n",
    "\n",
    "second_model = CertifaiModel('logistic',\n",
    "                            local_predictor=logistic_model_proxy)\n",
    "fairness_scan.add_model(second_model)\n",
    "\n",
    "# Add corresponding model headers for service authentication and content-type\n",
    "\n",
    "# add the default headers applicable to all models\n",
    "fairness_scan.add_model_header(header_name='Content-Type',header_value='application/json')"
   ]
  },
  {
   "cell_type": "code",
   "execution_count": 25,
   "metadata": {},
   "outputs": [],
   "source": [
    "# german_credit_eval_data_file = 'data/german_credit_eval_100.csv'\n",
    "eval_dataset = CertifaiDataset('evaluation',\n",
    "                               CertifaiDatasetSource.dataframe(df_sample))\n",
    "fairness_scan.add_dataset(eval_dataset)"
   ]
  },
  {
   "cell_type": "code",
   "execution_count": 26,
   "metadata": {},
   "outputs": [],
   "source": [
    "# Setup an evaluation for fairness on the above dataset using the model\n",
    "# We'll look at disparity between groups defined by marital status and age\n",
    "fairness_scan.add_fairness_grouping_feature(CertifaiGroupingFeature('age'))\n",
    "fairness_scan.add_fairness_grouping_feature(CertifaiGroupingFeature('status'))\n",
    "fairness_scan.add_evaluation_type('fairness')\n",
    "fairness_scan.evaluation_dataset_id = 'evaluation'"
   ]
  },
  {
   "cell_type": "code",
   "execution_count": 27,
   "metadata": {},
   "outputs": [],
   "source": [
    "# Because the dataset contains a ground truth outcome column which the model does not\n",
    "# expect to receive as input we need to state that in the dataset schema (since it cannot\n",
    "# be inferred from the CSV)\n",
    "fairness_scan.dataset_schema.outcome_feature_name = 'outcome'"
   ]
  },
  {
   "cell_type": "code",
   "execution_count": 28,
   "metadata": {},
   "outputs": [
    {
     "name": "stdout",
     "output_type": "stream",
     "text": [
      "Starting scan with model_use_case_id: 'model_auth_demo_fairness' and scan_id: '41d6edc649e0'\n",
      "[--------------------] 2020-07-27 23:06:12.278505 - 0 of 2 reports (0.0% complete) - Running fairness evaluation for model: SVM\n"
     ]
    },
    {
     "name": "stderr",
     "output_type": "stream",
     "text": [
      "2020-07-27 23:06:12,310 root   WARNING  Insufficient examples of some fairness classes to guarantee convergence (smallest class size is for 'male : divorced/separated' with 4 samples)\n",
      "2020-07-27 23:06:29,717 root   WARNING  Examples of protected class (8, 'female : divorced/separated/married') exhausted before convergence after 34 samples\n",
      "2020-07-27 23:06:29,718 root   WARNING  Examples of protected class (12, '> 25 years') exhausted before convergence after 81 samples\n",
      "2020-07-27 23:06:29,719 root   WARNING  Examples of protected class (12, '<= 25 years') exhausted before convergence after 18 samples\n",
      "2020-07-27 23:06:29,720 root   WARNING  Examples of protected class (8, 'male : single') exhausted before convergence after 52 samples\n",
      "2020-07-27 23:06:29,721 root   WARNING  Examples of protected class (8, 'male : married/widowed') exhausted before convergence after 9 samples\n",
      "2020-07-27 23:06:29,722 root   WARNING  Examples of protected class (8, 'male : divorced/separated') exhausted before convergence after 4 samples\n"
     ]
    },
    {
     "name": "stdout",
     "output_type": "stream",
     "text": [
      "[##########----------] 2020-07-27 23:06:31.381197 - 1 of 2 reports (50.0% complete) - Running fairness evaluation for model: logistic\n"
     ]
    },
    {
     "name": "stderr",
     "output_type": "stream",
     "text": [
      "2020-07-27 23:06:31,404 root   WARNING  Insufficient examples of some fairness classes to guarantee convergence (smallest class size is for 'male : divorced/separated' with 4 samples)\n",
      "2020-07-27 23:06:46,564 root   WARNING  Examples of protected class (12, '> 25 years') exhausted before convergence after 81 samples\n",
      "2020-07-27 23:06:46,567 root   WARNING  Examples of protected class (8, 'male : single') exhausted before convergence after 52 samples\n",
      "2020-07-27 23:06:46,569 root   WARNING  Examples of protected class (8, 'male : married/widowed') exhausted before convergence after 9 samples\n",
      "2020-07-27 23:06:46,571 root   WARNING  Examples of protected class (8, 'female : divorced/separated/married') exhausted before convergence after 34 samples\n",
      "2020-07-27 23:06:46,573 root   WARNING  Examples of protected class (8, 'male : divorced/separated') exhausted before convergence after 4 samples\n",
      "2020-07-27 23:06:46,575 root   WARNING  Examples of protected class (12, '<= 25 years') exhausted before convergence after 18 samples\n"
     ]
    },
    {
     "name": "stdout",
     "output_type": "stream",
     "text": [
      "[####################] 2020-07-27 23:06:48.239602 - 2 of 2 reports (100.0% complete) - Completed all evaluations\n"
     ]
    }
   ],
   "source": [
    "# Run the scan.\n",
    "# By default this will write the results into individual report files (one per model and evaluation\n",
    "# type) in the 'reports' directory relative to the Jupyter root.  This may be disabled by specifying\n",
    "# `write_reports=False` as below\n",
    "# The result is a dictionary of dictionaries of reports.  The top level dict key is the evaluation type\n",
    "# and the second level key is model id.\n",
    "# Reports saved as JSON (which `write_reports=True` will do) may be visualized in the console app\n",
    "result = fairness_scan.run(write_reports=False)"
   ]
  },
  {
   "cell_type": "markdown",
   "metadata": {},
   "source": [
    "##  Fairness by model"
   ]
  },
  {
   "cell_type": "code",
   "execution_count": 29,
   "metadata": {},
   "outputs": [
    {
     "data": {
      "text/html": [
       "<div>\n",
       "<style scoped>\n",
       "    .dataframe tbody tr th:only-of-type {\n",
       "        vertical-align: middle;\n",
       "    }\n",
       "\n",
       "    .dataframe tbody tr th {\n",
       "        vertical-align: top;\n",
       "    }\n",
       "\n",
       "    .dataframe thead th {\n",
       "        text-align: right;\n",
       "    }\n",
       "</style>\n",
       "<table border=\"1\" class=\"dataframe\">\n",
       "  <thead>\n",
       "    <tr style=\"text-align: right;\">\n",
       "      <th></th>\n",
       "      <th>context</th>\n",
       "      <th>type</th>\n",
       "      <th>overall fairness</th>\n",
       "      <th>overall fairness lower bound</th>\n",
       "      <th>overall fairness upper bound</th>\n",
       "      <th>Feature (age)</th>\n",
       "      <th>Feature (age) lower bound</th>\n",
       "      <th>Feature (age) upper bound</th>\n",
       "      <th>Group details (&lt;= 25 years)</th>\n",
       "      <th>Group details (&lt;= 25 years) lower bound</th>\n",
       "      <th>...</th>\n",
       "      <th>Group details (female : divorced/separated/married) upper bound</th>\n",
       "      <th>Group details (male : divorced/separated)</th>\n",
       "      <th>Group details (male : divorced/separated) lower bound</th>\n",
       "      <th>Group details (male : divorced/separated) upper bound</th>\n",
       "      <th>Group details (male : married/widowed)</th>\n",
       "      <th>Group details (male : married/widowed) lower bound</th>\n",
       "      <th>Group details (male : married/widowed) upper bound</th>\n",
       "      <th>Group details (male : single)</th>\n",
       "      <th>Group details (male : single) lower bound</th>\n",
       "      <th>Group details (male : single) upper bound</th>\n",
       "    </tr>\n",
       "  </thead>\n",
       "  <tbody>\n",
       "    <tr>\n",
       "      <th>SVM (burden)</th>\n",
       "      <td>SVM</td>\n",
       "      <td>burden</td>\n",
       "      <td>51.282051</td>\n",
       "      <td>25.292865</td>\n",
       "      <td>77.165354</td>\n",
       "      <td>66.631799</td>\n",
       "      <td>39.733104</td>\n",
       "      <td>95.910781</td>\n",
       "      <td>0.111111</td>\n",
       "      <td>0.059524</td>\n",
       "      <td>...</td>\n",
       "      <td>0.136905</td>\n",
       "      <td>0.071429</td>\n",
       "      <td>0.0</td>\n",
       "      <td>0.285714</td>\n",
       "      <td>0.031250</td>\n",
       "      <td>0.0</td>\n",
       "      <td>0.125</td>\n",
       "      <td>0.061667</td>\n",
       "      <td>0.033333</td>\n",
       "      <td>0.134259</td>\n",
       "    </tr>\n",
       "    <tr>\n",
       "      <th>logistic (burden)</th>\n",
       "      <td>logistic</td>\n",
       "      <td>burden</td>\n",
       "      <td>42.287248</td>\n",
       "      <td>18.517725</td>\n",
       "      <td>66.829855</td>\n",
       "      <td>49.430784</td>\n",
       "      <td>26.012919</td>\n",
       "      <td>85.133606</td>\n",
       "      <td>0.108527</td>\n",
       "      <td>0.056918</td>\n",
       "      <td>...</td>\n",
       "      <td>0.144737</td>\n",
       "      <td>0.055556</td>\n",
       "      <td>0.0</td>\n",
       "      <td>0.250000</td>\n",
       "      <td>0.025514</td>\n",
       "      <td>0.0</td>\n",
       "      <td>0.125</td>\n",
       "      <td>0.034019</td>\n",
       "      <td>0.014174</td>\n",
       "      <td>0.090909</td>\n",
       "    </tr>\n",
       "  </tbody>\n",
       "</table>\n",
       "<p>2 rows × 29 columns</p>\n",
       "</div>"
      ],
      "text/plain": [
       "                    context    type  overall fairness  \\\n",
       "SVM (burden)            SVM  burden         51.282051   \n",
       "logistic (burden)  logistic  burden         42.287248   \n",
       "\n",
       "                   overall fairness lower bound  overall fairness upper bound  \\\n",
       "SVM (burden)                          25.292865                     77.165354   \n",
       "logistic (burden)                     18.517725                     66.829855   \n",
       "\n",
       "                   Feature (age)  Feature (age) lower bound  \\\n",
       "SVM (burden)           66.631799                  39.733104   \n",
       "logistic (burden)      49.430784                  26.012919   \n",
       "\n",
       "                   Feature (age) upper bound  Group details (<= 25 years)  \\\n",
       "SVM (burden)                       95.910781                     0.111111   \n",
       "logistic (burden)                  85.133606                     0.108527   \n",
       "\n",
       "                   Group details (<= 25 years) lower bound  ...  \\\n",
       "SVM (burden)                                      0.059524  ...   \n",
       "logistic (burden)                                 0.056918  ...   \n",
       "\n",
       "                   Group details (female : divorced/separated/married) upper bound  \\\n",
       "SVM (burden)                                                0.136905                 \n",
       "logistic (burden)                                           0.144737                 \n",
       "\n",
       "                   Group details (male : divorced/separated)  \\\n",
       "SVM (burden)                                        0.071429   \n",
       "logistic (burden)                                   0.055556   \n",
       "\n",
       "                   Group details (male : divorced/separated) lower bound  \\\n",
       "SVM (burden)                                                     0.0       \n",
       "logistic (burden)                                                0.0       \n",
       "\n",
       "                   Group details (male : divorced/separated) upper bound  \\\n",
       "SVM (burden)                                                0.285714       \n",
       "logistic (burden)                                           0.250000       \n",
       "\n",
       "                   Group details (male : married/widowed)  \\\n",
       "SVM (burden)                                     0.031250   \n",
       "logistic (burden)                                0.025514   \n",
       "\n",
       "                   Group details (male : married/widowed) lower bound  \\\n",
       "SVM (burden)                                                     0.0    \n",
       "logistic (burden)                                                0.0    \n",
       "\n",
       "                   Group details (male : married/widowed) upper bound  \\\n",
       "SVM (burden)                                                   0.125    \n",
       "logistic (burden)                                              0.125    \n",
       "\n",
       "                   Group details (male : single)  \\\n",
       "SVM (burden)                            0.061667   \n",
       "logistic (burden)                       0.034019   \n",
       "\n",
       "                   Group details (male : single) lower bound  \\\n",
       "SVM (burden)                                        0.033333   \n",
       "logistic (burden)                                   0.014174   \n",
       "\n",
       "                   Group details (male : single) upper bound  \n",
       "SVM (burden)                                        0.134259  \n",
       "logistic (burden)                                   0.090909  \n",
       "\n",
       "[2 rows x 29 columns]"
      ]
     },
     "metadata": {},
     "output_type": "display_data"
    },
    {
     "name": "stdout",
     "output_type": "stream",
     "text": [
      "\n",
      "\n"
     ]
    },
    {
     "data": {
      "image/png": "[encoded data removed]",
      "text/plain": [
       "<Figure size 864x288 with 1 Axes>"
      ]
     },
     "metadata": {
      "needs_background": "light"
     },
     "output_type": "display_data"
    }
   ],
   "source": [
    "# Many scores also come with 95% confidence bounds, which we omitted above for the sake of brevity, but\n",
    "# we can include those also.  In the example here we include the confidence bounds but only display the scores\n",
    "# to a reduced level of detail to keep a smallish table for display purposes\n",
    "df = construct_scores_dataframe(scores('fairness', result, max_depth=1))\n",
    "display(df)\n",
    "\n",
    "print(\"\\n\")\n",
    "\n",
    "# Let's chart the fairness measure by feature for each model together with its confidence bounds for\n",
    "# easier visual comparison:\n",
    "%matplotlib inline\n",
    "import matplotlib.pyplot as plt\n",
    "\n",
    "features = ['Feature (status)', 'Feature (age)']\n",
    "feature_scores = df[features]\n",
    "feature_lower_bounds = df[[f + ' lower bound' for f in features]]\n",
    "feature_upper_bounds = df[[f + ' upper bound' for f in features]]\n",
    "\n",
    "fig, ax = plt.subplots(figsize=[12,4])\n",
    "ax.set_title('Feature fairness by model', fontsize=20)\n",
    "colors = ['tab:blue', 'tab:orange', 'tab:green', 'tab:red', 'tab:pink']\n",
    "width = 0.4\n",
    "\n",
    "ax.set_xticks(np.arange(len(features))+width)\n",
    "ax.set_xticklabels(features)\n",
    "\n",
    "for idx in range(len(df)):\n",
    "    central_values = list(feature_scores.iloc[idx])\n",
    "    lower_bounds = list(feature_lower_bounds.iloc[idx])\n",
    "    upper_bounds = list(feature_upper_bounds.iloc[idx])\n",
    "    lower_errors = [central_values[i] - lower_bounds[i] for i in range(len(central_values))]\n",
    "    upper_errors = [upper_bounds[i] - central_values[i] for i in range(len(central_values))]\n",
    "\n",
    "    ax.bar([width/2+idx*width+f_idx for f_idx in range(len(features))],\n",
    "            central_values,\n",
    "            width,\n",
    "            yerr=[lower_errors, upper_errors],\n",
    "            color=colors[idx],\n",
    "            label=df.index[idx],\n",
    "            capsize=10)\n",
    "\n",
    "fig.legend(fontsize=14, bbox_to_anchor=(1.1,.6))\n",
    "fig.tight_layout()\n",
    "fig.subplots_adjust(right=0.8) \n",
    "plt.show()"
   ]
  },
  {
   "cell_type": "code",
   "execution_count": 30,
   "metadata": {},
   "outputs": [
    {
     "name": "stdout",
     "output_type": "stream",
     "text": [
      "dataset_schema:\n",
      "  outcome_column: outcome\n",
      "datasets:\n",
      "- dataset_id: evaluation\n",
      "  delimiter: ','\n",
      "  file_type: loaded\n",
      "  has_header: true\n",
      "  quote_character: '\"'\n",
      "evaluation:\n",
      "  evaluation_dataset_id: evaluation\n",
      "  evaluation_types:\n",
      "  - fairness\n",
      "  fairness_grouping_features:\n",
      "  - name: age\n",
      "  - name: status\n",
      "  name: model_auth_demo_fairness\n",
      "  prediction_description: Determine whether a loan should be granted\n",
      "  prediction_favorability: explicit\n",
      "  prediction_values:\n",
      "  - favorable: true\n",
      "    name: Loan granted\n",
      "    value: 1\n",
      "  - favorable: false\n",
      "    name: Loan denied\n",
      "    value: 2\n",
      "model_headers:\n",
      "  default:\n",
      "  - name: Content-Type\n",
      "    value: application/json\n",
      "model_use_case:\n",
      "  model_use_case_id: model_auth_demo_fairness\n",
      "  name: model_auth_demo_fairness\n",
      "  task_type: binary-classification\n",
      "models:\n",
      "- model_id: SVM\n",
      "  name: SVM\n",
      "  prediction_value_order:\n",
      "  - 1\n",
      "  - 2\n",
      "- model_id: logistic\n",
      "  name: logistic\n",
      "  prediction_value_order:\n",
      "  - 1\n",
      "  - 2\n",
      "\n"
     ]
    }
   ],
   "source": [
    "scan_yaml = fairness_scan.extract_yaml()\n",
    "print(scan_yaml)"
   ]
  },
  {
   "cell_type": "code",
   "execution_count": 31,
   "metadata": {},
   "outputs": [],
   "source": [
    "robustness_scan = CertifaiScanBuilder.create('model_auth_demo_robustness',\n",
    "                                  prediction_task=task)"
   ]
  },
  {
   "cell_type": "code",
   "execution_count": 32,
   "metadata": {},
   "outputs": [],
   "source": [
    "# Create a Certifai Model Object using the web service (from earlier) by passing the deployed web service url\n",
    "first_model = CertifaiModel('SVM',\n",
    "                            local_predictor=svm_model_proxy)\n",
    "robustness_scan.add_model(first_model)\n",
    "\n",
    "second_model = CertifaiModel('logistic',\n",
    "                            local_predictor=logistic_model_proxy)\n",
    "robustness_scan.add_model(second_model)\n",
    "\n",
    "# Add corresponding model headers for service authentication and content-type\n",
    "\n",
    "# add the default headers applicable to all models\n",
    "robustness_scan.add_model_header(header_name='Content-Type',header_value='application/json')"
   ]
  },
  {
   "cell_type": "code",
   "execution_count": 33,
   "metadata": {},
   "outputs": [],
   "source": [
    "# german_credit_eval_data_file = 'data/german_credit_eval_100.csv'\n",
    "eval_dataset = CertifaiDataset('evaluation',\n",
    "                               CertifaiDatasetSource.dataframe(df_sample))\n",
    "robustness_scan.add_dataset(eval_dataset)"
   ]
  },
  {
   "cell_type": "code",
   "execution_count": 34,
   "metadata": {},
   "outputs": [
    {
     "name": "stdout",
     "output_type": "stream",
     "text": [
      "[--------------------] 2020-07-27 23:06:48.826972 - 0 of 2 reports (0.0% complete) - Starting scan with model_use_case_id: 'model_auth_demo_robustness' and scan_id: '2f0dab9d285d'\n",
      "[--------------------] 2020-07-27 23:06:48.827151 - 0 of 2 reports (0.0% complete) - Running robustness evaluation for model: SVM\n",
      "[##########----------] 2020-07-27 23:08:17.253263 - 1 of 2 reports (50.0% complete) - Running robustness evaluation for model: logistic\n",
      "[####################] 2020-07-27 23:09:51.080809 - 2 of 2 reports (100.0% complete) - Completed all evaluations\n"
     ]
    }
   ],
   "source": [
    "# Setup an evaluation for robustness on the above dataset using the model\n",
    "robustness_scan.add_evaluation_type('robustness')\n",
    "robustness_scan.evaluation_dataset_id = 'evaluation'\n",
    "\n",
    "# Because the dataset contains a ground truth outcome column which the model does not\n",
    "# expect to receive as input we need to state that in the dataset schema (since it cannot\n",
    "# be inferred from the CSV)\n",
    "robustness_scan.dataset_schema.outcome_feature_name = 'outcome'\n",
    "\n",
    "# Run the scan.\n",
    "# By default this will write the results into individual report files (one per model and evaluation\n",
    "# type) in the 'reports' directory relative to the Jupyter root.  This may be disabled by specifying\n",
    "# `write_reports=False` as below\n",
    "# The result is a dictionary of dictionaries of reports.  The top level dict key is the evaluation type\n",
    "# and the second level key is model id.\n",
    "# Reports saved as JSON (which `write_reports=True` will do) may be visualized in the console app\n",
    "result = robustness_scan.run(write_reports=False)"
   ]
  },
  {
   "cell_type": "code",
   "execution_count": 35,
   "metadata": {},
   "outputs": [
    {
     "data": {
      "text/html": [
       "<div>\n",
       "<style scoped>\n",
       "    .dataframe tbody tr th:only-of-type {\n",
       "        vertical-align: middle;\n",
       "    }\n",
       "\n",
       "    .dataframe tbody tr th {\n",
       "        vertical-align: top;\n",
       "    }\n",
       "\n",
       "    .dataframe thead th {\n",
       "        text-align: right;\n",
       "    }\n",
       "</style>\n",
       "<table border=\"1\" class=\"dataframe\">\n",
       "  <thead>\n",
       "    <tr style=\"text-align: right;\">\n",
       "      <th></th>\n",
       "      <th>context</th>\n",
       "      <th>robustness</th>\n",
       "      <th>robustness lower bound</th>\n",
       "      <th>robustness upper bound</th>\n",
       "    </tr>\n",
       "  </thead>\n",
       "  <tbody>\n",
       "    <tr>\n",
       "      <th>SVM</th>\n",
       "      <td>SVM</td>\n",
       "      <td>83.895933</td>\n",
       "      <td>79.609748</td>\n",
       "      <td>87.690218</td>\n",
       "    </tr>\n",
       "    <tr>\n",
       "      <th>logistic</th>\n",
       "      <td>logistic</td>\n",
       "      <td>85.541659</td>\n",
       "      <td>81.751353</td>\n",
       "      <td>89.007094</td>\n",
       "    </tr>\n",
       "  </tbody>\n",
       "</table>\n",
       "</div>"
      ],
      "text/plain": [
       "           context  robustness  robustness lower bound  robustness upper bound\n",
       "SVM            SVM   83.895933               79.609748               87.690218\n",
       "logistic  logistic   85.541659               81.751353               89.007094"
      ]
     },
     "metadata": {},
     "output_type": "display_data"
    }
   ],
   "source": [
    "df = construct_scores_dataframe(scores('robustness', result, max_depth=1))\n",
    "display(df)"
   ]
  },
  {
   "cell_type": "code",
   "execution_count": 36,
   "metadata": {},
   "outputs": [],
   "source": [
    "explanation_scan = CertifaiScanBuilder.create('model_auth_demo_explanation',\n",
    "                                  prediction_task=task)"
   ]
  },
  {
   "cell_type": "code",
   "execution_count": 37,
   "metadata": {},
   "outputs": [],
   "source": [
    "# Create a Certifai Model Object using the web service (from earlier) by passing the deployed web service url\n",
    "first_model = CertifaiModel('SVM',\n",
    "                            local_predictor=svm_model_proxy)\n",
    "explanation_scan.add_model(first_model)\n",
    "\n",
    "second_model = CertifaiModel('logistic',\n",
    "                            local_predictor=logistic_model_proxy)\n",
    "explanation_scan.add_model(second_model)\n",
    "\n",
    "# Add corresponding model headers for service authentication and content-type\n",
    "\n",
    "# add the default headers applicable to all models\n",
    "explanation_scan.add_model_header(header_name='Content-Type',header_value='application/json')"
   ]
  },
  {
   "cell_type": "code",
   "execution_count": 38,
   "metadata": {},
   "outputs": [],
   "source": [
    "# german_credit_eval_data_file = 'data/german_credit_eval_100.csv'\n",
    "expl_dataset = CertifaiDataset('explanation',\n",
    "                               CertifaiDatasetSource.dataframe(df_sample))\n",
    "eval_dataset = CertifaiDataset('evaluation',\n",
    "                               CertifaiDatasetSource.dataframe(df_sample))\n",
    "explanation_scan.add_dataset(eval_dataset)\n",
    "explanation_scan.add_dataset(expl_dataset)"
   ]
  },
  {
   "cell_type": "code",
   "execution_count": 39,
   "metadata": {},
   "outputs": [
    {
     "name": "stdout",
     "output_type": "stream",
     "text": [
      "[--------------------] 2020-07-27 23:09:51.246315 - 0 of 2 reports (0.0% complete) - Starting scan with model_use_case_id: 'model_auth_demo_explanation' and scan_id: '2d834501af25'\n",
      "[--------------------] 2020-07-27 23:09:51.246509 - 0 of 2 reports (0.0% complete) - Running explanation evaluation for model: SVM\n",
      "[##########----------] 2020-07-27 23:11:27.166493 - 1 of 2 reports (50.0% complete) - Running explanation evaluation for model: logistic\n",
      "[####################] 2020-07-27 23:12:56.448552 - 2 of 2 reports (100.0% complete) - Completed all evaluations\n"
     ]
    }
   ],
   "source": [
    "# Setup an evaluation for explanation on the above dataset using the model\n",
    "explanation_scan.add_evaluation_type('explanation')\n",
    "explanation_scan.explanation_dataset_id = 'explanation'\n",
    "explanation_scan.evaluation_dataset_id = 'evaluation'\n",
    "\n",
    "# Because the dataset contains a ground truth outcome column which the model does not\n",
    "# expect to receive as input we need to state that in the dataset schema (since it cannot\n",
    "# be inferred from the CSV)\n",
    "explanation_scan.dataset_schema.outcome_feature_name = 'outcome'\n",
    "\n",
    "# Run the scan.\n",
    "# By default this will write the results into individual report files (one per model and evaluation\n",
    "# type) in the 'reports' directory relative to the Jupyter root.  This may be disabled by specifying\n",
    "# `write_reports=False` as below\n",
    "# The result is a dictionary of dictionaries of reports.  The top level dict key is the evaluation type\n",
    "# and the second level key is model id.\n",
    "# Reports saved as JSON (which `write_reports=True` will do) may be visualized in the console app\n",
    "result = explanation_scan.run(write_reports=False)"
   ]
  },
  {
   "cell_type": "code",
   "execution_count": 40,
   "metadata": {},
   "outputs": [],
   "source": [
    "# The console app is the recommended way to view these, by saving the results to file\n",
    "# (see previous cell), but programmatic analysis of the result here is also possible\n",
    "\n",
    "# Here we'll extract the frequency of feature usage in generated counterfactuals for each model\n",
    "def get_feature_frequency(model_id):\n",
    "    # Extract the information for fairness of a particular model id\n",
    "    local_model_explanation_info = result['explanation'][model_id]\n",
    "    # Extract the full set of counterfactuals for this\n",
    "    all_counterfactuals = [ind for r in local_model_explanation_info['explanations'] for ind in r['bestIndividuals']]\n",
    "\n",
    "    def features_changed(counterfactual):\n",
    "        # Each feature has an entry saying how it changed.  This will be one of:\n",
    "        #   'unchanged'\n",
    "        #   'changed' (categorical change)\n",
    "        #   <numeric> (differnce from original value for numeric feaure)\n",
    "        def no_change(diff):\n",
    "            return (diff == 'unchanged') or diff == 0\n",
    "\n",
    "        diffs = counterfactual['diff']\n",
    "        return [idx for idx in range(len(diffs)) if not no_change(diffs[idx])]\n",
    "\n",
    "\n",
    "    # Get the full list of model features from the schema\n",
    "    features = local_model_explanation_info['model_schema']['feature_schemas']\n",
    "    num_model_features = len(features)\n",
    "\n",
    "    feature_names = np.array([f['name'] for f in features])\n",
    "    \n",
    "    # Count the changes for each feature across the dataset\n",
    "    all_changes = np.zeros(num_model_features)\n",
    "    for cf in all_counterfactuals:\n",
    "        changed = features_changed(cf)\n",
    "        for idx in changed:\n",
    "            all_changes[idx] += 1\n",
    "    return all_changes, feature_names"
   ]
  },
  {
   "cell_type": "code",
   "execution_count": 41,
   "metadata": {},
   "outputs": [
    {
     "data": {
      "image/png": "[encoded data removed]",
      "text/plain": [
       "<Figure size 1080x432 with 2 Axes>"
      ]
     },
     "metadata": {
      "needs_background": "light"
     },
     "output_type": "display_data"
    }
   ],
   "source": [
    "%matplotlib inline\n",
    "import matplotlib.pyplot as plt\n",
    "\n",
    "def plot_histogram(ax, model_id):\n",
    "    all_changes, feature_names = get_feature_frequency(model_id)\n",
    "    indexes = np.arange(len(all_changes))\n",
    "    order = np.argsort(-all_changes)\n",
    "\n",
    "    ax.bar(indexes,all_changes[order])\n",
    "\n",
    "    ax.ylabel = 'Frequency'\n",
    "    ax.set_title(f'Model: {model_id}')\n",
    "    ax.set_xticks(indexes)\n",
    "    ax.set_xticklabels(feature_names[order], rotation=90)\n",
    "\n",
    "fig, (ax1, ax2) = plt.subplots(1, 2, figsize=[15,6])\n",
    "fig.suptitle('Feature occurrence frequency by model', fontsize=20)\n",
    "\n",
    "plot_histogram(ax1, 'logistic')\n",
    "plot_histogram(ax2, 'SVM')\n",
    "\n",
    "# Put them both on the same scale\n",
    "ylim = max(ax1.get_ylim()[1], ax2.get_ylim()[1])\n",
    "ax1.set_ylim(top=ylim)\n",
    "ax2.set_ylim(top=ylim)\n",
    "\n",
    "plt.show()\n"
   ]
  },
  {
   "cell_type": "code",
   "execution_count": 42,
   "metadata": {},
   "outputs": [],
   "source": [
    "explainability_scan = CertifaiScanBuilder.create('model_auth_demo_explainability',\n",
    "                                  prediction_task=task)"
   ]
  },
  {
   "cell_type": "code",
   "execution_count": 43,
   "metadata": {},
   "outputs": [],
   "source": [
    "# Create a Certifai Model Object using the web service (from earlier) by passing the deployed web service url\n",
    "first_model = CertifaiModel('SVM',\n",
    "                            local_predictor=svm_model_proxy)\n",
    "explainability_scan.add_model(first_model)\n",
    "\n",
    "second_model = CertifaiModel('logistic',\n",
    "                            local_predictor=logistic_model_proxy)\n",
    "explainability_scan.add_model(second_model)\n",
    "\n",
    "# Add corresponding model headers for service authentication and content-type\n",
    "\n",
    "# add the default headers applicable to all models\n",
    "explainability_scan.add_model_header(header_name='Content-Type',header_value='application/json')"
   ]
  },
  {
   "cell_type": "code",
   "execution_count": 44,
   "metadata": {},
   "outputs": [],
   "source": [
    "# german_credit_eval_data_file = 'data/german_credit_eval_100.csv'\n",
    "expl_dataset = CertifaiDataset('explanation',\n",
    "                               CertifaiDatasetSource.dataframe(df_sample))\n",
    "eval_dataset = CertifaiDataset('evaluation',\n",
    "                               CertifaiDatasetSource.dataframe(df_sample))\n",
    "explainability_scan.add_dataset(eval_dataset)\n",
    "explainability_scan.add_dataset(expl_dataset)"
   ]
  },
  {
   "cell_type": "code",
   "execution_count": null,
   "metadata": {},
   "outputs": [
    {
     "name": "stdout",
     "output_type": "stream",
     "text": [
      "[--------------------] 2020-07-27 23:12:56.989010 - 0 of 2 reports (0.0% complete) - Starting scan with model_use_case_id: 'model_auth_demo_explainability' and scan_id: 'afd4e35ef8e5'\n",
      "[--------------------] 2020-07-27 23:12:56.989193 - 0 of 2 reports (0.0% complete) - Running explainability evaluation for model: SVM\n",
      "[##########----------] 2020-07-27 23:14:25.145700 - 1 of 2 reports (50.0% complete) - Running explainability evaluation for model: logistic\n"
     ]
    }
   ],
   "source": [
    "# Setup an evaluation for explanation on the above dataset using the model\n",
    "explainability_scan.add_evaluation_type('explainability')\n",
    "explainability_scan.explanation_dataset_id = 'explanation'\n",
    "explainability_scan.evaluation_dataset_id = 'evaluation'\n",
    "\n",
    "# Because the dataset contains a ground truth outcome column which the model does not\n",
    "# expect to receive as input we need to state that in the dataset schema (since it cannot\n",
    "# be inferred from the CSV)\n",
    "explainability_scan.dataset_schema.outcome_feature_name = 'outcome'\n",
    "\n",
    "# Run the scan.\n",
    "# By default this will write the results into individual report files (one per model and evaluation\n",
    "# type) in the 'reports' directory relative to the Jupyter root.  This may be disabled by specifying\n",
    "# `write_reports=False` as below\n",
    "# The result is a dictionary of dictionaries of reports.  The top level dict key is the evaluation type\n",
    "# and the second level key is model id.\n",
    "# Reports saved as JSON (which `write_reports=True` will do) may be visualized in the console app\n",
    "result = explainability_scan.run(write_reports=False)"
   ]
  },
  {
   "cell_type": "code",
   "execution_count": null,
   "metadata": {},
   "outputs": [],
   "source": [
    "df = construct_scores_dataframe(scores('explainability', result, max_depth=1))\n",
    "display(df)"
   ]
  }
 ],
 "metadata": {
  "kernel_info": {
   "name": "python3"
  },
  "kernelspec": {
   "display_name": "Python (certifai Azure Model Env 2)",
   "language": "python",
   "name": "certifai-azure-modle-env2"
  },
  "language_info": {
   "codemirror_mode": {
    "name": "ipython",
    "version": 3
   },
   "file_extension": ".py",
   "mimetype": "text/x-python",
   "name": "python",
   "nbconvert_exporter": "python",
   "pygments_lexer": "ipython3",
   "version": "3.6.2"
  },
  "nteract": {
   "version": "nteract-front-end@1.0.0"
  }
 },
 "nbformat": 4,
 "nbformat_minor": 4
}
