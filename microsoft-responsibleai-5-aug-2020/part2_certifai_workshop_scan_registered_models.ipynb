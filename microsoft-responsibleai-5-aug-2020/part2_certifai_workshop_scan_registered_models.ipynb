{
 "cells": [
  {
   "cell_type": "markdown",
   "metadata": {},
   "source": [
    "# Running Cortex Certifai Scan on models packaged and deployed as service with Azure ML\n",
    "\n",
    "# Typical flow for a ML Engineer during Development\n"
   ]
  },
  {
   "cell_type": "markdown",
   "metadata": {},
   "source": [
    "## CONTENTS\n",
    "\n",
    "1. Pick up where the Data Scientist left off.\n",
    "\n",
    "2. Register model and deploy as webservice in ACI (AZURE CONTAINER INSTANCE) with authentication\n",
    "\n",
    "3. Test the deployed webservice\n",
    "\n",
    "4. Run Certifai Scan on the model deployed as webservice"
   ]
  },
  {
   "cell_type": "markdown",
   "metadata": {},
   "source": [
    "## Prerequisites\n",
    "\n",
    "If you are using an Azure Machine Learning Notebook VM, you are all set. Otherwise, make sure you go through the \n",
    "[configuration-notebook](https://github.com/Azure/MachineLearningNotebooks/blob/c520bd1d4130d9a01ee46e0937459e2de95d15ec/configuration.ipynb) to create an Azure workspace. Creating local and remote environments/dependencies will be covered in the notebook\n",
    "\n",
    "**PleaseNote**: to step through this notebook, make sure you have necessary dependencies installed locally\n",
    "\n",
    "- python>=3.6.2,<3.7\n",
    "- scikit-learn=0.20.3\n",
    "- numpy=1.16.2\n",
    "- pandas\n",
    "- azureml-sdk=1.4.0\n",
    "- ipython\n",
    "- matplotlib\n",
    "- jupyter\n",
    "\n",
    "You can also use [Conda](https://docs.conda.io/projects/conda/en/latest/user-guide/install/) to create the local environment using the `certifai_azure_model_env.yml` file provided with the notebook\n",
    "\n",
    "Open your favorite terminal and cd into folder where this notebook is located to execute the below commands\n",
    "\n",
    "- `conda env create -f certifai_azure_model_env.yml` : will create local conda env with the necessary python packages for working through the notebook\n",
    "- `jupyter-notebook` : to launch jupyter notebook sesssion. \n",
    "\n",
    "\n",
    "**Note**: Installing `Cortex-Certifai` packages will be covered separately"
   ]
  },
  {
   "cell_type": "markdown",
   "metadata": {},
   "source": [
    "### Set Cortex Certifai Toolkit path\n",
    "- update the `certifai_toolkit_path` to point your downloaded toolkit\n",
    "- this will be used later to install cortex certifai python packages"
   ]
  },
  {
   "cell_type": "code",
   "execution_count": 38,
   "metadata": {},
   "outputs": [
    {
     "data": {
      "text/plain": [
       "'/mnt/batch/tasks/shared/LS_root/mounts/clusters/sko-compute-1-3-2i/code/users/skottaram/msft-workshop/certifai_toolkit_1.3.2'"
      ]
     },
     "execution_count": 38,
     "metadata": {},
     "output_type": "execute_result"
    }
   ],
   "source": [
    "from pathlib import Path\n",
    "pwd = !pwd\n",
    "my_path = str(Path(pwd[0]).parents[0])\n",
    "certifai_toolkit_path = my_path  + '/certifai_toolkit_1.3.2'\n",
    "certifai_toolkit_path"
   ]
  },
  {
   "cell_type": "markdown",
   "metadata": {},
   "source": [
    "## Creating a [german credit](https://archive.ics.uci.edu/ml/datasets/Statlog+%28German+Credit+Data%29) prediction model using sklearn"
   ]
  },
  {
   "cell_type": "code",
   "execution_count": 39,
   "metadata": {},
   "outputs": [],
   "source": [
    "# required imports for model building and persistance \n",
    "\n",
    "import pandas as pd\n",
    "import numpy as np\n",
    "from sklearn.linear_model import LogisticRegression\n",
    "from sklearn import svm\n",
    "from sklearn.model_selection import GridSearchCV\n",
    "from sklearn.model_selection import train_test_split\n",
    "import random\n",
    "from sklearn.externals import joblib"
   ]
  },
  {
   "cell_type": "markdown",
   "metadata": {},
   "source": [
    "### Test to confirm correct version of scikit-learn and numpy are installed"
   ]
  },
  {
   "cell_type": "code",
   "execution_count": 40,
   "metadata": {},
   "outputs": [],
   "source": [
    "import sklearn as sklearn_version_test\n",
    "assert sklearn_version_test.__version__ == '0.20.3', 'scikit-learn version mismatch, `pip install scikit-learn==0.20.3` to install right sklearn version for this notebook'\n",
    "assert np.__version__                   == '1.16.2', 'numpy version mismatch, `pip install numpy==1.16.2` to install right numpy version for this notebook'"
   ]
  },
  {
   "cell_type": "code",
   "execution_count": 41,
   "metadata": {},
   "outputs": [],
   "source": [
    "# special import - \n",
    "# for multiprocessing to work in a Notebook,  pickled classes must be in a separate package or notebook\n",
    "# hence, the model encoder class has to be somewhere other than the current notebook\n",
    "\n",
    "import os\n",
    "import sys\n",
    "sys.path.insert(0, os.path.abspath(os.path.join('.')))\n",
    "from scripts.cat_encoder import CatEncoder"
   ]
  },
  {
   "cell_type": "markdown",
   "metadata": {},
   "source": [
    "###  load data in dataframe"
   ]
  },
  {
   "cell_type": "code",
   "execution_count": 42,
   "metadata": {},
   "outputs": [],
   "source": [
    "# load the dataset into memory\n",
    "df = pd.read_csv('data/german_credit_eval.csv')"
   ]
  },
  {
   "cell_type": "markdown",
   "metadata": {},
   "source": [
    "### define features "
   ]
  },
  {
   "cell_type": "code",
   "execution_count": 43,
   "metadata": {},
   "outputs": [],
   "source": [
    "cat_columns = [\n",
    "    'checkingstatus',\n",
    "    'history',\n",
    "    'purpose',\n",
    "    'savings',\n",
    "    'employ',\n",
    "    'status',\n",
    "    'others',\n",
    "    'property',\n",
    "    'age',\n",
    "    'otherplans',\n",
    "    'housing',\n",
    "    'job',\n",
    "    'telephone',\n",
    "    'foreign'\n",
    "    ]\n",
    "\n",
    "label_column = 'outcome'"
   ]
  },
  {
   "cell_type": "markdown",
   "metadata": {},
   "source": [
    "### separate features and target variable"
   ]
  },
  {
   "cell_type": "code",
   "execution_count": 44,
   "metadata": {},
   "outputs": [],
   "source": [
    "y = df[label_column]\n",
    "X = df.drop(label_column, axis=1)"
   ]
  },
  {
   "cell_type": "markdown",
   "metadata": {},
   "source": [
    "### split dataset into the training and test set"
   ]
  },
  {
   "cell_type": "code",
   "execution_count": 45,
   "metadata": {},
   "outputs": [],
   "source": [
    "X_train, X_test, y_train, y_test = train_test_split(X, y, test_size=0.20, random_state=42)"
   ]
  },
  {
   "cell_type": "markdown",
   "metadata": {},
   "source": [
    "### encode and scale features"
   ]
  },
  {
   "cell_type": "code",
   "execution_count": 46,
   "metadata": {},
   "outputs": [],
   "source": [
    "encoder = CatEncoder(cat_columns, X)"
   ]
  },
  {
   "cell_type": "markdown",
   "metadata": {},
   "source": [
    "### build and train model using sklearn"
   ]
  },
  {
   "cell_type": "code",
   "execution_count": 47,
   "metadata": {},
   "outputs": [
    {
     "name": "stdout",
     "output_type": "stream",
     "text": [
      "Model 'german_credit_svm' accuracy is 0.77\n",
      "Model 'german_credit_logit' accuracy is 0.77\n"
     ]
    }
   ],
   "source": [
    "def build_model(data, name, model_family, test=None):\n",
    "    if test is None:\n",
    "        test = data\n",
    "        \n",
    "    if model_family == 'SVM':\n",
    "        parameters = {'kernel':('linear', 'rbf', 'poly'), 'C':[0.1, .5, 1, 2, 4, 10], 'gamma':['auto']}\n",
    "        m = svm.SVC()\n",
    "    elif model_family == 'logistic':\n",
    "        parameters = {'C': (0.5, 1.0, 2.0), 'solver': ['lbfgs'], 'max_iter': [1000]}\n",
    "        m = LogisticRegression()\n",
    "    model = GridSearchCV(m, parameters, cv=3)\n",
    "    model.fit(data[0], data[1])\n",
    "\n",
    "    # Assess on the test data\n",
    "    accuracy = model.score(test[0], test[1].values)\n",
    "    print(f\"Model '{name}' accuracy is {accuracy}\")\n",
    "    return model\n",
    "\n",
    "svm_model_name      = 'german_credit_svm'\n",
    "logistic_model_name = 'german_credit_logit'\n",
    "\n",
    "svm_model = build_model((encoder(X_train.values), y_train),\n",
    "                        svm_model_name,\n",
    "                        'SVM',\n",
    "                        test=(encoder(X_test.values), y_test))\n",
    "\n",
    "logistic_model = build_model((encoder(X_train.values), y_train),\n",
    "                        logistic_model_name,\n",
    "                        'logistic',\n",
    "                        test=(encoder(X_test.values), y_test))"
   ]
  },
  {
   "cell_type": "markdown",
   "metadata": {},
   "source": [
    "### dump the trained models (along with corresponding encoder object) to disk "
   ]
  },
  {
   "cell_type": "code",
   "execution_count": 48,
   "metadata": {},
   "outputs": [
    {
     "name": "stdout",
     "output_type": "stream",
     "text": [
      "model saved on disk {'model': GridSearchCV(cv=3, error_score='raise-deprecating',\n",
      "       estimator=SVC(C=1.0, cache_size=200, class_weight=None, coef0=0.0,\n",
      "  decision_function_shape='ovr', degree=3, gamma='auto_deprecated',\n",
      "  kernel='rbf', max_iter=-1, probability=False, random_state=None,\n",
      "  shrinking=True, tol=0.001, verbose=False),\n",
      "       fit_params=None, iid='warn', n_jobs=None,\n",
      "       param_grid={'kernel': ('linear', 'rbf', 'poly'), 'C': [0.1, 0.5, 1, 2, 4, 10], 'gamma': ['auto']},\n",
      "       pre_dispatch='2*n_jobs', refit=True, return_train_score='warn',\n",
      "       scoring=None, verbose=0), 'encoder': <scripts.cat_encoder.CatEncoder object at 0x7fdc5d485b38>}\n",
      "model saved on disk {'model': GridSearchCV(cv=3, error_score='raise-deprecating',\n",
      "       estimator=LogisticRegression(C=1.0, class_weight=None, dual=False, fit_intercept=True,\n",
      "          intercept_scaling=1, max_iter=100, multi_class='warn',\n",
      "          n_jobs=None, penalty='l2', random_state=None, solver='warn',\n",
      "          tol=0.0001, verbose=0, warm_start=False),\n",
      "       fit_params=None, iid='warn', n_jobs=None,\n",
      "       param_grid={'C': (0.5, 1.0, 2.0), 'solver': ['lbfgs'], 'max_iter': [1000]},\n",
      "       pre_dispatch='2*n_jobs', refit=True, return_train_score='warn',\n",
      "       scoring=None, verbose=0), 'encoder': <scripts.cat_encoder.CatEncoder object at 0x7fdc5d485b38>}\n"
     ]
    }
   ],
   "source": [
    "# encoder object is dumped(along with trained model) to apply same transformation during prediction\n",
    "def dump_model(model_name,model_obj,encoder_obj=encoder):\n",
    "    model_path = f'{model_name}.pkl'\n",
    "    model_obj = {\n",
    "        \"model\":model_obj,\n",
    "        \"encoder\":encoder_obj\n",
    "    }\n",
    "    joblib.dump(value=model_obj, filename=model_path)\n",
    "    print(f'model saved on disk {model_obj}')\n",
    "    return model_path\n",
    "\n",
    "# persist models to disk\n",
    "svm_model_disk_path      = dump_model(svm_model_name,svm_model)\n",
    "logistic_model_disk_path = dump_model(logistic_model_name,logistic_model)"
   ]
  },
  {
   "cell_type": "markdown",
   "metadata": {},
   "source": [
    "## In the section below we will:\n",
    "\n",
    "1. Configure Azure workspace\n",
    "2. Register models (built above) to the workspace\n",
    "3. Create a prediction environment in the remote Azure workspace (created above) and\n",
    "4. Deploy models (predict) as web service"
   ]
  },
  {
   "cell_type": "markdown",
   "metadata": {},
   "source": [
    "### Configure and Initialize Azure workspace\n",
    "\n",
    "- Follow the instructions listed here [creating and managing azure-ml workspace](https://docs.microsoft.com/en-us/azure/machine-learning/how-to-manage-workspace) to create an azure-ml workspace\n",
    "\n",
    "**Once you have the workspace created easiest way to run through remaining steps is to download the `config.json` to the current directory and replace the exisiting config.json**"
   ]
  },
  {
   "cell_type": "markdown",
   "metadata": {},
   "source": [
    "### Create a [Workspace](https://docs.microsoft.com/en-us/python/api/azureml-core/azureml.core.workspace%28class%29?view=azure-ml-py) object from the persisted configuration."
   ]
  },
  {
   "cell_type": "code",
   "execution_count": 50,
   "metadata": {},
   "outputs": [],
   "source": [
    "from azureml.core import Workspace\n",
    "ws = Workspace.from_config()"
   ]
  },
  {
   "cell_type": "markdown",
   "metadata": {},
   "source": [
    "### Register models to created  workspace\n",
    "\n",
    "Register a file or folder as a model by calling [Model.register()](https://docs.microsoft.com/en-us/python/api/azureml-core/azureml.core.model.model?view=azure-ml-py#register-workspace--model-path--model-name--tags-none--properties-none--description-none--datasets-none--model-framework-none--model-framework-version-none--child-paths-none-).\n",
    "\n",
    "In addition to the content of the model file itself (model + scaler object), our registered model will also store model metadata like model description, tags, etc. -- that will be useful when managing and deploying models in our workspace."
   ]
  },
  {
   "cell_type": "code",
   "execution_count": 51,
   "metadata": {},
   "outputs": [
    {
     "name": "stdout",
     "output_type": "stream",
     "text": [
      "Registering model german_credit_logit\n",
      "Registering model german_credit_svm\n"
     ]
    }
   ],
   "source": [
    "from azureml.core.model import Model\n",
    "\n",
    "logistic_model_azure = Model.register(model_path=logistic_model_disk_path,\n",
    "                       model_name=logistic_model_name,\n",
    "                       tags={'area': \"banking credit risk\", 'type': \"classification\"},\n",
    "                       description=\"Logistic Classifier model to predict credit loan approval\",\n",
    "                       workspace=ws)\n",
    "\n",
    "svm_model_azure = Model.register(model_path=svm_model_disk_path,\n",
    "                       model_name=svm_model_name,\n",
    "                       tags={'area': \"banking credit risk\", 'type': \"classification\"},\n",
    "                       description=\"Support Vector Machine Classifier model to predict credit loan approval\",\n",
    "                       workspace=ws)"
   ]
  },
  {
   "cell_type": "markdown",
   "metadata": {},
   "source": [
    "### Create a custom prediction environment inside azure-ml workspace\n",
    "\n",
    "If we want control over how our model is run, if it uses another framework, or if it has special runtime requirements, we can instead specify our own environment and scoring method. Custom environments can be used for any model we want to deploy.\n",
    "\n",
    "Specify the model's runtime environment by creating an [Environment](https://docs.microsoft.com/en-us/python/api/azureml-core/azureml.core.environment%28class%29?view=azure-ml-py) object and providing the [CondaDependencies](https://docs.microsoft.com/en-us/python/api/azureml-core/azureml.core.conda_dependencies.condadependencies?view=azure-ml-py) needed by the model\n",
    "\n",
    "In this example we will create a conda environment for our german credit model from file **myenv.yml** and register it to our workspace\n"
   ]
  },
  {
   "cell_type": "code",
   "execution_count": 52,
   "metadata": {},
   "outputs": [
    {
     "name": "stdout",
     "output_type": "stream",
     "text": [
      "name: project_environment\n",
      "dependencies:\n",
      "  - python=3.6.2\n",
      "  - scikit-learn==0.20.3\n",
      "  - numpy==1.16.2\n",
      "  - pip:\n",
      "    - azureml-defaults\n",
      "    - inference-schema[numpy-support]\n",
      "    \n"
     ]
    }
   ],
   "source": [
    "with open(\"myenv.yml\", 'r') as f:\n",
    "    print(f.read())"
   ]
  },
  {
   "cell_type": "code",
   "execution_count": 53,
   "metadata": {},
   "outputs": [
    {
     "data": {
      "text/plain": [
       "{\n",
       "    \"databricks\": {\n",
       "        \"eggLibraries\": [],\n",
       "        \"jarLibraries\": [],\n",
       "        \"mavenLibraries\": [],\n",
       "        \"pypiLibraries\": [],\n",
       "        \"rcranLibraries\": []\n",
       "    },\n",
       "    \"docker\": {\n",
       "        \"arguments\": [],\n",
       "        \"baseDockerfile\": null,\n",
       "        \"baseImage\": \"mcr.microsoft.com/azureml/intelmpi2018.3-ubuntu16.04:20200423.v1\",\n",
       "        \"baseImageRegistry\": {\n",
       "            \"address\": null,\n",
       "            \"password\": null,\n",
       "            \"registryIdentity\": null,\n",
       "            \"username\": null\n",
       "        },\n",
       "        \"enabled\": false,\n",
       "        \"platform\": {\n",
       "            \"architecture\": \"amd64\",\n",
       "            \"os\": \"Linux\"\n",
       "        },\n",
       "        \"sharedVolumes\": true,\n",
       "        \"shmSize\": null\n",
       "    },\n",
       "    \"environmentVariables\": {\n",
       "        \"EXAMPLE_ENV_VAR\": \"EXAMPLE_VALUE\"\n",
       "    },\n",
       "    \"inferencingStackVersion\": null,\n",
       "    \"name\": \"german-credit-env\",\n",
       "    \"python\": {\n",
       "        \"baseCondaEnvironment\": null,\n",
       "        \"condaDependencies\": {\n",
       "            \"dependencies\": [\n",
       "                \"python=3.6.2\",\n",
       "                \"scikit-learn==0.20.3\",\n",
       "                \"numpy==1.16.2\",\n",
       "                {\n",
       "                    \"pip\": [\n",
       "                        \"azureml-defaults\",\n",
       "                        \"inference-schema[numpy-support]\"\n",
       "                    ]\n",
       "                }\n",
       "            ],\n",
       "            \"name\": \"azureml_8886e94cb6ef338133bc34a3312292b8\"\n",
       "        },\n",
       "        \"condaDependenciesFile\": null,\n",
       "        \"interpreterPath\": \"python\",\n",
       "        \"userManagedDependencies\": false\n",
       "    },\n",
       "    \"r\": null,\n",
       "    \"spark\": {\n",
       "        \"packages\": [],\n",
       "        \"precachePackages\": true,\n",
       "        \"repositories\": []\n",
       "    },\n",
       "    \"version\": \"3\"\n",
       "}"
      ]
     },
     "execution_count": 53,
     "metadata": {},
     "output_type": "execute_result"
    }
   ],
   "source": [
    "from azureml.core.conda_dependencies import CondaDependencies\n",
    "from azureml.core.environment import Environment\n",
    "\n",
    "environment = Environment(\"german-credit-env\")\n",
    "environment.python.conda_dependencies = CondaDependencies(\"myenv.yml\")\n",
    "environment.register(workspace=ws)"
   ]
  },
  {
   "cell_type": "markdown",
   "metadata": {},
   "source": [
    "\n",
    "## Create Inference Configuration and deploy webservice\n",
    "\n",
    "**Inference Configuration** will contain:\n",
    "\n",
    "1. Scoring script\n",
    "2. Environment (created above)\n",
    "\n",
    "We create the scoring script, called **score.py**. The web service call uses this script to show how to use the model.\n",
    "\n",
    "We include below two required functions in the scoring script:\n",
    "\n",
    "1. The `init()` function, which typically loads the model into a global object. This function is run only once when the Docker container is started.\n",
    "\n",
    "2. The `run(data)` function uses the model to predict a value based on the input data. Inputs and outputs to the run typically use JSON for serialization and de-serialization, but other formats are also supported.\n",
    "\n",
    "\n",
    "\n",
    "\n",
    "Deploy the registered model in the custom environment by providing an [InferenceConfig](https://docs.microsoft.com/en-us/python/api/azureml-core/azureml.core.model.inferenceconfig?view=azure-ml-py) object to [Model.deploy()](https://docs.microsoft.com/en-us/python/api/azureml-core/azureml.core.model.model?view=azure-ml-py#deploy-workspace--name--models--inference-config--deployment-config-none--deployment-target-none-). In this case we are also using the [AciWebservice.deploy_configuration()](https://docs.microsoft.com/python/api/azureml-core/azureml.core.webservice.aci.aciwebservice#deploy-configuration-cpu-cores-none--memory-gb-none--tags-none--properties-none--description-none--location-none--auth-enabled-none--ssl-enabled-none--enable-app-insights-none--ssl-cert-pem-file-none--ssl-key-pem-file-none--ssl-cname-none--dns-name-label-none--) method to generate a custom deploy configuration\n",
    "        \n",
    "**Note**: This step can take several minutes.\n"
   ]
  },
  {
   "cell_type": "code",
   "execution_count": 54,
   "metadata": {},
   "outputs": [
    {
     "name": "stdout",
     "output_type": "stream",
     "text": [
      "import os\n",
      "import json\n",
      "import numpy as np\n",
      "from sklearn.externals import joblib\n",
      "import traceback\n",
      "\n",
      "\n",
      "def init():\n",
      "    global model\n",
      "    global encoder\n",
      "    # AZUREML_MODEL_DIR is an environment variable created during deployment.\n",
      "    # It is the path to the model folder (./azureml-models/$MODEL_NAME/$VERSION)\n",
      "    # For multiple models, it points to the folder containing all deployed models (./azureml-models)\n",
      "    model_path = os.path.join(os.getenv('AZUREML_MODEL_DIR'), 'german_credit_svm.pkl')\n",
      "    # deserialize the model_obj file back into a sklearn model and scaler object\n",
      "    model_obj  = joblib.load(model_path)\n",
      "    model      = model_obj.get('model')\n",
      "    encoder    = model_obj.get('encoder')\n",
      "\n",
      "\n",
      "def run(data):\n",
      "    try: \n",
      "        # certifai invokes model with the json schema -> {\"payload\": {\"instances\": [ [6,107,88,0,0,36.8,0.727,31], [5,100,80,0,0,31.9,0.61,33] ]}}\n",
      "        data  = json.loads(data).get('payload', {}).get('instances', [])\n",
      "        data  = np.array(data, dtype=object)\n",
      "        data  = data if data.ndim == 2 else np.reshape(data, (1, -1))\n",
      "        if encoder:\n",
      "            data = encoder(data)\n",
      "        result = model.predict(data)\n",
      "        # you can return any datatype as long as it is JSON-serializable\n",
      "        # certifai expects model response with the json schema -> {\"payload\": {\"predictions\": [1,0]} }\n",
      "\n",
      "        return {\"payload\":{ \"predictions\": result.tolist()} }\n",
      "    except Exception as e:\n",
      "        error = str(e)\n",
      "        print(traceback.format_exc())\n",
      "        return error\n"
     ]
    }
   ],
   "source": [
    "with open('scripts/svm_score.py') as f:\n",
    "    print(f.read())"
   ]
  },
  {
   "cell_type": "code",
   "execution_count": 55,
   "metadata": {},
   "outputs": [
    {
     "name": "stdout",
     "output_type": "stream",
     "text": [
      "Running...........................\n",
      "Succeeded\n",
      "ACI service creation operation finished, operation \"Succeeded\"\n",
      "Running.\n",
      "Succeeded\n",
      "ACI service creation operation finished, operation \"Succeeded\"\n"
     ]
    }
   ],
   "source": [
    "from azureml.core.model import InferenceConfig\n",
    "from azureml.core import Webservice\n",
    "from azureml.exceptions import WebserviceException\n",
    "from azureml.core.webservice import AciWebservice\n",
    "\n",
    "inference_config_logistic = InferenceConfig(entry_script=\"logistic_score.py\",\n",
    "                                   environment=environment,source_directory=\"scripts\")\n",
    "inference_config_svm = InferenceConfig(entry_script=\"svm_score.py\",\n",
    "                                   environment=environment,source_directory=\"scripts\")\n",
    "\n",
    "logistic_service_name = 'german-credit-logistic-service'\n",
    "svm_service_name = 'german-credit-svm-service'\n",
    "\n",
    "aci_deployment_config = AciWebservice.deploy_configuration(auth_enabled=True, cpu_cores=0.1, memory_gb=0.5)\n",
    "\n",
    "# Remove any existing services under the same name.\n",
    "try:\n",
    "    Webservice(ws, logistic_service_name).delete()\n",
    "except WebserviceException:\n",
    "    pass\n",
    "\n",
    "try:\n",
    "    Webservice(ws, svm_service_name).delete()\n",
    "except WebserviceException:\n",
    "    pass\n",
    "\n",
    "\n",
    "service_logistic = Model.deploy(ws, logistic_service_name, [logistic_model_azure],inference_config=inference_config_logistic,deployment_config=aci_deployment_config)\n",
    "service_svm      = Model.deploy(ws, svm_service_name,      [svm_model_azure],     inference_config=inference_config_svm,     deployment_config=aci_deployment_config)\n",
    "service_logistic.wait_for_deployment(show_output=True)\n",
    "service_svm.wait_for_deployment(show_output=True)"
   ]
  },
  {
   "cell_type": "markdown",
   "metadata": {},
   "source": [
    "## Test the webservice\n",
    "\n",
    "1. Get the webservice endpoint using `service.scoring_uri` :: string\n",
    "2. Get the authentication headers usinh `service.get_keys()` :: tuple\n"
   ]
  },
  {
   "cell_type": "code",
   "execution_count": null,
   "metadata": {},
   "outputs": [],
   "source": [
    "service_logistic_uri  = service_logistic.scoring_uri\n",
    "service_logistic_keys = service_logistic.get_keys()\n",
    "\n",
    "service_svm_uri       = service_svm.scoring_uri\n",
    "service_svm_keys      = service_svm.get_keys()\n",
    "\n",
    "print(f\"service_logistic_uri - {service_logistic_uri}\")\n",
    "print(f\"service_logistic_key - {service_logistic_keys[0]}\")\n",
    "\n",
    "print(f\"service_svm_uri - {service_svm_uri}\")\n",
    "print(f\"service_svm_key - {service_svm_keys[0]}\")"
   ]
  },
  {
   "cell_type": "code",
   "execution_count": 57,
   "metadata": {},
   "outputs": [
    {
     "data": {
      "text/plain": [
       "'{\"payload\": {\"instances\": [[\"... < 0 DM\", 6, \"critical account/ other credits existing (not at this bank)\", \"radio/television\", 1169, \"unknown/ no savings account\", \".. >= 7 years\", 4, \"male : single\", \"others - none\", 4, \"real estate\", \"> 25 years\", \"none\", \"own\", 2, \"skilled employee / official\", 1, \"phone - yes, registered under the customers name\", \"foreign - yes\"]]}}'"
      ]
     },
     "execution_count": 57,
     "metadata": {},
     "output_type": "execute_result"
    }
   ],
   "source": [
    "# create json test data sample(from csv)\n",
    "\n",
    "import json\n",
    "sample_input = json.dumps({\n",
    "\"payload\": {\n",
    "    \"instances\": [\n",
    "        [\n",
    "            \"... < 0 DM\",\n",
    "            6,\n",
    "            \"critical account/ other credits existing (not at this bank)\",\n",
    "            \"radio/television\",\n",
    "            1169,\n",
    "            \"unknown/ no savings account\",\n",
    "            \".. >= 7 years\",\n",
    "            4,\n",
    "            \"male : single\",\n",
    "            \"others - none\",\n",
    "            4,\n",
    "            \"real estate\",\n",
    "            \"> 25 years\",\n",
    "            \"none\",\n",
    "            \"own\",\n",
    "            2,\n",
    "            \"skilled employee / official\",\n",
    "            1,\n",
    "            \"phone - yes, registered under the customers name\",\n",
    "            \"foreign - yes\"\n",
    "        ]\n",
    "    ]\n",
    "}\n",
    "})\n",
    "sample_input"
   ]
  },
  {
   "cell_type": "code",
   "execution_count": 58,
   "metadata": {},
   "outputs": [
    {
     "name": "stdout",
     "output_type": "stream",
     "text": [
      "200\n",
      "0:00:00.209398\n",
      "{'payload': {'predictions': [1]}}\n"
     ]
    }
   ],
   "source": [
    "import requests\n",
    "import json\n",
    "\n",
    "headers = {\n",
    "    'Content-Type': 'application/json',\n",
    "    'Authorization': f'Bearer {service_svm_keys[0]}'          \n",
    "          }\n",
    "\n",
    "response = requests.post(\n",
    "    service_svm_uri, data=sample_input, headers=headers)\n",
    "print(response.status_code)\n",
    "print(response.elapsed)\n",
    "print(response.json())"
   ]
  },
  {
   "cell_type": "markdown",
   "metadata": {},
   "source": [
    "## Running Cortex Certifai Scan locally\n",
    "\n",
    "1. Install the cortex certifai packages required to initiate model scan\n",
    "\n",
    "2. Configure scan details and execute\n"
   ]
  },
  {
   "cell_type": "markdown",
   "metadata": {},
   "source": [
    "## Installing Cortex Certifai python packages\n",
    "\n",
    "initiating a Cortex Certifai scan requires following python packages to be installed in the current local environment\n",
    "\n",
    "`required-packages`\n",
    "\n",
    "- cortex-certifai-scanner\n",
    "- cortex-certifai-engine\n",
    "- cortex-certifai-common\n",
    "\n",
    "`optional-packages`\n",
    "\n",
    "- cortex-certifai-client\n",
    "- cortex-certifai-console\n",
    "\n",
    "Download [certifai toolkit](https://www.cognitivescale.com/download-certifai) and follow instructions in the `Readme.md` to install the python-packages in the current environment"
   ]
  },
  {
   "cell_type": "markdown",
   "metadata": {},
   "source": [
    "### Install required certifai packages (optional packages are left for user to install)\n"
   ]
  },
  {
   "cell_type": "code",
   "execution_count": 22,
   "metadata": {},
   "outputs": [
    {
     "name": "stdout",
     "output_type": "stream",
     "text": [
      "Processing /mnt/batch/tasks/shared/LS_root/mounts/clusters/sko-compute-1-3-2i/code/users/skottaram/msft-workshop/certifai_toolkit_1.3.2/packages/all/cortex-certifai-common-1.3.2-4-g8648134d.zip\n",
      "Requirement already satisfied: requests<3.0,>=2.12.4 in /anaconda/envs/azureml_py36/lib/python3.6/site-packages (from cortex-certifai-common==1.3.2) (2.24.0)\n",
      "Requirement already satisfied: urllib3<2.0,>=1.24.3 in /anaconda/envs/azureml_py36/lib/python3.6/site-packages (from cortex-certifai-common==1.3.2) (1.25.9)\n",
      "Requirement already satisfied: numpy<1.19,>=1.16.2 in /anaconda/envs/azureml_py36/lib/python3.6/site-packages (from cortex-certifai-common==1.3.2) (1.16.2)\n",
      "Requirement already satisfied: pandas<=1.0.3,>=0.23.4 in /anaconda/envs/azureml_py36/lib/python3.6/site-packages (from cortex-certifai-common==1.3.2) (0.23.4)\n",
      "Requirement already satisfied: scipy<2.0,>=1.1.0 in /anaconda/envs/azureml_py36/lib/python3.6/site-packages (from cortex-certifai-common==1.3.2) (1.4.1)\n",
      "Requirement already satisfied: python-dateutil<3.0,>=2.6.1 in /anaconda/envs/azureml_py36/lib/python3.6/site-packages (from cortex-certifai-common==1.3.2) (2.8.1)\n",
      "Requirement already satisfied: toolz<1.0,>=0.10.0 in /anaconda/envs/azureml_py36/lib/python3.6/site-packages (from cortex-certifai-common==1.3.2) (0.10.0)\n",
      "Requirement already satisfied: typing_extensions<4.0,>=3.6.6 in /anaconda/envs/azureml_py36/lib/python3.6/site-packages (from cortex-certifai-common==1.3.2) (3.7.4.2)\n",
      "Requirement already satisfied: chardet<4,>=3.0.2 in /anaconda/envs/azureml_py36/lib/python3.6/site-packages (from requests<3.0,>=2.12.4->cortex-certifai-common==1.3.2) (3.0.4)\n",
      "Requirement already satisfied: idna<3,>=2.5 in /anaconda/envs/azureml_py36/lib/python3.6/site-packages (from requests<3.0,>=2.12.4->cortex-certifai-common==1.3.2) (2.10)\n",
      "Requirement already satisfied: certifi>=2017.4.17 in /anaconda/envs/azureml_py36/lib/python3.6/site-packages (from requests<3.0,>=2.12.4->cortex-certifai-common==1.3.2) (2020.6.20)\n",
      "Requirement already satisfied: pytz>=2011k in /anaconda/envs/azureml_py36/lib/python3.6/site-packages (from pandas<=1.0.3,>=0.23.4->cortex-certifai-common==1.3.2) (2019.3)\n",
      "Requirement already satisfied: six>=1.5 in /anaconda/envs/azureml_py36/lib/python3.6/site-packages (from python-dateutil<3.0,>=2.6.1->cortex-certifai-common==1.3.2) (1.12.0)\n",
      "Building wheels for collected packages: cortex-certifai-common\n",
      "  Building wheel for cortex-certifai-common (setup.py) ... \u001b[?25ldone\n",
      "\u001b[?25h  Created wheel for cortex-certifai-common: filename=cortex_certifai_common-1.3.2-py3-none-any.whl size=73982 sha256=39e245f395fb47d351334732dfce8da877ce57268e38335d504f307ac69d9409\n",
      "  Stored in directory: /home/azureuser/.cache/pip/wheels/de/db/6f/b79a8b513409877efab5a79de6d2da6ef5b674bb555f3b9aa3\n",
      "Successfully built cortex-certifai-common\n",
      "Installing collected packages: cortex-certifai-common\n",
      "  Attempting uninstall: cortex-certifai-common\n",
      "    Found existing installation: cortex-certifai-common 1.3.2\n",
      "    Uninstalling cortex-certifai-common-1.3.2:\n",
      "      Successfully uninstalled cortex-certifai-common-1.3.2\n",
      "Successfully installed cortex-certifai-common-1.3.2\n",
      "Processing /mnt/batch/tasks/shared/LS_root/mounts/clusters/sko-compute-1-3-2i/code/users/skottaram/msft-workshop/certifai_toolkit_1.3.2/packages/all/cortex-certifai-connectors-1.3.2-4-g8648134d.zip\n",
      "Requirement already satisfied: boto3<2.0.0,>=1.0.0 in /anaconda/envs/azureml_py36/lib/python3.6/site-packages (from cortex-certifai-connectors==1.3.2) (1.14.18)\n",
      "Requirement already satisfied: pydantic>=1.5.1 in /anaconda/envs/azureml_py36/lib/python3.6/site-packages (from cortex-certifai-connectors==1.3.2) (1.6.1)\n",
      "Requirement already satisfied: numpy<1.19,>=1.16.2 in /anaconda/envs/azureml_py36/lib/python3.6/site-packages (from cortex-certifai-connectors==1.3.2) (1.16.2)\n",
      "Requirement already satisfied: jmespath<1.0.0,>=0.7.1 in /anaconda/envs/azureml_py36/lib/python3.6/site-packages (from boto3<2.0.0,>=1.0.0->cortex-certifai-connectors==1.3.2) (0.10.0)\n",
      "Requirement already satisfied: botocore<1.18.0,>=1.17.18 in /anaconda/envs/azureml_py36/lib/python3.6/site-packages (from boto3<2.0.0,>=1.0.0->cortex-certifai-connectors==1.3.2) (1.17.18)\n",
      "Requirement already satisfied: s3transfer<0.4.0,>=0.3.0 in /anaconda/envs/azureml_py36/lib/python3.6/site-packages (from boto3<2.0.0,>=1.0.0->cortex-certifai-connectors==1.3.2) (0.3.3)\n",
      "Requirement already satisfied: dataclasses>=0.6; python_version < \"3.7\" in /anaconda/envs/azureml_py36/lib/python3.6/site-packages (from pydantic>=1.5.1->cortex-certifai-connectors==1.3.2) (0.7)\n",
      "Requirement already satisfied: python-dateutil<3.0.0,>=2.1 in /anaconda/envs/azureml_py36/lib/python3.6/site-packages (from botocore<1.18.0,>=1.17.18->boto3<2.0.0,>=1.0.0->cortex-certifai-connectors==1.3.2) (2.8.1)\n",
      "Requirement already satisfied: docutils<0.16,>=0.10 in /anaconda/envs/azureml_py36/lib/python3.6/site-packages (from botocore<1.18.0,>=1.17.18->boto3<2.0.0,>=1.0.0->cortex-certifai-connectors==1.3.2) (0.15.2)\n",
      "Requirement already satisfied: urllib3<1.26,>=1.20; python_version != \"3.4\" in /anaconda/envs/azureml_py36/lib/python3.6/site-packages (from botocore<1.18.0,>=1.17.18->boto3<2.0.0,>=1.0.0->cortex-certifai-connectors==1.3.2) (1.25.9)\n",
      "Requirement already satisfied: six>=1.5 in /anaconda/envs/azureml_py36/lib/python3.6/site-packages (from python-dateutil<3.0.0,>=2.1->botocore<1.18.0,>=1.17.18->boto3<2.0.0,>=1.0.0->cortex-certifai-connectors==1.3.2) (1.12.0)\n",
      "Building wheels for collected packages: cortex-certifai-connectors\n",
      "  Building wheel for cortex-certifai-connectors (setup.py) ... \u001b[?25ldone\n",
      "\u001b[?25h  Created wheel for cortex-certifai-connectors: filename=cortex_certifai_connectors-1.3.2-py3-none-any.whl size=14692 sha256=ff4e42c453105dc26a5751cb12b13716b9a3a9e94bba9e52b88190489b32f0c5\n",
      "  Stored in directory: /home/azureuser/.cache/pip/wheels/d1/7c/c2/0a1be296e4289c417ec0e456830a027161533e8968c8355a88\n",
      "Successfully built cortex-certifai-connectors\n",
      "Installing collected packages: cortex-certifai-connectors\n",
      "  Attempting uninstall: cortex-certifai-connectors\n",
      "    Found existing installation: cortex-certifai-connectors 1.3.2\n",
      "    Uninstalling cortex-certifai-connectors-1.3.2:\n",
      "      Successfully uninstalled cortex-certifai-connectors-1.3.2\n",
      "Successfully installed cortex-certifai-connectors-1.3.2\n",
      "Processing /mnt/batch/tasks/shared/LS_root/mounts/clusters/sko-compute-1-3-2i/code/users/skottaram/msft-workshop/certifai_toolkit_1.3.2/packages/all/cortex-certifai-model-sdk-1.3.2-4-g8648134d.zip\n",
      "Requirement already satisfied: flask in /anaconda/envs/azureml_py36/lib/python3.6/site-packages (from cortex-certifai-model-sdk==1.3.2) (1.0.3)\n",
      "Requirement already satisfied: numpy in /anaconda/envs/azureml_py36/lib/python3.6/site-packages (from cortex-certifai-model-sdk==1.3.2) (1.16.2)\n",
      "Requirement already satisfied: werkzeug>=0.15 in /anaconda/envs/azureml_py36/lib/python3.6/site-packages (from cortex-certifai-model-sdk==1.3.2) (0.16.1)\n",
      "Requirement already satisfied: scikit-learn>=0.20.3 in /anaconda/envs/azureml_py36/lib/python3.6/site-packages (from cortex-certifai-model-sdk==1.3.2) (0.20.3)\n",
      "Requirement already satisfied: itsdangerous>=0.24 in /anaconda/envs/azureml_py36/lib/python3.6/site-packages (from flask->cortex-certifai-model-sdk==1.3.2) (1.1.0)\n",
      "Requirement already satisfied: Jinja2>=2.10 in /anaconda/envs/azureml_py36/lib/python3.6/site-packages (from flask->cortex-certifai-model-sdk==1.3.2) (2.11.2)\n",
      "Requirement already satisfied: click>=5.1 in /anaconda/envs/azureml_py36/lib/python3.6/site-packages (from flask->cortex-certifai-model-sdk==1.3.2) (7.1.2)\n",
      "Requirement already satisfied: scipy>=0.13.3 in /anaconda/envs/azureml_py36/lib/python3.6/site-packages (from scikit-learn>=0.20.3->cortex-certifai-model-sdk==1.3.2) (1.4.1)\n",
      "Requirement already satisfied: MarkupSafe>=0.23 in /anaconda/envs/azureml_py36/lib/python3.6/site-packages (from Jinja2>=2.10->flask->cortex-certifai-model-sdk==1.3.2) (1.1.1)\n",
      "Building wheels for collected packages: cortex-certifai-model-sdk\n",
      "  Building wheel for cortex-certifai-model-sdk (setup.py) ... \u001b[?25ldone\n",
      "\u001b[?25h  Created wheel for cortex-certifai-model-sdk: filename=cortex_certifai_model_sdk-1.3.2-py3-none-any.whl size=6398 sha256=119f10c138f4221a75e2e275d2ce1fbf1814090bc860dec593fe3440a5b2007d\n",
      "  Stored in directory: /home/azureuser/.cache/pip/wheels/c3/47/62/a7d942ef05089f4385553858b9ebd8c6cc7724a26d2b299b0b\n",
      "Successfully built cortex-certifai-model-sdk\n",
      "Installing collected packages: cortex-certifai-model-sdk\n",
      "  Attempting uninstall: cortex-certifai-model-sdk\n",
      "    Found existing installation: cortex-certifai-model-sdk 1.3.2\n",
      "    Uninstalling cortex-certifai-model-sdk-1.3.2:\n",
      "      Successfully uninstalled cortex-certifai-model-sdk-1.3.2\n",
      "Successfully installed cortex-certifai-model-sdk-1.3.2\n",
      "Processing /mnt/batch/tasks/shared/LS_root/mounts/clusters/sko-compute-1-3-2i/code/users/skottaram/msft-workshop/certifai_toolkit_1.3.2/packages/all/cortex-certifai-scanner-1.3.2-4-g8648134d.zip\n",
      "Requirement already satisfied: numpy<1.19,>=1.16.2 in /anaconda/envs/azureml_py36/lib/python3.6/site-packages (from cortex-certifai-scanner==1.3.2) (1.16.2)\n",
      "Requirement already satisfied: pandas<=1.0.3,>=0.23.4 in /anaconda/envs/azureml_py36/lib/python3.6/site-packages (from cortex-certifai-scanner==1.3.2) (0.23.4)\n",
      "Requirement already satisfied: marshmallow<4.0,>=3.0.0 in /anaconda/envs/azureml_py36/lib/python3.6/site-packages (from cortex-certifai-scanner==1.3.2) (3.7.1)\n",
      "Requirement already satisfied: pyyaml<6.0,>=3.13 in /anaconda/envs/azureml_py36/lib/python3.6/site-packages (from cortex-certifai-scanner==1.3.2) (5.1.2)\n",
      "Requirement already satisfied: python-dateutil<3.0,>=2.6.1 in /anaconda/envs/azureml_py36/lib/python3.6/site-packages (from cortex-certifai-scanner==1.3.2) (2.8.1)\n",
      "Requirement already satisfied: Jinja2<3.0,>=2.10.3 in /anaconda/envs/azureml_py36/lib/python3.6/site-packages (from cortex-certifai-scanner==1.3.2) (2.11.2)\n",
      "Requirement already satisfied: dataclasses<1.0,>=0.6 in /anaconda/envs/azureml_py36/lib/python3.6/site-packages (from cortex-certifai-scanner==1.3.2) (0.7)\n",
      "Requirement already satisfied: pytz>=2011k in /anaconda/envs/azureml_py36/lib/python3.6/site-packages (from pandas<=1.0.3,>=0.23.4->cortex-certifai-scanner==1.3.2) (2019.3)\n",
      "Requirement already satisfied: six>=1.5 in /anaconda/envs/azureml_py36/lib/python3.6/site-packages (from python-dateutil<3.0,>=2.6.1->cortex-certifai-scanner==1.3.2) (1.12.0)\n",
      "Requirement already satisfied: MarkupSafe>=0.23 in /anaconda/envs/azureml_py36/lib/python3.6/site-packages (from Jinja2<3.0,>=2.10.3->cortex-certifai-scanner==1.3.2) (1.1.1)\n",
      "Building wheels for collected packages: cortex-certifai-scanner\n",
      "  Building wheel for cortex-certifai-scanner (setup.py) ... \u001b[?25ldone\n",
      "\u001b[?25h  Created wheel for cortex-certifai-scanner: filename=cortex_certifai_scanner-1.3.2-py3-none-any.whl size=75430 sha256=27ef9b1b95fee9aefa85b94a2197d4e64ca57c92a90f98aa9a16e72a857ef0eb\n",
      "  Stored in directory: /home/azureuser/.cache/pip/wheels/6e/ae/4d/a8e8989d64f557e3dfd23aa5edbe709970f7dc8c8037a93854\n",
      "Successfully built cortex-certifai-scanner\n",
      "Installing collected packages: cortex-certifai-scanner\n",
      "  Attempting uninstall: cortex-certifai-scanner\n",
      "    Found existing installation: cortex-certifai-scanner 1.3.2\n",
      "    Uninstalling cortex-certifai-scanner-1.3.2:\n",
      "      Successfully uninstalled cortex-certifai-scanner-1.3.2\n",
      "Successfully installed cortex-certifai-scanner-1.3.2\n",
      "Processing /mnt/batch/tasks/shared/LS_root/mounts/clusters/sko-compute-1-3-2i/code/users/skottaram/msft-workshop/certifai_toolkit_1.3.2/packages/python3.6/cortex-certifai-engine-1.3.2-4-g8648134d-py3.6.10.zip\n",
      "Requirement already satisfied: numpy<1.19,>=1.16.2 in /anaconda/envs/azureml_py36/lib/python3.6/site-packages (from cortex-certifai-engine==1.3.2) (1.16.2)\n",
      "Requirement already satisfied: pandas<=1.0.3,>=0.23.4 in /anaconda/envs/azureml_py36/lib/python3.6/site-packages (from cortex-certifai-engine==1.3.2) (0.23.4)\n",
      "Requirement already satisfied: scikit-learn<0.23,>=0.20.3 in /anaconda/envs/azureml_py36/lib/python3.6/site-packages (from cortex-certifai-engine==1.3.2) (0.20.3)\n",
      "Requirement already satisfied: scipy<2.0,>=1.1.0 in /anaconda/envs/azureml_py36/lib/python3.6/site-packages (from cortex-certifai-engine==1.3.2) (1.4.1)\n",
      "Requirement already satisfied: toolz<1.0,>=0.10.0 in /anaconda/envs/azureml_py36/lib/python3.6/site-packages (from cortex-certifai-engine==1.3.2) (0.10.0)\n",
      "Requirement already satisfied: rsa<5.0,>=4.0 in /anaconda/envs/azureml_py36/lib/python3.6/site-packages (from cortex-certifai-engine==1.3.2) (4.6)\n",
      "Requirement already satisfied: cuid<0.4,>=0.3 in /anaconda/envs/azureml_py36/lib/python3.6/site-packages (from cortex-certifai-engine==1.3.2) (0.3)\n",
      "Requirement already satisfied: pyyaml<6.0,>=3.13 in /anaconda/envs/azureml_py36/lib/python3.6/site-packages (from cortex-certifai-engine==1.3.2) (5.1.2)\n",
      "Requirement already satisfied: python-dateutil>=2.5.0 in /anaconda/envs/azureml_py36/lib/python3.6/site-packages (from pandas<=1.0.3,>=0.23.4->cortex-certifai-engine==1.3.2) (2.8.1)\n",
      "Requirement already satisfied: pytz>=2011k in /anaconda/envs/azureml_py36/lib/python3.6/site-packages (from pandas<=1.0.3,>=0.23.4->cortex-certifai-engine==1.3.2) (2019.3)\n",
      "Requirement already satisfied: pyasn1>=0.1.3 in /anaconda/envs/azureml_py36/lib/python3.6/site-packages (from rsa<5.0,>=4.0->cortex-certifai-engine==1.3.2) (0.4.8)\n",
      "Requirement already satisfied: six>=1.5 in /anaconda/envs/azureml_py36/lib/python3.6/site-packages (from python-dateutil>=2.5.0->pandas<=1.0.3,>=0.23.4->cortex-certifai-engine==1.3.2) (1.12.0)\n",
      "Building wheels for collected packages: cortex-certifai-engine\n",
      "  Building wheel for cortex-certifai-engine (setup.py) ... \u001b[?25ldone\n",
      "\u001b[?25h  Created wheel for cortex-certifai-engine: filename=cortex_certifai_engine-1.3.2-py3-none-any.whl size=2251166 sha256=9c6924e4cefa0b65f76faab6c9193945a4d0d27006d26035cd5f6cc5669e0cf6\n",
      "  Stored in directory: /home/azureuser/.cache/pip/wheels/2d/f3/04/1b70e61aab87892c25c611e30362acd0a6271a4bb46f562fee\n",
      "Successfully built cortex-certifai-engine\n",
      "Installing collected packages: cortex-certifai-engine\n",
      "  Attempting uninstall: cortex-certifai-engine\n",
      "    Found existing installation: cortex-certifai-engine 1.3.2\n",
      "    Uninstalling cortex-certifai-engine-1.3.2:\n",
      "      Successfully uninstalled cortex-certifai-engine-1.3.2\n",
      "Successfully installed cortex-certifai-engine-1.3.2\n"
     ]
    }
   ],
   "source": [
    "!find $certifai_toolkit_path/packages/all       -type f ! -name \"*console-*\" ! -name \"*client-*\" | xargs -I % sh -c 'pip install % ' ;\n",
    "!find $certifai_toolkit_path/packages/python3.6 -type f   -name \"*engine-*\"                      | xargs -I % sh -c 'pip install % ' ;\n"
   ]
  },
  {
   "cell_type": "code",
   "execution_count": 23,
   "metadata": {},
   "outputs": [
    {
     "data": {
      "text/plain": [
       "'1.3.2'"
      ]
     },
     "execution_count": 23,
     "metadata": {},
     "output_type": "execute_result"
    }
   ],
   "source": [
    "# make sure certifai package was installed correctly\n",
    "from certifai.scanner.version import get_version\n",
    "get_version()"
   ]
  },
  {
   "cell_type": "markdown",
   "metadata": {},
   "source": [
    "### Using Cortex Certifai python-package to launch a scan"
   ]
  },
  {
   "cell_type": "code",
   "execution_count": 24,
   "metadata": {},
   "outputs": [],
   "source": [
    "# necessary imports for creating a scan\n",
    "\n",
    "from certifai.scanner.builder import (CertifaiScanBuilder, CertifaiModel, CertifaiModelMetric,\n",
    "                                      CertifaiDataset, CertifaiGroupingFeature, CertifaiDatasetSource,\n",
    "                                      CertifaiPredictionTask, CertifaiTaskOutcomes, CertifaiOutcomeValue)\n",
    "from certifai.scanner.report_utils import scores, construct_scores_dataframe\n",
    "\n"
   ]
  },
  {
   "cell_type": "markdown",
   "metadata": {},
   "source": [
    "### define cortex certifai task type\n",
    "\n",
    "- `CertifaiTaskOutcomes` : cortex certifai supports classification as well as regression models. here we have an example of binary-classification (e.g. predict whether loan should be granted or not)\n",
    "- `CertifaiOutcomeValue` : define the different outcomes possible from the model predictions. here we have a model that predicts either 1(loan granted) or 2(loan denied)\n",
    "\n",
    "**Note**: Please refer to [Certifai Api Docs](https://cognitivescale.github.io/cortex-certifai/certifai-api-ref/certifai.scanner.builder.html) for more details"
   ]
  },
  {
   "cell_type": "code",
   "execution_count": 25,
   "metadata": {},
   "outputs": [],
   "source": [
    "# Create the scan object from scratch using the ScanBuilder class with tasks and outcomes\n",
    "\n",
    "# First define the possible prediction outcomes\n",
    "task = CertifaiPredictionTask(CertifaiTaskOutcomes.classification(\n",
    "    [\n",
    "        CertifaiOutcomeValue(1, name='Loan granted', favorable=True),\n",
    "        CertifaiOutcomeValue(2, name='Loan denied')\n",
    "    ]),\n",
    "    prediction_description='Determine whether a loan should be granted')\n",
    "\n",
    "#  create a certifai scan object and add the certifai task created above\n",
    "scan = CertifaiScanBuilder.create('model_auth_demo',\n",
    "                                  prediction_task=task)\n"
   ]
  },
  {
   "cell_type": "markdown",
   "metadata": {},
   "source": [
    "### add logistic and svm models (created above) to scan object"
   ]
  },
  {
   "cell_type": "code",
   "execution_count": 26,
   "metadata": {},
   "outputs": [],
   "source": [
    "# Create a Certifai Model Object using the web service (from earlier) by passing the deployed web service url\n",
    "first_model = CertifaiModel('SVM',\n",
    "                            predict_endpoint=service_svm_uri)\n",
    "scan.add_model(first_model)\n",
    "\n",
    "second_model = CertifaiModel('logistic',\n",
    "                            predict_endpoint=service_logistic_uri)\n",
    "scan.add_model(second_model)\n",
    "\n",
    "# Add corresponding model headers for service authentication and content-type\n",
    "\n",
    "# add the default headers applicable to all models\n",
    "scan.add_model_header(header_name='Content-Type',header_value='application/json')\n",
    "\n",
    "# add defined headers corresponding to auth keys for respective model services\n",
    "scan.add_model_header(header_name='Authorization', header_value=f'Bearer {service_svm_keys[0]}', model_id='SVM')\n",
    "scan.add_model_header(header_name='Authorization', header_value=f'Bearer {service_logistic_keys[0]}', model_id='logistic')\n",
    "\n"
   ]
  },
  {
   "cell_type": "markdown",
   "metadata": {},
   "source": [
    "### add the evaluation dataset to scan object\n",
    "\n",
    "- `evaluation dataset` dataset to be used by cortex certifai to evaluate the model against"
   ]
  },
  {
   "cell_type": "code",
   "execution_count": 27,
   "metadata": {},
   "outputs": [],
   "source": [
    "# create an evaluation object and pass the evaluation dataset(csv) here \n",
    "german_credit_eval_data_file = \"data/german_credit_eval.csv\"\n",
    "eval_dataset = CertifaiDataset('evaluation',\n",
    "                               CertifaiDatasetSource.csv(german_credit_eval_data_file))\n",
    "scan.add_dataset(eval_dataset)"
   ]
  },
  {
   "cell_type": "markdown",
   "metadata": {},
   "source": [
    "### evaluating model fairness \n",
    "\n",
    "- add `fairness` as evaluation type to scan object\n",
    "- create an `evaluation_dataset_id` to refer to added evaluation datset"
   ]
  },
  {
   "cell_type": "code",
   "execution_count": 28,
   "metadata": {},
   "outputs": [],
   "source": [
    "# Setup an evaluation for fairness on the above dataset using the model\n",
    "# We'll look at disparity between groups defined by marital status and age\n",
    "scan.add_fairness_grouping_feature(CertifaiGroupingFeature('age'))\n",
    "scan.add_fairness_grouping_feature(CertifaiGroupingFeature('status'))\n",
    "scan.add_evaluation_type('fairness')\n",
    "scan.evaluation_dataset_id = 'evaluation'"
   ]
  },
  {
   "cell_type": "code",
   "execution_count": 29,
   "metadata": {},
   "outputs": [],
   "source": [
    "# Because the dataset contains a ground truth outcome column which the model does not\n",
    "# expect to receive as input we need to state that in the dataset schema (since it cannot\n",
    "# be inferred from the CSV)\n",
    "scan.dataset_schema.outcome_feature_name = 'outcome'"
   ]
  },
  {
   "cell_type": "code",
   "execution_count": 30,
   "metadata": {},
   "outputs": [
    {
     "name": "stdout",
     "output_type": "stream",
     "text": [
      "Starting scan with model_use_case_id: 'model_auth_demo' and scan_id: 'cbbda31ae5dc'\n",
      "[--------------------] 2020-07-21 01:56:15.288717 - 0 of 2 reports (0.0% complete) - Running fairness evaluation for model: SVM\n"
     ]
    },
    {
     "name": "stderr",
     "output_type": "stream",
     "text": [
      "2020-07-21 01:56:15,328 root   WARNING  Insufficient examples of some fairness classes to guarantee convergence (smallest class size is for 'male : divorced/separated' with 50 samples)\n",
      "2020-07-21 01:57:56,222 root   WARNING  Examples of protected class (8, 'male : divorced/separated') exhausted before convergence after 50 samples\n",
      "2020-07-21 01:58:48,525 root   WARNING  Examples of protected class (8, 'male : married/widowed') exhausted before convergence after 92 samples\n",
      "2020-07-21 02:00:26,667 root   WARNING  Examples of protected class (12, '<= 25 years') exhausted before convergence after 190 samples\n",
      "2020-07-21 02:02:05,822 root   WARNING  Examples of protected class (8, 'female : divorced/separated/married') exhausted before convergence after 310 samples\n",
      "2020-07-21 02:02:15,451 root   WARNING  Examples of protected class (12, '> 25 years') exhausted before convergence after 809 samples\n",
      "2020-07-21 02:02:15,452 root   WARNING  Examples of protected class (8, 'male : single') exhausted before convergence after 547 samples\n"
     ]
    },
    {
     "name": "stdout",
     "output_type": "stream",
     "text": [
      "[##########----------] 2020-07-21 02:02:27.510963 - 1 of 2 reports (50.0% complete) - Running fairness evaluation for model: logistic\n"
     ]
    },
    {
     "name": "stderr",
     "output_type": "stream",
     "text": [
      "2020-07-21 02:02:27,564 root   WARNING  Insufficient examples of some fairness classes to guarantee convergence (smallest class size is for 'male : divorced/separated' with 50 samples)\n",
      "2020-07-21 02:04:03,739 root   WARNING  Examples of protected class (8, 'male : divorced/separated') exhausted before convergence after 50 samples\n",
      "2020-07-21 02:04:35,828 root   WARNING  Examples of protected class (8, 'male : married/widowed') exhausted before convergence after 92 samples\n",
      "2020-07-21 02:05:09,689 root   WARNING  Examples of protected class (12, '<= 25 years') exhausted before convergence after 190 samples\n",
      "2020-07-21 02:06:14,438 root   WARNING  Examples of protected class (8, 'female : divorced/separated/married') exhausted before convergence after 310 samples\n",
      "2020-07-21 02:06:23,520 root   WARNING  Examples of protected class (12, '> 25 years') exhausted before convergence after 809 samples\n",
      "2020-07-21 02:06:23,521 root   WARNING  Examples of protected class (8, 'male : single') exhausted before convergence after 547 samples\n"
     ]
    },
    {
     "name": "stdout",
     "output_type": "stream",
     "text": [
      "[####################] 2020-07-21 02:06:34.577231 - 2 of 2 reports (100.0% complete) - Completed all evaluations\n"
     ]
    }
   ],
   "source": [
    "# Run the scan.\n",
    "# By default this will write the results into individual report files (one per model and evaluation\n",
    "# type) in the 'reports' directory relative to the Jupyter root.  This may be disabled by specifying\n",
    "# `write_reports=False` as below\n",
    "# The result is a dictionary of dictionaries of reports.  The top level dict key is the evaluation type\n",
    "# and the second level key is model id.\n",
    "# Reports saved as JSON (which `write_reports=True` will do) may be visualized in the console app\n",
    "result = scan.run(write_reports=False)"
   ]
  },
  {
   "cell_type": "markdown",
   "metadata": {},
   "source": [
    "## Analayze Fairness Results"
   ]
  },
  {
   "cell_type": "code",
   "execution_count": 31,
   "metadata": {},
   "outputs": [
    {
     "name": "stdout",
     "output_type": "stream",
     "text": [
      "<class 'list'>\n"
     ]
    },
    {
     "data": {
      "text/html": [
       "<div>\n",
       "<style scoped>\n",
       "    .dataframe tbody tr th:only-of-type {\n",
       "        vertical-align: middle;\n",
       "    }\n",
       "\n",
       "    .dataframe tbody tr th {\n",
       "        vertical-align: top;\n",
       "    }\n",
       "\n",
       "    .dataframe thead th {\n",
       "        text-align: right;\n",
       "    }\n",
       "</style>\n",
       "<table border=\"1\" class=\"dataframe\">\n",
       "  <thead>\n",
       "    <tr style=\"text-align: right;\">\n",
       "      <th></th>\n",
       "      <th>context</th>\n",
       "      <th>type</th>\n",
       "      <th>overall fairness</th>\n",
       "      <th>Feature (age)</th>\n",
       "      <th>Group details (&lt;= 25 years)</th>\n",
       "      <th>Group details (&gt; 25 years)</th>\n",
       "      <th>Feature (status)</th>\n",
       "      <th>Group details (female : divorced/separated/married)</th>\n",
       "      <th>Group details (male : divorced/separated)</th>\n",
       "      <th>Group details (male : married/widowed)</th>\n",
       "      <th>Group details (male : single)</th>\n",
       "    </tr>\n",
       "  </thead>\n",
       "  <tbody>\n",
       "    <tr>\n",
       "      <th>SVM (burden)</th>\n",
       "      <td>SVM</td>\n",
       "      <td>burden</td>\n",
       "      <td>69.030036</td>\n",
       "      <td>73.747840</td>\n",
       "      <td>0.062284</td>\n",
       "      <td>0.036280</td>\n",
       "      <td>71.047064</td>\n",
       "      <td>0.058785</td>\n",
       "      <td>0.053417</td>\n",
       "      <td>0.020149</td>\n",
       "      <td>0.033345</td>\n",
       "    </tr>\n",
       "    <tr>\n",
       "      <th>logistic (burden)</th>\n",
       "      <td>logistic</td>\n",
       "      <td>burden</td>\n",
       "      <td>66.978448</td>\n",
       "      <td>68.697389</td>\n",
       "      <td>0.069096</td>\n",
       "      <td>0.036207</td>\n",
       "      <td>72.254233</td>\n",
       "      <td>0.063450</td>\n",
       "      <td>0.064755</td>\n",
       "      <td>0.027560</td>\n",
       "      <td>0.031489</td>\n",
       "    </tr>\n",
       "  </tbody>\n",
       "</table>\n",
       "</div>"
      ],
      "text/plain": [
       "                    context    type  overall fairness  Feature (age)  \\\n",
       "SVM (burden)            SVM  burden         69.030036      73.747840   \n",
       "logistic (burden)  logistic  burden         66.978448      68.697389   \n",
       "\n",
       "                   Group details (<= 25 years)  Group details (> 25 years)  \\\n",
       "SVM (burden)                          0.062284                    0.036280   \n",
       "logistic (burden)                     0.069096                    0.036207   \n",
       "\n",
       "                   Feature (status)  \\\n",
       "SVM (burden)              71.047064   \n",
       "logistic (burden)         72.254233   \n",
       "\n",
       "                   Group details (female : divorced/separated/married)  \\\n",
       "SVM (burden)                                                0.058785     \n",
       "logistic (burden)                                           0.063450     \n",
       "\n",
       "                   Group details (male : divorced/separated)  \\\n",
       "SVM (burden)                                        0.053417   \n",
       "logistic (burden)                                   0.064755   \n",
       "\n",
       "                   Group details (male : married/widowed)  \\\n",
       "SVM (burden)                                     0.020149   \n",
       "logistic (burden)                                0.027560   \n",
       "\n",
       "                   Group details (male : single)  \n",
       "SVM (burden)                            0.033345  \n",
       "logistic (burden)                       0.031489  "
      ]
     },
     "metadata": {},
     "output_type": "display_data"
    }
   ],
   "source": [
    "# The result is a dictionary keyed on analysis, containing reports keyed on model id\n",
    "# The console app is the recommended way to view these, by saving the results to file\n",
    "# (see previous cell), but programmatic analysis of the result here is also possible\n",
    "print(type(result['fairness']['SVM']['fairness']['secondary_scores']))\n",
    "df = construct_scores_dataframe(scores('fairness', result), include_confidence=False)\n",
    "display(df)"
   ]
  },
  {
   "cell_type": "markdown",
   "metadata": {},
   "source": [
    "##  fairness by model"
   ]
  },
  {
   "cell_type": "code",
   "execution_count": 32,
   "metadata": {},
   "outputs": [
    {
     "data": {
      "text/html": [
       "<div>\n",
       "<style scoped>\n",
       "    .dataframe tbody tr th:only-of-type {\n",
       "        vertical-align: middle;\n",
       "    }\n",
       "\n",
       "    .dataframe tbody tr th {\n",
       "        vertical-align: top;\n",
       "    }\n",
       "\n",
       "    .dataframe thead th {\n",
       "        text-align: right;\n",
       "    }\n",
       "</style>\n",
       "<table border=\"1\" class=\"dataframe\">\n",
       "  <thead>\n",
       "    <tr style=\"text-align: right;\">\n",
       "      <th></th>\n",
       "      <th>context</th>\n",
       "      <th>type</th>\n",
       "      <th>overall fairness</th>\n",
       "      <th>overall fairness lower bound</th>\n",
       "      <th>overall fairness upper bound</th>\n",
       "      <th>Feature (age)</th>\n",
       "      <th>Feature (age) lower bound</th>\n",
       "      <th>Feature (age) upper bound</th>\n",
       "      <th>Group details (&lt;= 25 years)</th>\n",
       "      <th>Group details (&lt;= 25 years) lower bound</th>\n",
       "      <th>...</th>\n",
       "      <th>Group details (female : divorced/separated/married) upper bound</th>\n",
       "      <th>Group details (male : divorced/separated)</th>\n",
       "      <th>Group details (male : divorced/separated) lower bound</th>\n",
       "      <th>Group details (male : divorced/separated) upper bound</th>\n",
       "      <th>Group details (male : married/widowed)</th>\n",
       "      <th>Group details (male : married/widowed) lower bound</th>\n",
       "      <th>Group details (male : married/widowed) upper bound</th>\n",
       "      <th>Group details (male : single)</th>\n",
       "      <th>Group details (male : single) lower bound</th>\n",
       "      <th>Group details (male : single) upper bound</th>\n",
       "    </tr>\n",
       "  </thead>\n",
       "  <tbody>\n",
       "    <tr>\n",
       "      <th>SVM (burden)</th>\n",
       "      <td>SVM</td>\n",
       "      <td>burden</td>\n",
       "      <td>69.030036</td>\n",
       "      <td>60.983223</td>\n",
       "      <td>76.607462</td>\n",
       "      <td>73.747840</td>\n",
       "      <td>64.256675</td>\n",
       "      <td>85.185655</td>\n",
       "      <td>0.062284</td>\n",
       "      <td>0.050384</td>\n",
       "      <td>...</td>\n",
       "      <td>0.069409</td>\n",
       "      <td>0.053417</td>\n",
       "      <td>0.030193</td>\n",
       "      <td>0.080017</td>\n",
       "      <td>0.020149</td>\n",
       "      <td>0.011776</td>\n",
       "      <td>0.029644</td>\n",
       "      <td>0.033345</td>\n",
       "      <td>0.027787</td>\n",
       "      <td>0.039943</td>\n",
       "    </tr>\n",
       "    <tr>\n",
       "      <th>logistic (burden)</th>\n",
       "      <td>logistic</td>\n",
       "      <td>burden</td>\n",
       "      <td>66.978448</td>\n",
       "      <td>58.956600</td>\n",
       "      <td>74.526735</td>\n",
       "      <td>68.697389</td>\n",
       "      <td>59.575041</td>\n",
       "      <td>78.855027</td>\n",
       "      <td>0.069096</td>\n",
       "      <td>0.057063</td>\n",
       "      <td>...</td>\n",
       "      <td>0.084936</td>\n",
       "      <td>0.064755</td>\n",
       "      <td>0.042007</td>\n",
       "      <td>0.096314</td>\n",
       "      <td>0.027560</td>\n",
       "      <td>0.017049</td>\n",
       "      <td>0.042120</td>\n",
       "      <td>0.031489</td>\n",
       "      <td>0.026348</td>\n",
       "      <td>0.042765</td>\n",
       "    </tr>\n",
       "  </tbody>\n",
       "</table>\n",
       "<p>2 rows × 29 columns</p>\n",
       "</div>"
      ],
      "text/plain": [
       "                    context    type  overall fairness  \\\n",
       "SVM (burden)            SVM  burden         69.030036   \n",
       "logistic (burden)  logistic  burden         66.978448   \n",
       "\n",
       "                   overall fairness lower bound  overall fairness upper bound  \\\n",
       "SVM (burden)                          60.983223                     76.607462   \n",
       "logistic (burden)                     58.956600                     74.526735   \n",
       "\n",
       "                   Feature (age)  Feature (age) lower bound  \\\n",
       "SVM (burden)           73.747840                  64.256675   \n",
       "logistic (burden)      68.697389                  59.575041   \n",
       "\n",
       "                   Feature (age) upper bound  Group details (<= 25 years)  \\\n",
       "SVM (burden)                       85.185655                     0.062284   \n",
       "logistic (burden)                  78.855027                     0.069096   \n",
       "\n",
       "                   Group details (<= 25 years) lower bound  \\\n",
       "SVM (burden)                                      0.050384   \n",
       "logistic (burden)                                 0.057063   \n",
       "\n",
       "                                     ...                      \\\n",
       "SVM (burden)                         ...                       \n",
       "logistic (burden)                    ...                       \n",
       "\n",
       "                   Group details (female : divorced/separated/married) upper bound  \\\n",
       "SVM (burden)                                                0.069409                 \n",
       "logistic (burden)                                           0.084936                 \n",
       "\n",
       "                   Group details (male : divorced/separated)  \\\n",
       "SVM (burden)                                        0.053417   \n",
       "logistic (burden)                                   0.064755   \n",
       "\n",
       "                   Group details (male : divorced/separated) lower bound  \\\n",
       "SVM (burden)                                                0.030193       \n",
       "logistic (burden)                                           0.042007       \n",
       "\n",
       "                   Group details (male : divorced/separated) upper bound  \\\n",
       "SVM (burden)                                                0.080017       \n",
       "logistic (burden)                                           0.096314       \n",
       "\n",
       "                   Group details (male : married/widowed)  \\\n",
       "SVM (burden)                                     0.020149   \n",
       "logistic (burden)                                0.027560   \n",
       "\n",
       "                   Group details (male : married/widowed) lower bound  \\\n",
       "SVM (burden)                                                0.011776    \n",
       "logistic (burden)                                           0.017049    \n",
       "\n",
       "                   Group details (male : married/widowed) upper bound  \\\n",
       "SVM (burden)                                                0.029644    \n",
       "logistic (burden)                                           0.042120    \n",
       "\n",
       "                   Group details (male : single)  \\\n",
       "SVM (burden)                            0.033345   \n",
       "logistic (burden)                       0.031489   \n",
       "\n",
       "                   Group details (male : single) lower bound  \\\n",
       "SVM (burden)                                        0.027787   \n",
       "logistic (burden)                                   0.026348   \n",
       "\n",
       "                   Group details (male : single) upper bound  \n",
       "SVM (burden)                                        0.039943  \n",
       "logistic (burden)                                   0.042765  \n",
       "\n",
       "[2 rows x 29 columns]"
      ]
     },
     "metadata": {},
     "output_type": "display_data"
    },
    {
     "name": "stdout",
     "output_type": "stream",
     "text": [
      "\n",
      "\n"
     ]
    },
    {
     "data": {
      "image/png": "[encoded data removed]",
      "text/plain": [
       "<Figure size 864x288 with 1 Axes>"
      ]
     },
     "metadata": {
      "needs_background": "light"
     },
     "output_type": "display_data"
    }
   ],
   "source": [
    "# Many scores also come with 95% confidence bounds, which we omitted above for the sake of brevity, but\n",
    "# we can include those also.  In the example here we include the confidence bounds but only display the scores\n",
    "# to a reduced level of detail to keep a smallish table for display purposes\n",
    "df = construct_scores_dataframe(scores('fairness', result, max_depth=1))\n",
    "display(df)\n",
    "\n",
    "print(\"\\n\")\n",
    "\n",
    "# Let's chart the fairness measure by feature for each model together with its confidence bounds for\n",
    "# easier visual comparison:\n",
    "%matplotlib inline\n",
    "import matplotlib.pyplot as plt\n",
    "\n",
    "features = ['Feature (status)', 'Feature (age)']\n",
    "feature_scores = df[features]\n",
    "feature_lower_bounds = df[[f + ' lower bound' for f in features]]\n",
    "feature_upper_bounds = df[[f + ' upper bound' for f in features]]\n",
    "\n",
    "fig, ax = plt.subplots(figsize=[12,4])\n",
    "ax.set_title('Feature fairness by model', fontsize=20)\n",
    "colors = ['tab:blue', 'tab:orange', 'tab:green', 'tab:red', 'tab:pink']\n",
    "width = 0.4\n",
    "\n",
    "ax.set_xticks(np.arange(len(features))+width)\n",
    "ax.set_xticklabels(features)\n",
    "\n",
    "for idx in range(len(df)):\n",
    "    central_values = list(feature_scores.iloc[idx])\n",
    "    lower_bounds = list(feature_lower_bounds.iloc[idx])\n",
    "    upper_bounds = list(feature_upper_bounds.iloc[idx])\n",
    "    lower_errors = [central_values[i] - lower_bounds[i] for i in range(len(central_values))]\n",
    "    upper_errors = [upper_bounds[i] - central_values[i] for i in range(len(central_values))]\n",
    "\n",
    "    ax.bar([width/2+idx*width+f_idx for f_idx in range(len(features))],\n",
    "            central_values,\n",
    "            width,\n",
    "            yerr=[lower_errors, upper_errors],\n",
    "            color=colors[idx],\n",
    "            label=df.index[idx],\n",
    "            capsize=10)\n",
    "\n",
    "fig.legend(fontsize=14, bbox_to_anchor=(1.1,.6))\n",
    "fig.tight_layout()\n",
    "fig.subplots_adjust(right=0.8) \n",
    "plt.show()"
   ]
  },
  {
   "cell_type": "markdown",
   "metadata": {},
   "source": [
    "\n",
    "## Resource Cleanup\n"
   ]
  },
  {
   "cell_type": "markdown",
   "metadata": {},
   "source": [
    "- In this tutorial we\n",
    " - created and registered `logistic_model_azure` and `svm_model_azure` models to our Azure workspace\n",
    " - created `german-credit-logistic-service` and `german-credit-svm-service` ACI (Azure Container Instance) webservices \n",
    "\n",
    "- Once Cortex Certifai evaluation is complete, make sure to clear all azure resources in order to avoid cost\n",
    "- Follow the [Azure Ml resource cleanup docs][1] to remove all resources created above\n",
    "\n",
    "[1]:https://docs.microsoft.com/en-us/azure/machine-learning/tutorial-1st-experiment-sdk-train#clean-up-resources"
   ]
  },
  {
   "cell_type": "code",
   "execution_count": null,
   "metadata": {},
   "outputs": [],
   "source": []
  }
 ],
 "metadata": {
  "kernelspec": {
   "display_name": "Python 3",
   "language": "python",
   "name": "python3"
  },
  "language_info": {
   "codemirror_mode": {
    "name": "ipython",
    "version": 3
   },
   "file_extension": ".py",
   "mimetype": "text/x-python",
   "name": "python",
   "nbconvert_exporter": "python",
   "pygments_lexer": "ipython3",
   "version": "3.6.9"
  }
 },
 "nbformat": 4,
 "nbformat_minor": 4
}
